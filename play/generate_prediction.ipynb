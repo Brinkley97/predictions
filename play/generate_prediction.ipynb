{
 "cells": [
  {
   "cell_type": "markdown",
   "metadata": {},
   "source": [
    "# Generate Prompts using Open Source LLMs"
   ]
  },
  {
   "cell_type": "code",
   "execution_count": 1,
   "metadata": {},
   "outputs": [
    {
     "name": "stdout",
     "output_type": "stream",
     "text": [
      "This notebook dir is located /Users/brinkley97/Documents/development/lab-uf_data_studio/predicting/predictions_repo/play\n"
     ]
    }
   ],
   "source": [
    "import os\n",
    "import sys\n",
    "# Get the current working directory of the notebook\n",
    "notebook_dir = os.getcwd()\n",
    "print(f\"This notebook dir is located {notebook_dir}\")\n",
    "# Add the parent directory to the system path\n",
    "sys.path.append(os.path.join(notebook_dir, '../'))\n",
    "\n",
    "from text_generation_models import LlamaTextGenerationModel"
   ]
  },
  {
   "cell_type": "code",
   "execution_count": 2,
   "metadata": {},
   "outputs": [],
   "source": [
    "prediction_template = \"\"\"Generate me a prediction in the format of: [person] predicts that the\n",
    "[prediction attribute and event] will [prediction outcome] in\n",
    "[forecast of when prediction will come to fruition] and [include today's date as a time stamp]\n",
    "of prediction. An example is [Paul] predicts that the [stock A] will [rise] in\n",
    "[quarter 1 of 2025] and [include today's date as a time stamp of prediction].\n",
    "\"\"\"\n"
   ]
  },
  {
   "cell_type": "code",
   "execution_count": 3,
   "metadata": {},
   "outputs": [
    {
     "name": "stdout",
     "output_type": "stream",
     "text": [
      "Elon Musk predicts that the adoption of electric vehicles will surpass internal combustion engine vehicles in the global market by the end of 2027 and 16 December 2024.\n"
     ]
    }
   ],
   "source": [
    "# Constants for model names\n",
    "LLAMA3_70B_INSTRUCT = \"llama-3.1-70b-versatile\"\n",
    "LLAMA3_8B_INSTRUCT = \"llama3.1-8b-instant\"\n",
    "DEFAULT_MODEL = LLAMA3_70B_INSTRUCT\n",
    "\n",
    "# Create an instance of the LlamaModel\n",
    "llama_model = LlamaTextGenerationModel(\n",
    "    api_key=\"\",\n",
    "    model_name=DEFAULT_MODEL,\n",
    "    prompt_template=prediction_template,\n",
    "    temperature=0.5,\n",
    "    top_p=0.9,\n",
    ")\n",
    "prediction_prompt = llama_model.completion()\n",
    "print(prediction_prompt)"
   ]
  },
  {
   "cell_type": "code",
   "execution_count": null,
   "metadata": {},
   "outputs": [],
   "source": []
  }
 ],
 "metadata": {
  "kernelspec": {
   "display_name": "deep_learning",
   "language": "python",
   "name": "python3"
  },
  "language_info": {
   "codemirror_mode": {
    "name": "ipython",
    "version": 3
   },
   "file_extension": ".py",
   "mimetype": "text/x-python",
   "name": "python",
   "nbconvert_exporter": "python",
   "pygments_lexer": "ipython3",
   "version": "3.11.0"
  }
 },
 "nbformat": 4,
 "nbformat_minor": 2
}
