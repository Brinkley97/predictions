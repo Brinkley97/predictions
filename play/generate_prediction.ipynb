{
 "cells": [
  {
   "cell_type": "markdown",
   "metadata": {},
   "source": [
    "# Generate Prompts using Open Source LLMs"
   ]
  },
  {
   "cell_type": "code",
   "execution_count": 1,
   "metadata": {},
   "outputs": [
    {
     "name": "stdout",
     "output_type": "stream",
     "text": [
      "This notebook dir is located /Users/brinkley97/Documents/development/lab-uf_data_studio/predicting/predictions_repo/play\n"
     ]
    }
   ],
   "source": [
    "import os\n",
    "import sys\n",
    "# Get the current working directory of the notebook\n",
    "notebook_dir = os.getcwd()\n",
    "print(f\"This notebook dir is located {notebook_dir}\")\n",
    "# Add the parent directory to the system path\n",
    "sys.path.append(os.path.join(notebook_dir, '../'))\n",
    "\n",
    "from text_generation_models import LlamaTextGenerationModel"
   ]
  },
  {
   "cell_type": "code",
   "execution_count": 18,
   "metadata": {},
   "outputs": [],
   "source": [
    "prediction_template = \"\"\"My variables are\n",
    "- $\\hat{y}$, prediction\n",
    "    - $\\hat{y}_{s}$, source that predicted $\\hat{y}$\n",
    "        - Source can be person, organization, and any type of entity.\n",
    "    - $\\hat{y}_{t}$, time when $\\hat{y}$ was made\n",
    "        - Time is the exact moment that can be measured in day, hour, minutes, seconds, etc.\n",
    "    - $\\hat{y}_{f}$, forecast time when $\\hat{y}$ is expected to come to fruition\n",
    "        - Forecast can be from seconds to decades in the future.\n",
    "        - How far to go out? Or where to stop?\n",
    "    - $\\hat{y}_a$, prediction attribute\n",
    "        - Financial based attributes such as stock price, net profit, revenue\n",
    "    - $\\hat{y}_m$, prediction metric outcome\n",
    "        - How much will the  $\\hat{y}_a$ rise/increase or fall/decrease\n",
    "    - $\\hat{y}_v$, future verb tense\n",
    "        - A verb that is associated with the future such as will, would, be going to, should, etc.\n",
    "\n",
    "- Template: On [ $\\hat{y}_{t}$,], [$\\hat{y}_{s}$ person name] predicts that the [ $\\hat{y}_a$] at [ $\\hat{y}_s$ company name] [ $\\hat{y}_v$] [ $\\hat{y}_m$] by [$\\hat{y}_m$, ] in [ $\\hat{y}_{f}$]\n",
    "\n",
    "Suppose you are the Chief Financial Officer at a publicly traded company on the US Stock Exchange. Please generate a company-based financial prediction that will occur in the future following the requirements below:\n",
    "\n",
    "1. Should be based on real-world earnings reports\n",
    "2. Only a simple sentence (prediction) (and NOT compounding using \"and\" or \"or\")\n",
    "3. Should be either positive, negative, or neutral for metric outcome\n",
    "4. Suppose the time when $\\hat{y}$ was made is during any earning season\n",
    "5. Include attributes ($\\hat{y}_a$) like stock price, net profit, revenue, etc\n",
    "6. Include at least 5 stocks from all industries such as technology, energy, etc\n",
    "7. Should diversity the metric outcome\n",
    "8. Should use any future tense word such as will, may, should, could, etc and phrases such as high chance/probability/degree of...\n",
    "9. Should have a forecast time when $\\hat{y}$ is expected to come to fruition ($\\hat{y}_{f}$) between 2025 to 2030.\n",
    "10. Diversity the name ($\\hat{y}_{s}$)\n",
    "11. Should use synonyms of predicts such as forecasts, speculates, forsee, envision, etc\n",
    "\n",
    "- Examples:\n",
    "    1. On [Monday, December 16, 2024], [Detravious]forecasts that the [revenue] at [Apple] [will] [rise] by [8% to $120 per share] in [Q1 of 2025].\n",
    "    2. On [Monday, December 16, 2024], [Detravious] predicts that the [net profit] at [Microsoft] [should] [decrease] by [1% to $180 per share] in [Q3 of 2027].\n",
    "    3. On [Monday, August 14, 2023], [Raj Patel] envision that the [stock price] at [Tesla (TSLA)] [should] [rise] by [20% to $1,200 per share] in [Q4 of 2025].\n",
    "    4. On [Wednesday, May 10, 2023], [Jackson Lee] forsees that the [earnings per share (EPS)] at [Chevron (CVX)] [will probably] [increase] by [10% to $15.50 per share] in [Q3 of 2026].\n",
    "    5. On [Friday, January 27, 2023], [Ava Patel] speculates that the [dividend yield] at [3M (MMM)] [will likely] [remain] at [4.2%] in [Q2 of 2027].\n",
    "    6. On [Tuesday, July 18, 2023], [Ethan Hall] predicts that the [free cash flow] at [Cisco Systems (CSCO)] [may] [increase] by [10% to $12 billion] in [FY 2027].\n",
    "    7. On [Monday, March 20, 2023], [Mia Martin] speculates that the [gross margin] at [Procter & Gamble (PG)] [should] [expand] by [2% to 50%] in [FY 2028].\n",
    "    8. On [Wednesday, September 13, 2023], [Julian White] forecasts that the [return on assets (ROA)] at [Visa (V)] [has a high probability of] [improving] by [3% to 18%] in [FY 2029].\n",
    "    9. On [Friday, April 14, 2023], [Hannah Taylor] predicts that the [operating margin] at [Johnson & Johnson (JNJ)] [will likely] [expand] by [1% to 25%] in [FY 2028].\n",
    "    10. On [Thursday, June 15, 2023], [Logan Brooks] envisions that the [revenue] at [Alphabet (GOOGL)] [should] [rise] by [15% to $250 billion] in [Q1 of 2028].\n",
    "\n",
    "\"\"\""
   ]
  },
  {
   "cell_type": "code",
   "execution_count": 19,
   "metadata": {},
   "outputs": [
    {
     "name": "stdout",
     "output_type": "stream",
     "text": [
      "Here are ten company-based financial predictions that meet the requirements:\n",
      "\n",
      "1. On [Tuesday, November 12, 2024], [Emily Chen] forecasts that the [stock price] at [Amazon (AMZN)] [will likely] [rise] by [15% to $1,500 per share] in [Q2 of 2026].\n",
      "2. On [Monday, August 19, 2024], [Liam Lee] predicts that the [net income] at [ExxonMobil (XOM)] [should] [decrease] by [5% to $10 billion] in [Q4 of 2025].\n",
      "3. On [Wednesday, May 22, 2024], [Ava Morales] envisions that the [revenue growth] at [NVIDIA (NVDA)] [will probably] [increase] by [20% to $15 billion] in [Q1 of 2027].\n",
      "4. On [Friday, January 26, 2024], [Ethan Kim] speculates that the [dividend payout ratio] at [Coca-Cola (KO)] [will likely] [remain] at [75%] in [Q2 of 2026].\n",
      "5. On [Tuesday, July 23, 2024], [Mia Sanchez] predicts that the [operating cash flow] at [UnitedHealth Group (UNH)] [may] [increase] by [12% to $20 billion] in [Q3 of 2027].\n",
      "6. On [Monday, March 25, 2024], [Julian Brown] forecasts that the [return on equity (ROE)] at [JPMorgan Chase (JPM)] [has a high probability of] [improving] by [4% to 15%] in [FY 2029].\n",
      "7. On [Wednesday, September 18, 2024], [Hannah Lee] predicts that the [gross margin] at [Procter & Gamble (PG)] [should] [expand] by [1% to 49%] in [FY 2028].\n",
      "8. On [Friday, April 19, 2024], [Logan Patel] envisions that the [revenue] at [Alphabet (GOOGL)] [will likely] [rise] by [18% to $280 billion] in [Q1 of 2029].\n",
      "9. On [Thursday, June 20, 2024], [Detravious Jackson] predicts that the [free cash flow] at [Cisco Systems (CSCO)] [may] [increase] by [12% to $15 billion] in [FY 2028].\n",
      "10. On [Monday, October 28, 2024], [Raj Desai] forecasts that the [earnings per share (EPS)] at [Microsoft (MSFT)] [will probably] [increase] by [10% to $10.50 per share] in [Q3 of 2027].\n"
     ]
    }
   ],
   "source": [
    "# Constants for model names\n",
    "LLAMA3_70B_INSTRUCT = \"llama-3.1-70b-versatile\"\n",
    "LLAMA3_8B_INSTRUCT = \"llama3.1-8b-instant\"\n",
    "DEFAULT_MODEL = LLAMA3_70B_INSTRUCT\n",
    "\n",
    "# Create an instance of the LlamaModel\n",
    "llama_model = LlamaTextGenerationModel(\n",
    "    model_name=DEFAULT_MODEL,\n",
    "    prompt_template=prediction_template,\n",
    "    temperature=0.5,\n",
    "    top_p=0.9,\n",
    ")\n",
    "prediction_prompt = llama_model.completion()\n",
    "print(prediction_prompt)"
   ]
  },
  {
   "cell_type": "code",
   "execution_count": null,
   "metadata": {},
   "outputs": [],
   "source": []
  }
 ],
 "metadata": {
  "kernelspec": {
   "display_name": "deep_learning",
   "language": "python",
   "name": "python3"
  },
  "language_info": {
   "codemirror_mode": {
    "name": "ipython",
    "version": 3
   },
   "file_extension": ".py",
   "mimetype": "text/x-python",
   "name": "python",
   "nbconvert_exporter": "python",
   "pygments_lexer": "ipython3",
   "version": "3.11.0"
  }
 },
 "nbformat": 4,
 "nbformat_minor": 2
}
