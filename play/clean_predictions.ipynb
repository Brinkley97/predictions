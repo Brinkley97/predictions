{
 "cells": [
  {
   "cell_type": "markdown",
   "metadata": {},
   "source": [
    "# Clean Predictions\n",
    "\n",
    "- **Goal:** Prediction Recognition\n",
    "- **Purpose:** To implement step 1 with sub steps of prediction recognition pipeline. See steps\n",
    "    - (2) Clean the generated predictions\n",
    "- **Misc:**\n",
    "    - `%load` and `%run` with cell magic: This allows us to get code from another notebook"
   ]
  },
  {
   "cell_type": "code",
   "execution_count": 1,
   "metadata": {},
   "outputs": [],
   "source": [
    "import os\n",
    "import sys\n",
    "\n",
    "# Get the current working directory of the notebook\n",
    "notebook_dir = os.getcwd()\n",
    "# Add the parent directory to the system path\n",
    "sys.path.append(os.path.join(notebook_dir, '../'))\n",
    "\n",
    "from clean_predictions import PredictionDataCleaner"
   ]
  },
  {
   "cell_type": "code",
   "execution_count": 2,
   "metadata": {},
   "outputs": [],
   "source": [
    "generate_predictions_notebook = 'generate_prediction.ipynb'\n",
    "%run $generate_predictions_notebook"
   ]
  },
  {
   "cell_type": "code",
   "execution_count": 3,
   "metadata": {},
   "outputs": [
    {
     "data": {
      "text/html": [
       "<div>\n",
       "<style scoped>\n",
       "    .dataframe tbody tr th:only-of-type {\n",
       "        vertical-align: middle;\n",
       "    }\n",
       "\n",
       "    .dataframe tbody tr th {\n",
       "        vertical-align: top;\n",
       "    }\n",
       "\n",
       "    .dataframe thead th {\n",
       "        text-align: right;\n",
       "    }\n",
       "</style>\n",
       "<table border=\"1\" class=\"dataframe\">\n",
       "  <thead>\n",
       "    <tr style=\"text-align: right;\">\n",
       "      <th></th>\n",
       "      <th>Base Predictions</th>\n",
       "    </tr>\n",
       "  </thead>\n",
       "  <tbody>\n",
       "    <tr>\n",
       "      <th>0</th>\n",
       "      <td>On [Monday, December 16, 2024], [Ava Lee] forecasts that the [net income] at [Microsoft (MSFT)] [will] [rise] by [12% to $25 billion] in [Q2 of 2026].</td>\n",
       "    </tr>\n",
       "    <tr>\n",
       "      <th>1</th>\n",
       "      <td>On [Tuesday, November 19, 2024], [Julian Hall] predicts that the [operating expenses] at [Chevron (CVX)] [should] [decrease] by [4% to $15 billion] in [Q3 of 2027].</td>\n",
       "    </tr>\n",
       "    <tr>\n",
       "      <th>2</th>\n",
       "      <td>On [Wednesday, October 23, 2024], [Mia Patel] envisions that the [stock price] at [Johnson &amp; Johnson (JNJ)] [will likely] [increase] by [15% to $180 per share] in [Q1 of 2028].</td>\n",
       "    </tr>\n",
       "    <tr>\n",
       "      <th>3</th>\n",
       "      <td>On [Thursday, September 19, 2024], [Logan White] predicts that the [research and development expenses] at [Procter &amp; Gamble (PG)] [may] [increase] by [6% to $3 billion] in [FY 2029].</td>\n",
       "    </tr>\n",
       "    <tr>\n",
       "      <th>4</th>\n",
       "      <td>On [Friday, August 16, 2024], [Hannah Brooks] forecasts that the [return on assets (ROA)] at [Cisco Systems (CSCO)] [has a high probability of] [improving] by [1% to 10%] in [Q4 of 2027].</td>\n",
       "    </tr>\n",
       "    <tr>\n",
       "      <th>5</th>\n",
       "      <td>On [Monday, July 22, 2024], [Detravious Martin] predicts that the [capital expenditures] at [3M (MMM)] [should] [decrease] by [2% to $1.5 billion] in [Q2 of 2028].</td>\n",
       "    </tr>\n",
       "    <tr>\n",
       "      <th>6</th>\n",
       "      <td>On [Tuesday, June 18, 2024], [Raj Taylor] envisions that the [gross profit margin] at [Visa (V)] [will likely] [expand] by [0.5% to 85%] in [Q3 of 2026].</td>\n",
       "    </tr>\n",
       "    <tr>\n",
       "      <th>7</th>\n",
       "      <td>On [Wednesday, May 15, 2024], [Ethan Patel] forsees that the [total debt] at [Mastercard (MA)] [will probably] [decrease] by [8% to $5 billion] in [Q1 of 2029].</td>\n",
       "    </tr>\n",
       "    <tr>\n",
       "      <th>8</th>\n",
       "      <td>On [Thursday, April 18, 2024], [Jackson Lee] predicts that the [earnings before interest and taxes (EBIT)] at [American Express (AXP)] [may] [increase] by [4% to $10 billion] in [FY 2028].</td>\n",
       "    </tr>\n",
       "    <tr>\n",
       "      <th>9</th>\n",
       "      <td>On [Friday, March 15, 2024], [Ava Lee] forecasts that the [free cash flow] at [Caterpillar (CAT)] [will] [rise] by [10% to $5 billion] in [Q2 of 2026].</td>\n",
       "    </tr>\n",
       "  </tbody>\n",
       "</table>\n",
       "</div>"
      ],
      "text/plain": [
       "                                                                                                                                                                               Base Predictions\n",
       "0                                        On [Monday, December 16, 2024], [Ava Lee] forecasts that the [net income] at [Microsoft (MSFT)] [will] [rise] by [12% to $25 billion] in [Q2 of 2026].\n",
       "1                          On [Tuesday, November 19, 2024], [Julian Hall] predicts that the [operating expenses] at [Chevron (CVX)] [should] [decrease] by [4% to $15 billion] in [Q3 of 2027].\n",
       "2              On [Wednesday, October 23, 2024], [Mia Patel] envisions that the [stock price] at [Johnson & Johnson (JNJ)] [will likely] [increase] by [15% to $180 per share] in [Q1 of 2028].\n",
       "3        On [Thursday, September 19, 2024], [Logan White] predicts that the [research and development expenses] at [Procter & Gamble (PG)] [may] [increase] by [6% to $3 billion] in [FY 2029].\n",
       "4   On [Friday, August 16, 2024], [Hannah Brooks] forecasts that the [return on assets (ROA)] at [Cisco Systems (CSCO)] [has a high probability of] [improving] by [1% to 10%] in [Q4 of 2027].\n",
       "5                           On [Monday, July 22, 2024], [Detravious Martin] predicts that the [capital expenditures] at [3M (MMM)] [should] [decrease] by [2% to $1.5 billion] in [Q2 of 2028].\n",
       "6                                     On [Tuesday, June 18, 2024], [Raj Taylor] envisions that the [gross profit margin] at [Visa (V)] [will likely] [expand] by [0.5% to 85%] in [Q3 of 2026].\n",
       "7                              On [Wednesday, May 15, 2024], [Ethan Patel] forsees that the [total debt] at [Mastercard (MA)] [will probably] [decrease] by [8% to $5 billion] in [Q1 of 2029].\n",
       "8  On [Thursday, April 18, 2024], [Jackson Lee] predicts that the [earnings before interest and taxes (EBIT)] at [American Express (AXP)] [may] [increase] by [4% to $10 billion] in [FY 2028].\n",
       "9                                       On [Friday, March 15, 2024], [Ava Lee] forecasts that the [free cash flow] at [Caterpillar (CAT)] [will] [rise] by [10% to $5 billion] in [Q2 of 2026]."
      ]
     },
     "execution_count": 3,
     "metadata": {},
     "output_type": "execute_result"
    }
   ],
   "source": [
    "predictions_df"
   ]
  },
  {
   "cell_type": "code",
   "execution_count": 4,
   "metadata": {},
   "outputs": [
    {
     "data": {
      "text/plain": [
       "'Base Predictions'"
      ]
     },
     "execution_count": 4,
     "metadata": {},
     "output_type": "execute_result"
    }
   ],
   "source": [
    "predictions_col = predictions_df.columns[0]\n",
    "predictions_col"
   ]
  },
  {
   "cell_type": "code",
   "execution_count": 5,
   "metadata": {},
   "outputs": [
    {
     "data": {
      "text/html": [
       "<div>\n",
       "<style scoped>\n",
       "    .dataframe tbody tr th:only-of-type {\n",
       "        vertical-align: middle;\n",
       "    }\n",
       "\n",
       "    .dataframe tbody tr th {\n",
       "        vertical-align: top;\n",
       "    }\n",
       "\n",
       "    .dataframe thead th {\n",
       "        text-align: right;\n",
       "    }\n",
       "</style>\n",
       "<table border=\"1\" class=\"dataframe\">\n",
       "  <thead>\n",
       "    <tr style=\"text-align: right;\">\n",
       "      <th></th>\n",
       "      <th>Base Predictions</th>\n",
       "      <th>lower_cased</th>\n",
       "    </tr>\n",
       "  </thead>\n",
       "  <tbody>\n",
       "    <tr>\n",
       "      <th>0</th>\n",
       "      <td>On [Monday, December 16, 2024], [Ava Lee] forecasts that the [net income] at [Microsoft (MSFT)] [will] [rise] by [12% to $25 billion] in [Q2 of 2026].</td>\n",
       "      <td>on [monday, december 16, 2024], [ava lee] forecasts that the [net income] at [microsoft (msft)] [will] [rise] by [12% to $25 billion] in [q2 of 2026].</td>\n",
       "    </tr>\n",
       "    <tr>\n",
       "      <th>1</th>\n",
       "      <td>On [Tuesday, November 19, 2024], [Julian Hall] predicts that the [operating expenses] at [Chevron (CVX)] [should] [decrease] by [4% to $15 billion] in [Q3 of 2027].</td>\n",
       "      <td>on [tuesday, november 19, 2024], [julian hall] predicts that the [operating expenses] at [chevron (cvx)] [should] [decrease] by [4% to $15 billion] in [q3 of 2027].</td>\n",
       "    </tr>\n",
       "    <tr>\n",
       "      <th>2</th>\n",
       "      <td>On [Wednesday, October 23, 2024], [Mia Patel] envisions that the [stock price] at [Johnson &amp; Johnson (JNJ)] [will likely] [increase] by [15% to $180 per share] in [Q1 of 2028].</td>\n",
       "      <td>on [wednesday, october 23, 2024], [mia patel] envisions that the [stock price] at [johnson &amp; johnson (jnj)] [will likely] [increase] by [15% to $180 per share] in [q1 of 2028].</td>\n",
       "    </tr>\n",
       "    <tr>\n",
       "      <th>3</th>\n",
       "      <td>On [Thursday, September 19, 2024], [Logan White] predicts that the [research and development expenses] at [Procter &amp; Gamble (PG)] [may] [increase] by [6% to $3 billion] in [FY 2029].</td>\n",
       "      <td>on [thursday, september 19, 2024], [logan white] predicts that the [research and development expenses] at [procter &amp; gamble (pg)] [may] [increase] by [6% to $3 billion] in [fy 2029].</td>\n",
       "    </tr>\n",
       "    <tr>\n",
       "      <th>4</th>\n",
       "      <td>On [Friday, August 16, 2024], [Hannah Brooks] forecasts that the [return on assets (ROA)] at [Cisco Systems (CSCO)] [has a high probability of] [improving] by [1% to 10%] in [Q4 of 2027].</td>\n",
       "      <td>on [friday, august 16, 2024], [hannah brooks] forecasts that the [return on assets (roa)] at [cisco systems (csco)] [has a high probability of] [improving] by [1% to 10%] in [q4 of 2027].</td>\n",
       "    </tr>\n",
       "    <tr>\n",
       "      <th>5</th>\n",
       "      <td>On [Monday, July 22, 2024], [Detravious Martin] predicts that the [capital expenditures] at [3M (MMM)] [should] [decrease] by [2% to $1.5 billion] in [Q2 of 2028].</td>\n",
       "      <td>on [monday, july 22, 2024], [detravious martin] predicts that the [capital expenditures] at [3m (mmm)] [should] [decrease] by [2% to $1.5 billion] in [q2 of 2028].</td>\n",
       "    </tr>\n",
       "    <tr>\n",
       "      <th>6</th>\n",
       "      <td>On [Tuesday, June 18, 2024], [Raj Taylor] envisions that the [gross profit margin] at [Visa (V)] [will likely] [expand] by [0.5% to 85%] in [Q3 of 2026].</td>\n",
       "      <td>on [tuesday, june 18, 2024], [raj taylor] envisions that the [gross profit margin] at [visa (v)] [will likely] [expand] by [0.5% to 85%] in [q3 of 2026].</td>\n",
       "    </tr>\n",
       "    <tr>\n",
       "      <th>7</th>\n",
       "      <td>On [Wednesday, May 15, 2024], [Ethan Patel] forsees that the [total debt] at [Mastercard (MA)] [will probably] [decrease] by [8% to $5 billion] in [Q1 of 2029].</td>\n",
       "      <td>on [wednesday, may 15, 2024], [ethan patel] forsees that the [total debt] at [mastercard (ma)] [will probably] [decrease] by [8% to $5 billion] in [q1 of 2029].</td>\n",
       "    </tr>\n",
       "    <tr>\n",
       "      <th>8</th>\n",
       "      <td>On [Thursday, April 18, 2024], [Jackson Lee] predicts that the [earnings before interest and taxes (EBIT)] at [American Express (AXP)] [may] [increase] by [4% to $10 billion] in [FY 2028].</td>\n",
       "      <td>on [thursday, april 18, 2024], [jackson lee] predicts that the [earnings before interest and taxes (ebit)] at [american express (axp)] [may] [increase] by [4% to $10 billion] in [fy 2028].</td>\n",
       "    </tr>\n",
       "    <tr>\n",
       "      <th>9</th>\n",
       "      <td>On [Friday, March 15, 2024], [Ava Lee] forecasts that the [free cash flow] at [Caterpillar (CAT)] [will] [rise] by [10% to $5 billion] in [Q2 of 2026].</td>\n",
       "      <td>on [friday, march 15, 2024], [ava lee] forecasts that the [free cash flow] at [caterpillar (cat)] [will] [rise] by [10% to $5 billion] in [q2 of 2026].</td>\n",
       "    </tr>\n",
       "  </tbody>\n",
       "</table>\n",
       "</div>"
      ],
      "text/plain": [
       "                                                                                                                                                                               Base Predictions  \\\n",
       "0                                        On [Monday, December 16, 2024], [Ava Lee] forecasts that the [net income] at [Microsoft (MSFT)] [will] [rise] by [12% to $25 billion] in [Q2 of 2026].   \n",
       "1                          On [Tuesday, November 19, 2024], [Julian Hall] predicts that the [operating expenses] at [Chevron (CVX)] [should] [decrease] by [4% to $15 billion] in [Q3 of 2027].   \n",
       "2              On [Wednesday, October 23, 2024], [Mia Patel] envisions that the [stock price] at [Johnson & Johnson (JNJ)] [will likely] [increase] by [15% to $180 per share] in [Q1 of 2028].   \n",
       "3        On [Thursday, September 19, 2024], [Logan White] predicts that the [research and development expenses] at [Procter & Gamble (PG)] [may] [increase] by [6% to $3 billion] in [FY 2029].   \n",
       "4   On [Friday, August 16, 2024], [Hannah Brooks] forecasts that the [return on assets (ROA)] at [Cisco Systems (CSCO)] [has a high probability of] [improving] by [1% to 10%] in [Q4 of 2027].   \n",
       "5                           On [Monday, July 22, 2024], [Detravious Martin] predicts that the [capital expenditures] at [3M (MMM)] [should] [decrease] by [2% to $1.5 billion] in [Q2 of 2028].   \n",
       "6                                     On [Tuesday, June 18, 2024], [Raj Taylor] envisions that the [gross profit margin] at [Visa (V)] [will likely] [expand] by [0.5% to 85%] in [Q3 of 2026].   \n",
       "7                              On [Wednesday, May 15, 2024], [Ethan Patel] forsees that the [total debt] at [Mastercard (MA)] [will probably] [decrease] by [8% to $5 billion] in [Q1 of 2029].   \n",
       "8  On [Thursday, April 18, 2024], [Jackson Lee] predicts that the [earnings before interest and taxes (EBIT)] at [American Express (AXP)] [may] [increase] by [4% to $10 billion] in [FY 2028].   \n",
       "9                                       On [Friday, March 15, 2024], [Ava Lee] forecasts that the [free cash flow] at [Caterpillar (CAT)] [will] [rise] by [10% to $5 billion] in [Q2 of 2026].   \n",
       "\n",
       "                                                                                                                                                                                    lower_cased  \n",
       "0                                        on [monday, december 16, 2024], [ava lee] forecasts that the [net income] at [microsoft (msft)] [will] [rise] by [12% to $25 billion] in [q2 of 2026].  \n",
       "1                          on [tuesday, november 19, 2024], [julian hall] predicts that the [operating expenses] at [chevron (cvx)] [should] [decrease] by [4% to $15 billion] in [q3 of 2027].  \n",
       "2              on [wednesday, october 23, 2024], [mia patel] envisions that the [stock price] at [johnson & johnson (jnj)] [will likely] [increase] by [15% to $180 per share] in [q1 of 2028].  \n",
       "3        on [thursday, september 19, 2024], [logan white] predicts that the [research and development expenses] at [procter & gamble (pg)] [may] [increase] by [6% to $3 billion] in [fy 2029].  \n",
       "4   on [friday, august 16, 2024], [hannah brooks] forecasts that the [return on assets (roa)] at [cisco systems (csco)] [has a high probability of] [improving] by [1% to 10%] in [q4 of 2027].  \n",
       "5                           on [monday, july 22, 2024], [detravious martin] predicts that the [capital expenditures] at [3m (mmm)] [should] [decrease] by [2% to $1.5 billion] in [q2 of 2028].  \n",
       "6                                     on [tuesday, june 18, 2024], [raj taylor] envisions that the [gross profit margin] at [visa (v)] [will likely] [expand] by [0.5% to 85%] in [q3 of 2026].  \n",
       "7                              on [wednesday, may 15, 2024], [ethan patel] forsees that the [total debt] at [mastercard (ma)] [will probably] [decrease] by [8% to $5 billion] in [q1 of 2029].  \n",
       "8  on [thursday, april 18, 2024], [jackson lee] predicts that the [earnings before interest and taxes (ebit)] at [american express (axp)] [may] [increase] by [4% to $10 billion] in [fy 2028].  \n",
       "9                                       on [friday, march 15, 2024], [ava lee] forecasts that the [free cash flow] at [caterpillar (cat)] [will] [rise] by [10% to $5 billion] in [q2 of 2026].  "
      ]
     },
     "execution_count": 5,
     "metadata": {},
     "output_type": "execute_result"
    }
   ],
   "source": [
    "cleaner = PredictionDataCleaner(predictions_df)\n",
    "\n",
    "# Apply the cleaning methods\n",
    "lc_df = cleaner.lower_case(predictions_col)\n",
    "lc_df"
   ]
  },
  {
   "cell_type": "code",
   "execution_count": 6,
   "metadata": {},
   "outputs": [],
   "source": [
    "cleaner.remove_html_and_urls()\n",
    "cleaner.remove_contractions()\n",
    "cleaner.remove_non_alphabetical_characters()\n",
    "cleaner.remove_extra_spaces()"
   ]
  }
 ],
 "metadata": {
  "kernelspec": {
   "display_name": "deep_learning",
   "language": "python",
   "name": "python3"
  },
  "language_info": {
   "codemirror_mode": {
    "name": "ipython",
    "version": 3
   },
   "file_extension": ".py",
   "mimetype": "text/x-python",
   "name": "python",
   "nbconvert_exporter": "python",
   "pygments_lexer": "ipython3",
   "version": "3.11.0"
  }
 },
 "nbformat": 4,
 "nbformat_minor": 2
}
