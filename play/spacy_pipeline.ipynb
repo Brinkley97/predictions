{
 "cells": [
  {
   "cell_type": "markdown",
   "metadata": {},
   "source": [
    "# Spacy Pipeline"
   ]
  },
  {
   "cell_type": "code",
   "execution_count": 1,
   "metadata": {},
   "outputs": [],
   "source": [
    "import spacy"
   ]
  },
  {
   "cell_type": "code",
   "execution_count": 2,
   "metadata": {},
   "outputs": [
    {
     "data": {
      "text/html": [
       "<div>\n",
       "<style scoped>\n",
       "    .dataframe tbody tr th:only-of-type {\n",
       "        vertical-align: middle;\n",
       "    }\n",
       "\n",
       "    .dataframe tbody tr th {\n",
       "        vertical-align: top;\n",
       "    }\n",
       "\n",
       "    .dataframe thead th {\n",
       "        text-align: right;\n",
       "    }\n",
       "</style>\n",
       "<table border=\"1\" class=\"dataframe\">\n",
       "  <thead>\n",
       "    <tr style=\"text-align: right;\">\n",
       "      <th></th>\n",
       "      <th>Base Predictions</th>\n",
       "    </tr>\n",
       "  </thead>\n",
       "  <tbody>\n",
       "    <tr>\n",
       "      <th>0</th>\n",
       "      <td>on friday, november 15, 2024, emily chen forecasts that the revenue at amazon (amzn) will rise by 12% to $150 billion in q2 of 2026.</td>\n",
       "    </tr>\n",
       "    <tr>\n",
       "      <th>1</th>\n",
       "      <td>on monday, october 21, 2024, liam kim predicts that the net profit at microsoft (msft) should decrease by 2% to $50 billion in q4 of 2027.</td>\n",
       "    </tr>\n",
       "    <tr>\n",
       "      <th>2</th>\n",
       "      <td>on wednesday, september 25, 2024, ava morales envisions that the stock price at tesla (tsla) will likely increase by 30% to $500 per share in q1 of 2028.</td>\n",
       "    </tr>\n",
       "    <tr>\n",
       "      <th>3</th>\n",
       "      <td>on tuesday, august 20, 2024, ethan hall speculates that the operating cash flow at chevron (cvx) will probably remain at $30 billion in q3 of 2026.</td>\n",
       "    </tr>\n",
       "    <tr>\n",
       "      <th>4</th>\n",
       "      <td>on thursday, july 18, 2024, mia kim predicts that the research and development expenses at johnson &amp; johnson (jnj) may increase by 10% to $12 billion in fy 2029.</td>\n",
       "    </tr>\n",
       "    <tr>\n",
       "      <th>5</th>\n",
       "      <td>on friday, june 21, 2024, logan brooks forecasts that the return on assets (roa) at visa (v) has a high probability of improving by 1% to 20% in q2 of 2027.</td>\n",
       "    </tr>\n",
       "    <tr>\n",
       "      <th>6</th>\n",
       "      <td>on monday, may 20, 2024, julian lee predicts that the capital expenditures at at&amp;t (t) should decrease by 5% to $15 billion in q4 of 2028.</td>\n",
       "    </tr>\n",
       "    <tr>\n",
       "      <th>7</th>\n",
       "      <td>on wednesday, april 24, 2024, hannah patel envisions that the gross margin at procter &amp; gamble (pg) will likely expand by 2% to 22% in q1 of 2026.</td>\n",
       "    </tr>\n",
       "    <tr>\n",
       "      <th>8</th>\n",
       "      <td>on tuesday, march 19, 2024, detravious white forsees that the total revenue at walmart (wmt) will probably increase by 8% to $600 billion in fy 2028.</td>\n",
       "    </tr>\n",
       "    <tr>\n",
       "      <th>9</th>\n",
       "      <td>on thursday, february 21, 2024, raj martin predicts that the earnings before interest and taxes (ebit) at cisco systems (csco) may increase by 6% to $15 billion in q3 of 2027.</td>\n",
       "    </tr>\n",
       "  </tbody>\n",
       "</table>\n",
       "</div>"
      ],
      "text/plain": [
       "                                                                                                                                                                  Base Predictions\n",
       "0                                             on friday, november 15, 2024, emily chen forecasts that the revenue at amazon (amzn) will rise by 12% to $150 billion in q2 of 2026.\n",
       "1                                       on monday, october 21, 2024, liam kim predicts that the net profit at microsoft (msft) should decrease by 2% to $50 billion in q4 of 2027.\n",
       "2                        on wednesday, september 25, 2024, ava morales envisions that the stock price at tesla (tsla) will likely increase by 30% to $500 per share in q1 of 2028.\n",
       "3                              on tuesday, august 20, 2024, ethan hall speculates that the operating cash flow at chevron (cvx) will probably remain at $30 billion in q3 of 2026.\n",
       "4                on thursday, july 18, 2024, mia kim predicts that the research and development expenses at johnson & johnson (jnj) may increase by 10% to $12 billion in fy 2029.\n",
       "5                     on friday, june 21, 2024, logan brooks forecasts that the return on assets (roa) at visa (v) has a high probability of improving by 1% to 20% in q2 of 2027.\n",
       "6                                       on monday, may 20, 2024, julian lee predicts that the capital expenditures at at&t (t) should decrease by 5% to $15 billion in q4 of 2028.\n",
       "7                               on wednesday, april 24, 2024, hannah patel envisions that the gross margin at procter & gamble (pg) will likely expand by 2% to 22% in q1 of 2026.\n",
       "8                            on tuesday, march 19, 2024, detravious white forsees that the total revenue at walmart (wmt) will probably increase by 8% to $600 billion in fy 2028.\n",
       "9  on thursday, february 21, 2024, raj martin predicts that the earnings before interest and taxes (ebit) at cisco systems (csco) may increase by 6% to $15 billion in q3 of 2027."
      ]
     },
     "execution_count": 2,
     "metadata": {},
     "output_type": "execute_result"
    }
   ],
   "source": [
    "cleaned_predictions_notebook = 'clean_generated_prediction.ipynb'\n",
    "%run $cleaned_predictions_notebook\n",
    "cleaner.df"
   ]
  },
  {
   "cell_type": "code",
   "execution_count": 3,
   "metadata": {},
   "outputs": [
    {
     "data": {
      "text/plain": [
       "['on friday, november 15, 2024, emily chen forecasts that the revenue at amazon (amzn) will rise by 12% to $150 billion in q2 of 2026.',\n",
       " 'on monday, october 21, 2024, liam kim predicts that the net profit at microsoft (msft) should decrease by 2% to $50 billion in q4 of 2027.',\n",
       " 'on wednesday, september 25, 2024, ava morales envisions that the stock price at tesla (tsla) will likely increase by 30% to $500 per share in q1 of 2028.',\n",
       " 'on tuesday, august 20, 2024, ethan hall speculates that the operating cash flow at chevron (cvx) will probably remain at $30 billion in q3 of 2026.',\n",
       " 'on thursday, july 18, 2024, mia kim predicts that the research and development expenses at johnson & johnson (jnj) may increase by 10% to $12 billion in fy 2029.',\n",
       " 'on friday, june 21, 2024, logan brooks forecasts that the return on assets (roa) at visa (v) has a high probability of improving by 1% to 20% in q2 of 2027.',\n",
       " 'on monday, may 20, 2024, julian lee predicts that the capital expenditures at at&t (t) should decrease by 5% to $15 billion in q4 of 2028.',\n",
       " 'on wednesday, april 24, 2024, hannah patel envisions that the gross margin at procter & gamble (pg) will likely expand by 2% to 22% in q1 of 2026.',\n",
       " 'on tuesday, march 19, 2024, detravious white forsees that the total revenue at walmart (wmt) will probably increase by 8% to $600 billion in fy 2028.',\n",
       " 'on thursday, february 21, 2024, raj martin predicts that the earnings before interest and taxes (ebit) at cisco systems (csco) may increase by 6% to $15 billion in q3 of 2027.']"
      ]
     },
     "execution_count": 3,
     "metadata": {},
     "output_type": "execute_result"
    }
   ],
   "source": [
    "predictions = cleaner.df['Base Predictions'].values.tolist()\n",
    "predictions"
   ]
  },
  {
   "cell_type": "code",
   "execution_count": 4,
   "metadata": {},
   "outputs": [
    {
     "name": "stdout",
     "output_type": "stream",
     "text": [
      "[('friday, november 15, 2024', 'DATE'), ('chen', 'PERSON'), ('12%', 'PERCENT'), ('$150 billion', 'MONEY'), ('2026', 'DATE')]\n",
      "[('monday, october 21, 2024', 'DATE'), ('liam kim', 'PERSON'), ('microsoft', 'ORG'), ('2%', 'PERCENT'), ('$50 billion', 'MONEY'), ('2027', 'DATE')]\n",
      "[('wednesday, september 25, 2024', 'DATE'), ('30%', 'PERCENT'), ('500', 'MONEY'), ('2028', 'DATE')]\n",
      "[('tuesday, august 20, 2024', 'DATE'), ('ethan hall', 'PERSON'), ('chevron', 'ORG'), ('cvx', 'ORG'), ('$30 billion', 'MONEY'), ('q3 of 2026', 'DATE')]\n",
      "[('thursday, july 18, 2024', 'DATE'), ('kim', 'PERSON'), ('johnson & johnson', 'ORG'), ('10%', 'PERCENT'), ('$12 billion', 'MONEY'), ('2029', 'DATE')]\n",
      "[('friday, june 21, 2024', 'DATE'), ('brooks', 'ORG'), ('visa (v)', 'ORG'), ('1% to 20%', 'PERCENT'), ('2027', 'DATE')]\n",
      "[('monday', 'DATE'), ('julian lee', 'PERSON'), ('at&t', 'ORG'), ('5%', 'PERCENT'), ('$15 billion', 'MONEY'), ('2028', 'DATE')]\n",
      "[('wednesday, april 24, 2024', 'DATE'), ('hannah', 'PERSON'), ('procter & gamble', 'ORG'), ('2% to 22%', 'PERCENT'), ('2026', 'DATE')]\n",
      "[('tuesday, march 19, 2024', 'DATE'), ('8%', 'PERCENT'), ('$600 billion', 'MONEY'), ('2028', 'DATE')]\n",
      "[('thursday, february 21, 2024', 'DATE'), ('cisco systems', 'ORG'), ('6%', 'PERCENT'), ('$15 billion', 'MONEY'), ('q3 of 2027', 'DATE')]\n"
     ]
    }
   ],
   "source": [
    "nlp = spacy.load(\"en_core_web_sm\")\n",
    "for doc in nlp.pipe(predictions, disable=[\"tok2vec\", \"parser\", \"attribute_ruler\", \"lemmatizer\"]):\n",
    "    # Do something with the doc here\n",
    "    print([(ent.text, ent.label_) for ent in doc.ents])"
   ]
  },
  {
   "cell_type": "code",
   "execution_count": null,
   "metadata": {},
   "outputs": [],
   "source": []
  }
 ],
 "metadata": {
  "kernelspec": {
   "display_name": "predictions",
   "language": "python",
   "name": "python3"
  },
  "language_info": {
   "codemirror_mode": {
    "name": "ipython",
    "version": 3
   },
   "file_extension": ".py",
   "mimetype": "text/x-python",
   "name": "python",
   "nbconvert_exporter": "python",
   "pygments_lexer": "ipython3",
   "version": "3.11.0"
  }
 },
 "nbformat": 4,
 "nbformat_minor": 2
}
