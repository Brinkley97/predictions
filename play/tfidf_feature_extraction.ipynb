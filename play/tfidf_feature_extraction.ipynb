{
 "cells": [
  {
   "cell_type": "markdown",
   "metadata": {},
   "source": [
    "# TF-IDF Feature Extraction"
   ]
  },
  {
   "cell_type": "code",
   "execution_count": 1,
   "metadata": {},
   "outputs": [],
   "source": [
    "from sklearn.feature_extraction.text import TfidfVectorizer"
   ]
  },
  {
   "cell_type": "code",
   "execution_count": 2,
   "metadata": {},
   "outputs": [
    {
     "data": {
      "text/html": [
       "<div>\n",
       "<style scoped>\n",
       "    .dataframe tbody tr th:only-of-type {\n",
       "        vertical-align: middle;\n",
       "    }\n",
       "\n",
       "    .dataframe tbody tr th {\n",
       "        vertical-align: top;\n",
       "    }\n",
       "\n",
       "    .dataframe thead th {\n",
       "        text-align: right;\n",
       "    }\n",
       "</style>\n",
       "<table border=\"1\" class=\"dataframe\">\n",
       "  <thead>\n",
       "    <tr style=\"text-align: right;\">\n",
       "      <th></th>\n",
       "      <th>Base Predictions</th>\n",
       "      <th>Prediction Label</th>\n",
       "    </tr>\n",
       "  </thead>\n",
       "  <tbody>\n",
       "    <tr>\n",
       "      <th>0</th>\n",
       "      <td>on friday, november 15, 2024, emily chen forecasts that the revenue at amazon (amzn) will rise by 12% to $150 billion in q2 of 2026.</td>\n",
       "      <td>True</td>\n",
       "    </tr>\n",
       "    <tr>\n",
       "      <th>1</th>\n",
       "      <td>on monday, october 21, 2024, liam kim predicts that the net profit at microsoft (msft) should decrease by 2% to $50 billion in q4 of 2027.</td>\n",
       "      <td>True</td>\n",
       "    </tr>\n",
       "    <tr>\n",
       "      <th>2</th>\n",
       "      <td>on wednesday, september 25, 2024, ava morales envisions that the stock price at tesla (tsla) will likely increase by 30% to $500 per share in q1 of 2028.</td>\n",
       "      <td>True</td>\n",
       "    </tr>\n",
       "    <tr>\n",
       "      <th>3</th>\n",
       "      <td>on tuesday, august 20, 2024, ethan hall speculates that the operating cash flow at chevron (cvx) will probably remain at $30 billion in q3 of 2026.</td>\n",
       "      <td>True</td>\n",
       "    </tr>\n",
       "    <tr>\n",
       "      <th>4</th>\n",
       "      <td>on thursday, july 18, 2024, mia kim predicts that the research and development expenses at johnson &amp; johnson (jnj) may increase by 10% to $12 billion in fy 2029.</td>\n",
       "      <td>True</td>\n",
       "    </tr>\n",
       "    <tr>\n",
       "      <th>5</th>\n",
       "      <td>on friday, june 14, 2024, logan brooks forecasts that the return on assets (roa) at visa (v) has a high probability of improving by 1% to 20% in q2 of 2027.</td>\n",
       "      <td>True</td>\n",
       "    </tr>\n",
       "    <tr>\n",
       "      <th>6</th>\n",
       "      <td>on monday, may 20, 2024, julian lee predicts that the capital expenditures at at&amp;t (t) should decrease by 5% to $15 billion in q4 of 2028.</td>\n",
       "      <td>True</td>\n",
       "    </tr>\n",
       "    <tr>\n",
       "      <th>7</th>\n",
       "      <td>on wednesday, april 24, 2024, hannah patel envisions that the gross margin at procter &amp; gamble (pg) will likely expand by 2% to 22% in q1 of 2026.</td>\n",
       "      <td>True</td>\n",
       "    </tr>\n",
       "    <tr>\n",
       "      <th>8</th>\n",
       "      <td>on tuesday, march 19, 2024, detravious martin forsees that the total revenue at cisco systems (csco) will probably increase by 8% to $50 billion in q3 of 2027.</td>\n",
       "      <td>True</td>\n",
       "    </tr>\n",
       "    <tr>\n",
       "      <th>9</th>\n",
       "      <td>on thursday, february 21, 2024, raj singh predicts that the earnings before interest and taxes (ebit) at 3m (mmm) may decrease by 3% to $10 billion in fy 2029.</td>\n",
       "      <td>True</td>\n",
       "    </tr>\n",
       "    <tr>\n",
       "      <th>10</th>\n",
       "      <td>1. the sun rises in the east.</td>\n",
       "      <td>False</td>\n",
       "    </tr>\n",
       "    <tr>\n",
       "      <th>11</th>\n",
       "      <td>2. water is essential for human survival.</td>\n",
       "      <td>False</td>\n",
       "    </tr>\n",
       "    <tr>\n",
       "      <th>12</th>\n",
       "      <td>3. the book is on the table.</td>\n",
       "      <td>False</td>\n",
       "    </tr>\n",
       "    <tr>\n",
       "      <th>13</th>\n",
       "      <td>4. the company has a strong management team.</td>\n",
       "      <td>False</td>\n",
       "    </tr>\n",
       "    <tr>\n",
       "      <th>14</th>\n",
       "      <td>5. the city is located near the ocean.</td>\n",
       "      <td>False</td>\n",
       "    </tr>\n",
       "    <tr>\n",
       "      <th>15</th>\n",
       "      <td>6. the teacher is writing on the board.</td>\n",
       "      <td>False</td>\n",
       "    </tr>\n",
       "    <tr>\n",
       "      <th>16</th>\n",
       "      <td>7. the music is playing loudly.</td>\n",
       "      <td>False</td>\n",
       "    </tr>\n",
       "    <tr>\n",
       "      <th>17</th>\n",
       "      <td>8. the dog is running quickly.</td>\n",
       "      <td>False</td>\n",
       "    </tr>\n",
       "    <tr>\n",
       "      <th>18</th>\n",
       "      <td>9. the flower is blooming beautifully.</td>\n",
       "      <td>False</td>\n",
       "    </tr>\n",
       "  </tbody>\n",
       "</table>\n",
       "</div>"
      ],
      "text/plain": [
       "                                                                                                                                                     Base Predictions  \\\n",
       "0                                on friday, november 15, 2024, emily chen forecasts that the revenue at amazon (amzn) will rise by 12% to $150 billion in q2 of 2026.   \n",
       "1                          on monday, october 21, 2024, liam kim predicts that the net profit at microsoft (msft) should decrease by 2% to $50 billion in q4 of 2027.   \n",
       "2           on wednesday, september 25, 2024, ava morales envisions that the stock price at tesla (tsla) will likely increase by 30% to $500 per share in q1 of 2028.   \n",
       "3                 on tuesday, august 20, 2024, ethan hall speculates that the operating cash flow at chevron (cvx) will probably remain at $30 billion in q3 of 2026.   \n",
       "4   on thursday, july 18, 2024, mia kim predicts that the research and development expenses at johnson & johnson (jnj) may increase by 10% to $12 billion in fy 2029.   \n",
       "5        on friday, june 14, 2024, logan brooks forecasts that the return on assets (roa) at visa (v) has a high probability of improving by 1% to 20% in q2 of 2027.   \n",
       "6                          on monday, may 20, 2024, julian lee predicts that the capital expenditures at at&t (t) should decrease by 5% to $15 billion in q4 of 2028.   \n",
       "7                  on wednesday, april 24, 2024, hannah patel envisions that the gross margin at procter & gamble (pg) will likely expand by 2% to 22% in q1 of 2026.   \n",
       "8     on tuesday, march 19, 2024, detravious martin forsees that the total revenue at cisco systems (csco) will probably increase by 8% to $50 billion in q3 of 2027.   \n",
       "9     on thursday, february 21, 2024, raj singh predicts that the earnings before interest and taxes (ebit) at 3m (mmm) may decrease by 3% to $10 billion in fy 2029.   \n",
       "10                                                                                                                                      1. the sun rises in the east.   \n",
       "11                                                                                                                          2. water is essential for human survival.   \n",
       "12                                                                                                                                       3. the book is on the table.   \n",
       "13                                                                                                                       4. the company has a strong management team.   \n",
       "14                                                                                                                             5. the city is located near the ocean.   \n",
       "15                                                                                                                            6. the teacher is writing on the board.   \n",
       "16                                                                                                                                    7. the music is playing loudly.   \n",
       "17                                                                                                                                     8. the dog is running quickly.   \n",
       "18                                                                                                                             9. the flower is blooming beautifully.   \n",
       "\n",
       "    Prediction Label  \n",
       "0               True  \n",
       "1               True  \n",
       "2               True  \n",
       "3               True  \n",
       "4               True  \n",
       "5               True  \n",
       "6               True  \n",
       "7               True  \n",
       "8               True  \n",
       "9               True  \n",
       "10             False  \n",
       "11             False  \n",
       "12             False  \n",
       "13             False  \n",
       "14             False  \n",
       "15             False  \n",
       "16             False  \n",
       "17             False  \n",
       "18             False  "
      ]
     },
     "execution_count": 2,
     "metadata": {},
     "output_type": "execute_result"
    }
   ],
   "source": [
    "cleaned_predictions_notebook = 'clean_generated_prediction.ipynb'\n",
    "%run $cleaned_predictions_notebook\n",
    "cleaner.df"
   ]
  },
  {
   "cell_type": "code",
   "execution_count": 3,
   "metadata": {},
   "outputs": [],
   "source": [
    "df_to_vectorize = cleaner.df['Base Predictions']"
   ]
  },
  {
   "cell_type": "code",
   "execution_count": 4,
   "metadata": {},
   "outputs": [
    {
     "data": {
      "text/plain": [
       "<Compressed Sparse Row sparse matrix of dtype 'float64'\n",
       "\twith 25 stored elements and shape (1, 163)>"
      ]
     },
     "execution_count": 4,
     "metadata": {},
     "output_type": "execute_result"
    }
   ],
   "source": [
    "vectorizer = TfidfVectorizer()\n",
    "tf_idf_features = vectorizer.fit_transform(df_to_vectorize)\n",
    "\n",
    "tf_idf_features[0]"
   ]
  },
  {
   "cell_type": "code",
   "execution_count": null,
   "metadata": {},
   "outputs": [],
   "source": []
  }
 ],
 "metadata": {
  "kernelspec": {
   "display_name": "predictions",
   "language": "python",
   "name": "python3"
  },
  "language_info": {
   "codemirror_mode": {
    "name": "ipython",
    "version": 3
   },
   "file_extension": ".py",
   "mimetype": "text/x-python",
   "name": "python",
   "nbconvert_exporter": "python",
   "pygments_lexer": "ipython3",
   "version": "3.11.0"
  }
 },
 "nbformat": 4,
 "nbformat_minor": 2
}
