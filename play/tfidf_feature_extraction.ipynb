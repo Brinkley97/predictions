{
 "cells": [
  {
   "cell_type": "markdown",
   "metadata": {},
   "source": [
    "# TF-IDF Feature Extraction\n",
    "\n",
    "- Core Idea: reflect how important a word is to an instance in the dataset [1-Xuezhe Ma NLP USC Course]"
   ]
  },
  {
   "cell_type": "code",
   "execution_count": 1,
   "metadata": {},
   "outputs": [],
   "source": [
    "import os\n",
    "\n",
    "from sklearn.feature_extraction.text import TfidfVectorizer"
   ]
  },
  {
   "cell_type": "markdown",
   "metadata": {},
   "source": [
    "## Decide data: Cleaned or Original"
   ]
  },
  {
   "cell_type": "code",
   "execution_count": 7,
   "metadata": {},
   "outputs": [],
   "source": [
    "clean_data = False # Use this line without pipeline, so as a standalone notebook\n",
    "# clean_data = os.getenv('MY_VARIABLE') # Use this line with pipeline, so NOT as a standalone notebook\n",
    "\n",
    "if clean_data:\n",
    "    cleaned_predictions_notebook = 'clean_generated_prediction.ipynb'\n",
    "    %run $cleaned_predictions_notebook\n",
    "    df = cleaner.df\n",
    "else:\n",
    "    generate_predictions_notebook = 'generate_prediction.ipynb'\n",
    "    %run $generate_predictions_notebook\n",
    "    df = pd.concat([predictions_df, non_predictions_df], ignore_index=True)"
   ]
  },
  {
   "cell_type": "code",
   "execution_count": 8,
   "metadata": {},
   "outputs": [
    {
     "data": {
      "text/html": [
       "<div>\n",
       "<style scoped>\n",
       "    .dataframe tbody tr th:only-of-type {\n",
       "        vertical-align: middle;\n",
       "    }\n",
       "\n",
       "    .dataframe tbody tr th {\n",
       "        vertical-align: top;\n",
       "    }\n",
       "\n",
       "    .dataframe thead th {\n",
       "        text-align: right;\n",
       "    }\n",
       "</style>\n",
       "<table border=\"1\" class=\"dataframe\">\n",
       "  <thead>\n",
       "    <tr style=\"text-align: right;\">\n",
       "      <th></th>\n",
       "      <th>Base Predictions</th>\n",
       "      <th>Prediction Label</th>\n",
       "    </tr>\n",
       "  </thead>\n",
       "  <tbody>\n",
       "    <tr>\n",
       "      <th>0</th>\n",
       "      <td>On Wednesday, November 20, 2024, Emily Chen forecasts that the revenue at Amazon (AMZN) will rise by 12% to $150 billion in Q2 of 2026.</td>\n",
       "      <td>1</td>\n",
       "    </tr>\n",
       "    <tr>\n",
       "      <th>1</th>\n",
       "      <td>On Thursday, October 17, 2024, Liam Kim predicts that the operating cash flow at Microsoft (MSFT) should decrease by 2% to $50 billion in Q1 of 2027.</td>\n",
       "      <td>1</td>\n",
       "    </tr>\n",
       "    <tr>\n",
       "      <th>2</th>\n",
       "      <td>On Friday, September 13, 2024, Ava Morales envisions that the stock price at Tesla (TSLA) will likely rise by 30% to $500 per share in Q4 of 2028.</td>\n",
       "      <td>1</td>\n",
       "    </tr>\n",
       "    <tr>\n",
       "      <th>3</th>\n",
       "      <td>On Monday, August 19, 2024, Ethan Hall speculates that the dividend payout ratio at Procter &amp; Gamble (PG) will probably remain at 60% in Q3 of 2026.</td>\n",
       "      <td>1</td>\n",
       "    </tr>\n",
       "    <tr>\n",
       "      <th>4</th>\n",
       "      <td>On Tuesday, July 16, 2024, Mia Kim predicts that the research and development expenses at Johnson &amp; Johnson (JNJ) may increase by 10% to $12 billion in FY 2029.</td>\n",
       "      <td>1</td>\n",
       "    </tr>\n",
       "    <tr>\n",
       "      <th>5</th>\n",
       "      <td>On Wednesday, June 12, 2024, Julian Sanchez forecasts that the return on equity (ROE) at Visa (V) has a high probability of improving by 3% to 20% in Q2 of 2027.</td>\n",
       "      <td>1</td>\n",
       "    </tr>\n",
       "    <tr>\n",
       "      <th>6</th>\n",
       "      <td>On Thursday, May 9, 2024, Logan Brooks predicts that the capital expenditures at Chevron (CVX) should decrease by 5% to $10 billion in Q1 of 2028.</td>\n",
       "      <td>1</td>\n",
       "    </tr>\n",
       "    <tr>\n",
       "      <th>7</th>\n",
       "      <td>On Friday, April 12, 2024, Hannah Taylor envisions that the gross profit margin at Cisco Systems (CSCO) will likely expand by 2% to 25% in Q4 of 2026.</td>\n",
       "      <td>1</td>\n",
       "    </tr>\n",
       "    <tr>\n",
       "      <th>8</th>\n",
       "      <td>On Monday, March 18, 2024, Detravious Lee forsees that the total debt at AT&amp;T (T) will probably decrease by 8% to $150 billion in Q3 of 2029.</td>\n",
       "      <td>1</td>\n",
       "    </tr>\n",
       "    <tr>\n",
       "      <th>9</th>\n",
       "      <td>On Tuesday, February 13, 2024, Raj Patel predicts that the earnings before interest and taxes (EBIT) at 3M (MMM) may increase by 6% to $10 billion in FY 2028.</td>\n",
       "      <td>1</td>\n",
       "    </tr>\n",
       "    <tr>\n",
       "      <th>10</th>\n",
       "      <td>1. The sun rises in the east.</td>\n",
       "      <td>0</td>\n",
       "    </tr>\n",
       "    <tr>\n",
       "      <th>11</th>\n",
       "      <td>2. Water is essential for human survival.</td>\n",
       "      <td>0</td>\n",
       "    </tr>\n",
       "    <tr>\n",
       "      <th>12</th>\n",
       "      <td>3. The book is on the table.</td>\n",
       "      <td>0</td>\n",
       "    </tr>\n",
       "    <tr>\n",
       "      <th>13</th>\n",
       "      <td>4. The company has a strong management team.</td>\n",
       "      <td>0</td>\n",
       "    </tr>\n",
       "    <tr>\n",
       "      <th>14</th>\n",
       "      <td>5. The city is located near the ocean.</td>\n",
       "      <td>0</td>\n",
       "    </tr>\n",
       "    <tr>\n",
       "      <th>15</th>\n",
       "      <td>6. The teacher is writing on the board.</td>\n",
       "      <td>0</td>\n",
       "    </tr>\n",
       "    <tr>\n",
       "      <th>16</th>\n",
       "      <td>7. The music is playing loudly.</td>\n",
       "      <td>0</td>\n",
       "    </tr>\n",
       "    <tr>\n",
       "      <th>17</th>\n",
       "      <td>8. The dog is running quickly.</td>\n",
       "      <td>0</td>\n",
       "    </tr>\n",
       "    <tr>\n",
       "      <th>18</th>\n",
       "      <td>9. The flower is blooming beautifully.</td>\n",
       "      <td>0</td>\n",
       "    </tr>\n",
       "  </tbody>\n",
       "</table>\n",
       "</div>"
      ],
      "text/plain": [
       "                                                                                                                                                     Base Predictions  \\\n",
       "0                             On Wednesday, November 20, 2024, Emily Chen forecasts that the revenue at Amazon (AMZN) will rise by 12% to $150 billion in Q2 of 2026.   \n",
       "1               On Thursday, October 17, 2024, Liam Kim predicts that the operating cash flow at Microsoft (MSFT) should decrease by 2% to $50 billion in Q1 of 2027.   \n",
       "2                  On Friday, September 13, 2024, Ava Morales envisions that the stock price at Tesla (TSLA) will likely rise by 30% to $500 per share in Q4 of 2028.   \n",
       "3                On Monday, August 19, 2024, Ethan Hall speculates that the dividend payout ratio at Procter & Gamble (PG) will probably remain at 60% in Q3 of 2026.   \n",
       "4    On Tuesday, July 16, 2024, Mia Kim predicts that the research and development expenses at Johnson & Johnson (JNJ) may increase by 10% to $12 billion in FY 2029.   \n",
       "5   On Wednesday, June 12, 2024, Julian Sanchez forecasts that the return on equity (ROE) at Visa (V) has a high probability of improving by 3% to 20% in Q2 of 2027.   \n",
       "6                  On Thursday, May 9, 2024, Logan Brooks predicts that the capital expenditures at Chevron (CVX) should decrease by 5% to $10 billion in Q1 of 2028.   \n",
       "7              On Friday, April 12, 2024, Hannah Taylor envisions that the gross profit margin at Cisco Systems (CSCO) will likely expand by 2% to 25% in Q4 of 2026.   \n",
       "8                       On Monday, March 18, 2024, Detravious Lee forsees that the total debt at AT&T (T) will probably decrease by 8% to $150 billion in Q3 of 2029.   \n",
       "9      On Tuesday, February 13, 2024, Raj Patel predicts that the earnings before interest and taxes (EBIT) at 3M (MMM) may increase by 6% to $10 billion in FY 2028.   \n",
       "10                                                                                                                                      1. The sun rises in the east.   \n",
       "11                                                                                                                          2. Water is essential for human survival.   \n",
       "12                                                                                                                                       3. The book is on the table.   \n",
       "13                                                                                                                       4. The company has a strong management team.   \n",
       "14                                                                                                                             5. The city is located near the ocean.   \n",
       "15                                                                                                                            6. The teacher is writing on the board.   \n",
       "16                                                                                                                                    7. The music is playing loudly.   \n",
       "17                                                                                                                                     8. The dog is running quickly.   \n",
       "18                                                                                                                             9. The flower is blooming beautifully.   \n",
       "\n",
       "    Prediction Label  \n",
       "0                  1  \n",
       "1                  1  \n",
       "2                  1  \n",
       "3                  1  \n",
       "4                  1  \n",
       "5                  1  \n",
       "6                  1  \n",
       "7                  1  \n",
       "8                  1  \n",
       "9                  1  \n",
       "10                 0  \n",
       "11                 0  \n",
       "12                 0  \n",
       "13                 0  \n",
       "14                 0  \n",
       "15                 0  \n",
       "16                 0  \n",
       "17                 0  \n",
       "18                 0  "
      ]
     },
     "execution_count": 8,
     "metadata": {},
     "output_type": "execute_result"
    }
   ],
   "source": [
    "df"
   ]
  },
  {
   "cell_type": "markdown",
   "metadata": {},
   "source": [
    "- Document = each row\n",
    "- Corpus = entire column"
   ]
  },
  {
   "cell_type": "code",
   "execution_count": 9,
   "metadata": {},
   "outputs": [
    {
     "data": {
      "text/plain": [
       "0                               On Wednesday, November 20, 2024, Emily Chen forecasts that the revenue at Amazon (AMZN) will rise by 12% to $150 billion in Q2 of 2026.\n",
       "1                 On Thursday, October 17, 2024, Liam Kim predicts that the operating cash flow at Microsoft (MSFT) should decrease by 2% to $50 billion in Q1 of 2027.\n",
       "2                    On Friday, September 13, 2024, Ava Morales envisions that the stock price at Tesla (TSLA) will likely rise by 30% to $500 per share in Q4 of 2028.\n",
       "3                  On Monday, August 19, 2024, Ethan Hall speculates that the dividend payout ratio at Procter & Gamble (PG) will probably remain at 60% in Q3 of 2026.\n",
       "4      On Tuesday, July 16, 2024, Mia Kim predicts that the research and development expenses at Johnson & Johnson (JNJ) may increase by 10% to $12 billion in FY 2029.\n",
       "5     On Wednesday, June 12, 2024, Julian Sanchez forecasts that the return on equity (ROE) at Visa (V) has a high probability of improving by 3% to 20% in Q2 of 2027.\n",
       "6                    On Thursday, May 9, 2024, Logan Brooks predicts that the capital expenditures at Chevron (CVX) should decrease by 5% to $10 billion in Q1 of 2028.\n",
       "7                On Friday, April 12, 2024, Hannah Taylor envisions that the gross profit margin at Cisco Systems (CSCO) will likely expand by 2% to 25% in Q4 of 2026.\n",
       "8                         On Monday, March 18, 2024, Detravious Lee forsees that the total debt at AT&T (T) will probably decrease by 8% to $150 billion in Q3 of 2029.\n",
       "9        On Tuesday, February 13, 2024, Raj Patel predicts that the earnings before interest and taxes (EBIT) at 3M (MMM) may increase by 6% to $10 billion in FY 2028.\n",
       "10                                                                                                                                        1. The sun rises in the east.\n",
       "11                                                                                                                            2. Water is essential for human survival.\n",
       "12                                                                                                                                         3. The book is on the table.\n",
       "13                                                                                                                         4. The company has a strong management team.\n",
       "14                                                                                                                               5. The city is located near the ocean.\n",
       "15                                                                                                                              6. The teacher is writing on the board.\n",
       "16                                                                                                                                      7. The music is playing loudly.\n",
       "17                                                                                                                                       8. The dog is running quickly.\n",
       "18                                                                                                                               9. The flower is blooming beautifully.\n",
       "Name: Base Predictions, dtype: object"
      ]
     },
     "execution_count": 9,
     "metadata": {},
     "output_type": "execute_result"
    }
   ],
   "source": [
    "corpus_to_vectorize = df['Base Predictions']\n",
    "corpus_to_vectorize"
   ]
  },
  {
   "cell_type": "markdown",
   "metadata": {},
   "source": [
    "- `fit_transform()`: vectorizes the text data by converting it into numerical form.\n",
    "    - `fit()`: Learns the vocab and IDF\n",
    "    - `transform()`: Transforms the text data into a matrix of TF-IDF features using `fit()`\n",
    "    - vectorize each row\n",
    "    - output:\n",
    "        - stored elements: #TF-IDF scores (thus not 0)  \n",
    "        - rows: The #rows/#documents\n",
    "        - columns: The #columns/#unique terms (features) in the entire corpus\n",
    "            - NOT the same as the input #columns"
   ]
  },
  {
   "cell_type": "code",
   "execution_count": 10,
   "metadata": {},
   "outputs": [
    {
     "data": {
      "text/plain": [
       "<Compressed Sparse Row sparse matrix of dtype 'float64'\n",
       "\twith 309 stored elements and shape (19, 165)>"
      ]
     },
     "execution_count": 10,
     "metadata": {},
     "output_type": "execute_result"
    }
   ],
   "source": [
    "vectorizer = TfidfVectorizer()\n",
    "tf_idf_features = vectorizer.fit_transform(corpus_to_vectorize)\n",
    "\n",
    "tf_idf_features"
   ]
  },
  {
   "cell_type": "code",
   "execution_count": 11,
   "metadata": {},
   "outputs": [
    {
     "name": "stdout",
     "output_type": "stream",
     "text": [
      "(19, 165)\n",
      "         10        12        13       150        16        17   18       19  \\\n",
      "0  0.000000  0.188992  0.000000  0.229448  0.000000  0.000000  0.0  0.00000   \n",
      "1  0.000000  0.000000  0.000000  0.000000  0.000000  0.246917  0.0  0.00000   \n",
      "2  0.000000  0.000000  0.202806  0.000000  0.000000  0.000000  0.0  0.00000   \n",
      "3  0.000000  0.000000  0.000000  0.000000  0.000000  0.000000  0.0  0.23201   \n",
      "4  0.176582  0.161482  0.000000  0.000000  0.223488  0.000000  0.0  0.00000   \n",
      "\n",
      "         20      2024  ...  thursday        to  total      tsla  tuesday  \\\n",
      "0  0.229448  0.126547  ...  0.000000  0.134095    0.0  0.000000  0.00000   \n",
      "1  0.000000  0.119462  ...  0.216603  0.126588    0.0  0.000000  0.00000   \n",
      "2  0.000000  0.111853  ...  0.000000  0.118525    0.0  0.231189  0.00000   \n",
      "3  0.000000  0.112249  ...  0.000000  0.000000    0.0  0.000000  0.00000   \n",
      "4  0.000000  0.108126  ...  0.000000  0.114576    0.0  0.000000  0.19605   \n",
      "\n",
      "   visa  water  wednesday      will  writing  \n",
      "0   0.0    0.0   0.229448  0.174552      0.0  \n",
      "1   0.0    0.0   0.000000  0.000000      0.0  \n",
      "2   0.0    0.0   0.000000  0.154284      0.0  \n",
      "3   0.0    0.0   0.000000  0.154831      0.0  \n",
      "4   0.0    0.0   0.000000  0.000000      0.0  \n",
      "\n",
      "[5 rows x 165 columns]\n"
     ]
    }
   ],
   "source": [
    "# Convert the TF-IDF matrix to a dense matrix for easy viewing\n",
    "dense_matrix = tf_idf_features.todense()\n",
    "\n",
    "# Get the feature names (terms) learned by the vectorizer\n",
    "feature_names = vectorizer.get_feature_names_out()\n",
    "\n",
    "# Create a DataFrame to visualize the TF-IDF scores\n",
    "tfidf_df = pd.DataFrame(dense_matrix, columns=feature_names)\n",
    "\n",
    "# Print the shape of the complete TF-IDF DataFrame\n",
    "print(tfidf_df.shape)\n",
    "\n",
    "# Display the first few rows of the DataFrame\n",
    "print(tfidf_df.head())"
   ]
  },
  {
   "cell_type": "code",
   "execution_count": null,
   "metadata": {},
   "outputs": [],
   "source": []
  }
 ],
 "metadata": {
  "kernelspec": {
   "display_name": "predictions",
   "language": "python",
   "name": "python3"
  },
  "language_info": {
   "codemirror_mode": {
    "name": "ipython",
    "version": 3
   },
   "file_extension": ".py",
   "mimetype": "text/x-python",
   "name": "python",
   "nbconvert_exporter": "python",
   "pygments_lexer": "ipython3",
   "version": "3.11.0"
  }
 },
 "nbformat": 4,
 "nbformat_minor": 2
}
