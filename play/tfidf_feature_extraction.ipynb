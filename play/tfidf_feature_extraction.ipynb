{
 "cells": [
  {
   "cell_type": "markdown",
   "metadata": {},
   "source": [
    "# TF-IDF Feature Extraction"
   ]
  },
  {
   "cell_type": "code",
   "execution_count": 1,
   "metadata": {},
   "outputs": [],
   "source": [
    "from sklearn.feature_extraction.text import TfidfVectorizer"
   ]
  },
  {
   "cell_type": "code",
   "execution_count": 2,
   "metadata": {},
   "outputs": [
    {
     "data": {
      "text/html": [
       "<div>\n",
       "<style scoped>\n",
       "    .dataframe tbody tr th:only-of-type {\n",
       "        vertical-align: middle;\n",
       "    }\n",
       "\n",
       "    .dataframe tbody tr th {\n",
       "        vertical-align: top;\n",
       "    }\n",
       "\n",
       "    .dataframe thead th {\n",
       "        text-align: right;\n",
       "    }\n",
       "</style>\n",
       "<table border=\"1\" class=\"dataframe\">\n",
       "  <thead>\n",
       "    <tr style=\"text-align: right;\">\n",
       "      <th></th>\n",
       "      <th>Base Predictions</th>\n",
       "    </tr>\n",
       "  </thead>\n",
       "  <tbody>\n",
       "    <tr>\n",
       "      <th>0</th>\n",
       "      <td>on wednesday, november 20, 2024, emily chen forecasts that the revenue at amazon (amzn) will rise by 12% to $150 billion in q2 of 2026.</td>\n",
       "    </tr>\n",
       "    <tr>\n",
       "      <th>1</th>\n",
       "      <td>on thursday, october 17, 2024, liam kim predicts that the operating cash flow at microsoft (msft) should decrease by 2% to $50 billion in q4 of 2027.</td>\n",
       "    </tr>\n",
       "    <tr>\n",
       "      <th>2</th>\n",
       "      <td>on friday, september 13, 2024, ava morales envisions that the stock price at tesla (tsla) will likely rise by 30% to $500 per share in q1 of 2028.</td>\n",
       "    </tr>\n",
       "    <tr>\n",
       "      <th>3</th>\n",
       "      <td>on monday, august 12, 2024, ethan hall speculates that the dividend payout ratio at procter &amp; gamble (pg) will probably remain at 60% in q3 of 2026.</td>\n",
       "    </tr>\n",
       "    <tr>\n",
       "      <th>4</th>\n",
       "      <td>on tuesday, july 9, 2024, maya patel predicts that the research and development expenses at johnson &amp; johnson (jnj) may increase by 10% to $12 billion in fy 2029.</td>\n",
       "    </tr>\n",
       "    <tr>\n",
       "      <th>5</th>\n",
       "      <td>on wednesday, june 5, 2024, julian sanchez forecasts that the return on equity (roe) at visa (v) has a high probability of improving by 3% to 20% in q2 of 2027.</td>\n",
       "    </tr>\n",
       "    <tr>\n",
       "      <th>6</th>\n",
       "      <td>on thursday, may 1, 2024, logan brooks predicts that the capital expenditures at chevron (cvx) should decrease by 5% to $10 billion in q4 of 2028.</td>\n",
       "    </tr>\n",
       "    <tr>\n",
       "      <th>7</th>\n",
       "      <td>on friday, april 26, 2024, hannah taylor envisions that the gross profit margin at cisco systems (csco) will likely expand by 2% to 25% in q1 of 2026.</td>\n",
       "    </tr>\n",
       "    <tr>\n",
       "      <th>8</th>\n",
       "      <td>on monday, march 25, 2024, jackson white forsees that the total debt at 3m (mmm) will probably decrease by 8% to $10 billion in q3 of 2029.</td>\n",
       "    </tr>\n",
       "    <tr>\n",
       "      <th>9</th>\n",
       "      <td>on tuesday, february 20, 2024, detravious lee predicts that the earnings before interest and taxes (ebit) at walmart (wmt) may increase by 6% to $25 billion in fy 2028.</td>\n",
       "    </tr>\n",
       "  </tbody>\n",
       "</table>\n",
       "</div>"
      ],
      "text/plain": [
       "                                                                                                                                                           Base Predictions\n",
       "0                                   on wednesday, november 20, 2024, emily chen forecasts that the revenue at amazon (amzn) will rise by 12% to $150 billion in q2 of 2026.\n",
       "1                     on thursday, october 17, 2024, liam kim predicts that the operating cash flow at microsoft (msft) should decrease by 2% to $50 billion in q4 of 2027.\n",
       "2                        on friday, september 13, 2024, ava morales envisions that the stock price at tesla (tsla) will likely rise by 30% to $500 per share in q1 of 2028.\n",
       "3                      on monday, august 12, 2024, ethan hall speculates that the dividend payout ratio at procter & gamble (pg) will probably remain at 60% in q3 of 2026.\n",
       "4        on tuesday, july 9, 2024, maya patel predicts that the research and development expenses at johnson & johnson (jnj) may increase by 10% to $12 billion in fy 2029.\n",
       "5          on wednesday, june 5, 2024, julian sanchez forecasts that the return on equity (roe) at visa (v) has a high probability of improving by 3% to 20% in q2 of 2027.\n",
       "6                        on thursday, may 1, 2024, logan brooks predicts that the capital expenditures at chevron (cvx) should decrease by 5% to $10 billion in q4 of 2028.\n",
       "7                    on friday, april 26, 2024, hannah taylor envisions that the gross profit margin at cisco systems (csco) will likely expand by 2% to 25% in q1 of 2026.\n",
       "8                               on monday, march 25, 2024, jackson white forsees that the total debt at 3m (mmm) will probably decrease by 8% to $10 billion in q3 of 2029.\n",
       "9  on tuesday, february 20, 2024, detravious lee predicts that the earnings before interest and taxes (ebit) at walmart (wmt) may increase by 6% to $25 billion in fy 2028."
      ]
     },
     "execution_count": 2,
     "metadata": {},
     "output_type": "execute_result"
    }
   ],
   "source": [
    "cleaned_predictions_notebook = 'clean_generated_prediction.ipynb'\n",
    "%run $cleaned_predictions_notebook\n",
    "cleaner.df"
   ]
  },
  {
   "cell_type": "code",
   "execution_count": 3,
   "metadata": {},
   "outputs": [],
   "source": [
    "df_to_vectorize = cleaner.df['Base Predictions']"
   ]
  },
  {
   "cell_type": "code",
   "execution_count": 5,
   "metadata": {},
   "outputs": [
    {
     "data": {
      "text/plain": [
       "<Compressed Sparse Row sparse matrix of dtype 'float64'\n",
       "\twith 25 stored elements and shape (1, 135)>"
      ]
     },
     "execution_count": 5,
     "metadata": {},
     "output_type": "execute_result"
    }
   ],
   "source": [
    "vectorizer = TfidfVectorizer()\n",
    "tf_idf_features = vectorizer.fit_transform(df_to_vectorize)\n",
    "\n",
    "tf_idf_features[0]"
   ]
  },
  {
   "cell_type": "code",
   "execution_count": null,
   "metadata": {},
   "outputs": [],
   "source": []
  }
 ],
 "metadata": {
  "kernelspec": {
   "display_name": "predictions",
   "language": "python",
   "name": "python3"
  },
  "language_info": {
   "codemirror_mode": {
    "name": "ipython",
    "version": 3
   },
   "file_extension": ".py",
   "mimetype": "text/x-python",
   "name": "python",
   "nbconvert_exporter": "python",
   "pygments_lexer": "ipython3",
   "version": "3.11.0"
  }
 },
 "nbformat": 4,
 "nbformat_minor": 2
}
