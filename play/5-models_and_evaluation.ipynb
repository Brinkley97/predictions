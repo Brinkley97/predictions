{
 "cells": [
  {
   "cell_type": "markdown",
   "metadata": {},
   "source": [
    "# Models + Evaluation Metrics\n",
    "\n",
    "- **Goal:** Prediction Recognition\n",
    "\n",
    "- **Purpose:** To train our models and to make predictions on unseen data.\n",
    "\n",
    "- **Misc:**\n",
    "    - `%store`: Cell magic will store the variable of interest so we can load in another notebook"
   ]
  },
  {
   "cell_type": "code",
   "execution_count": 1,
   "metadata": {},
   "outputs": [],
   "source": [
    "import os\n",
    "import sys\n",
    "\n",
    "import pandas as pd\n",
    "\n",
    "# Get the current working directory of the notebook\n",
    "notebook_dir = os.getcwd()\n",
    "# Add the parent directory to the system path\n",
    "sys.path.append(os.path.join(notebook_dir, '../'))\n",
    "\n",
    "from pipelines import BasePipeline\n",
    "from data_processing import DataProcessing\n",
    "from classification_models import PerceptronModel"
   ]
  },
  {
   "cell_type": "code",
   "execution_count": 2,
   "metadata": {},
   "outputs": [
    {
     "data": {
      "text/html": [
       "<div>\n",
       "<style scoped>\n",
       "    .dataframe tbody tr th:only-of-type {\n",
       "        vertical-align: middle;\n",
       "    }\n",
       "\n",
       "    .dataframe tbody tr th {\n",
       "        vertical-align: top;\n",
       "    }\n",
       "\n",
       "    .dataframe thead th {\n",
       "        text-align: right;\n",
       "    }\n",
       "</style>\n",
       "<table border=\"1\" class=\"dataframe\">\n",
       "  <thead>\n",
       "    <tr style=\"text-align: right;\">\n",
       "      <th></th>\n",
       "      <th>Base Predictions</th>\n",
       "      <th>Prediction Label</th>\n",
       "    </tr>\n",
       "  </thead>\n",
       "  <tbody>\n",
       "    <tr>\n",
       "      <th>0</th>\n",
       "      <td>the city has a large population.</td>\n",
       "      <td>0</td>\n",
       "    </tr>\n",
       "    <tr>\n",
       "      <th>1</th>\n",
       "      <td>on wednesday, october 23, 2024, sophia rodriguez envisions that the stock price at microsoft (msft) will likely rise by 20% to $400 per share in q4 of 2028.</td>\n",
       "      <td>1</td>\n",
       "    </tr>\n",
       "    <tr>\n",
       "      <th>2</th>\n",
       "      <td>on thursday, september 19, 2024, ethan hall speculates that the dividend payout ratio at procter &amp; gamble (pg) will probably remain at 70% in q3 of 2026.</td>\n",
       "      <td>1</td>\n",
       "    </tr>\n",
       "    <tr>\n",
       "      <th>3</th>\n",
       "      <td>the flower smells very sweet.</td>\n",
       "      <td>0</td>\n",
       "    </tr>\n",
       "    <tr>\n",
       "      <th>4</th>\n",
       "      <td>the baby laughed at the clown.</td>\n",
       "      <td>0</td>\n",
       "    </tr>\n",
       "    <tr>\n",
       "      <th>5</th>\n",
       "      <td>on monday, december 16, 2024, emily chen forecasts that the revenue at amazon (amzn) will rise by 12% to $150 billion in q2 of 2026.</td>\n",
       "      <td>1</td>\n",
       "    </tr>\n",
       "    <tr>\n",
       "      <th>6</th>\n",
       "      <td>the sun is shining brightly in the clear sky.</td>\n",
       "      <td>0</td>\n",
       "    </tr>\n",
       "    <tr>\n",
       "      <th>7</th>\n",
       "      <td>on tuesday, november 19, 2024, liam kim predicts that the operating cash flow at chevron (cvx) should decrease by 4% to $15 billion in q1 of 2027.</td>\n",
       "      <td>1</td>\n",
       "    </tr>\n",
       "    <tr>\n",
       "      <th>8</th>\n",
       "      <td>on thursday, april 18, 2024, hannah taylor forsees that the total debt at at&amp;t (t) will probably decrease by 8% to $150 billion in q3 of 2029.</td>\n",
       "      <td>1</td>\n",
       "    </tr>\n",
       "    <tr>\n",
       "      <th>9</th>\n",
       "      <td>the teacher wrote on the board.</td>\n",
       "      <td>0</td>\n",
       "    </tr>\n",
       "    <tr>\n",
       "      <th>10</th>\n",
       "      <td>on friday, august 16, 2024, ava morales predicts that the research and development expenses at johnson &amp; johnson (jnj) may increase by 10% to $12 billion in fy 2029.</td>\n",
       "      <td>1</td>\n",
       "    </tr>\n",
       "    <tr>\n",
       "      <th>11</th>\n",
       "      <td>on wednesday, may 15, 2024, logan brooks envisions that the gross profit margin at 3m (mmm) will likely expand by 2% to 22% in q4 of 2026.</td>\n",
       "      <td>1</td>\n",
       "    </tr>\n",
       "    <tr>\n",
       "      <th>12</th>\n",
       "      <td>the book fell off the table.</td>\n",
       "      <td>0</td>\n",
       "    </tr>\n",
       "    <tr>\n",
       "      <th>13</th>\n",
       "      <td>the coffee tastes very bitter.</td>\n",
       "      <td>0</td>\n",
       "    </tr>\n",
       "    <tr>\n",
       "      <th>14</th>\n",
       "      <td>the music is playing loudly.</td>\n",
       "      <td>0</td>\n",
       "    </tr>\n",
       "    <tr>\n",
       "      <th>15</th>\n",
       "      <td>on monday, july 22, 2024, julian sanchez forecasts that the return on equity (roe) at visa (v) has a high probability of improving by 3% to 20% in q2 of 2027.</td>\n",
       "      <td>1</td>\n",
       "    </tr>\n",
       "    <tr>\n",
       "      <th>16</th>\n",
       "      <td>the dog is running quickly.</td>\n",
       "      <td>0</td>\n",
       "    </tr>\n",
       "    <tr>\n",
       "      <th>17</th>\n",
       "      <td>on tuesday, june 18, 2024, mia garcia predicts that the capital expenditures at cisco systems (csco) should decrease by 5% to $1.5 billion in q1 of 2028.</td>\n",
       "      <td>1</td>\n",
       "    </tr>\n",
       "  </tbody>\n",
       "</table>\n",
       "</div>"
      ],
      "text/plain": [
       "                                                                                                                                                         Base Predictions  \\\n",
       "0                                                                                                                                        the city has a large population.   \n",
       "1            on wednesday, october 23, 2024, sophia rodriguez envisions that the stock price at microsoft (msft) will likely rise by 20% to $400 per share in q4 of 2028.   \n",
       "2               on thursday, september 19, 2024, ethan hall speculates that the dividend payout ratio at procter & gamble (pg) will probably remain at 70% in q3 of 2026.   \n",
       "3                                                                                                                                           the flower smells very sweet.   \n",
       "4                                                                                                                                          the baby laughed at the clown.   \n",
       "5                                    on monday, december 16, 2024, emily chen forecasts that the revenue at amazon (amzn) will rise by 12% to $150 billion in q2 of 2026.   \n",
       "6                                                                                                                           the sun is shining brightly in the clear sky.   \n",
       "7                      on tuesday, november 19, 2024, liam kim predicts that the operating cash flow at chevron (cvx) should decrease by 4% to $15 billion in q1 of 2027.   \n",
       "8                          on thursday, april 18, 2024, hannah taylor forsees that the total debt at at&t (t) will probably decrease by 8% to $150 billion in q3 of 2029.   \n",
       "9                                                                                                                                         the teacher wrote on the board.   \n",
       "10  on friday, august 16, 2024, ava morales predicts that the research and development expenses at johnson & johnson (jnj) may increase by 10% to $12 billion in fy 2029.   \n",
       "11                             on wednesday, may 15, 2024, logan brooks envisions that the gross profit margin at 3m (mmm) will likely expand by 2% to 22% in q4 of 2026.   \n",
       "12                                                                                                                                           the book fell off the table.   \n",
       "13                                                                                                                                         the coffee tastes very bitter.   \n",
       "14                                                                                                                                           the music is playing loudly.   \n",
       "15         on monday, july 22, 2024, julian sanchez forecasts that the return on equity (roe) at visa (v) has a high probability of improving by 3% to 20% in q2 of 2027.   \n",
       "16                                                                                                                                            the dog is running quickly.   \n",
       "17              on tuesday, june 18, 2024, mia garcia predicts that the capital expenditures at cisco systems (csco) should decrease by 5% to $1.5 billion in q1 of 2028.   \n",
       "\n",
       "    Prediction Label  \n",
       "0                  0  \n",
       "1                  1  \n",
       "2                  1  \n",
       "3                  0  \n",
       "4                  0  \n",
       "5                  1  \n",
       "6                  0  \n",
       "7                  1  \n",
       "8                  1  \n",
       "9                  0  \n",
       "10                 1  \n",
       "11                 1  \n",
       "12                 0  \n",
       "13                 0  \n",
       "14                 0  \n",
       "15                 1  \n",
       "16                 0  \n",
       "17                 1  "
      ]
     },
     "execution_count": 2,
     "metadata": {},
     "output_type": "execute_result"
    }
   ],
   "source": [
    "%store -r shuffled_base_df\n",
    "%store -r tfidf_vectorized_features\n",
    "\n",
    "pd.set_option('max_colwidth', 800)\n",
    "pre_processed_df = shuffled_base_df.copy()\n",
    "pre_processed_df"
   ]
  },
  {
   "cell_type": "markdown",
   "metadata": {},
   "source": [
    "# Split Features and Prediction Labels"
   ]
  },
  {
   "cell_type": "code",
   "execution_count": 3,
   "metadata": {},
   "outputs": [],
   "source": [
    "base_pipeline = BasePipeline()"
   ]
  },
  {
   "cell_type": "code",
   "execution_count": 4,
   "metadata": {},
   "outputs": [
    {
     "data": {
      "text/plain": [
       "0     0\n",
       "1     1\n",
       "2     1\n",
       "3     0\n",
       "4     0\n",
       "5     1\n",
       "6     0\n",
       "7     1\n",
       "8     1\n",
       "9     0\n",
       "10    1\n",
       "11    1\n",
       "12    0\n",
       "13    0\n",
       "14    0\n",
       "15    1\n",
       "16    0\n",
       "17    1\n",
       "Name: Prediction Label, dtype: int64"
      ]
     },
     "execution_count": 4,
     "metadata": {},
     "output_type": "execute_result"
    }
   ],
   "source": [
    "prediction_labels = shuffled_base_df['Prediction Label']\n",
    "prediction_labels"
   ]
  },
  {
   "cell_type": "markdown",
   "metadata": {},
   "source": [
    "## Models\n",
    "\n",
    "1. Perceptron\n",
    "    - $ x_n \\in X $, `tfidf_vectorized_features`\n",
    "        - N, `tfidf_vectorized_features_n`. Each row (formally document).\n",
    "        - D, `tfidf_vectorized_features_d`. Each column (formally unique terms/features)\n",
    "        - Thus, $ X \\in R^{N \\times D} $\n",
    "    - $ w^T $, Weights, which are randomly initialize (in sklearn)\n",
    "        - N, `tfidf_vectorized_features_d`. Each column (formally unique terms/features)\n",
    "        - D, 1\n",
    "        - Thus, $ w^T \\in R^{N \\times D} $\n",
    "    \n",
    "    $$\n",
    "    (w^T \\cdot x_n) \\Rightarrow (155 \\times 1) \\cdot (1 \\times 155)\n",
    "    $$"
   ]
  },
  {
   "cell_type": "code",
   "execution_count": 5,
   "metadata": {},
   "outputs": [
    {
     "name": "stdout",
     "output_type": "stream",
     "text": [
      "There are 18 features (rows) with 100 words (columns).\n"
     ]
    }
   ],
   "source": [
    "features_N, features_D = tfidf_vectorized_features.shape[0], tfidf_vectorized_features.shape[1]\n",
    "print(f\"There are {features_N} features (rows) with {features_D} words (columns).\")"
   ]
  },
  {
   "cell_type": "code",
   "execution_count": 6,
   "metadata": {},
   "outputs": [],
   "source": [
    "prediction_labels = pre_processed_df['Prediction Label']\n",
    "X_train, X_test, y_train, y_test = DataProcessing.split_data(tfidf_vectorized_features, prediction_labels)"
   ]
  },
  {
   "cell_type": "code",
   "execution_count": 7,
   "metadata": {},
   "outputs": [
    {
     "data": {
      "text/plain": [
       "0    0\n",
       "1    1\n",
       "2    1\n",
       "3    1\n",
       "dtype: int64"
      ]
     },
     "execution_count": 7,
     "metadata": {},
     "output_type": "execute_result"
    }
   ],
   "source": [
    "perception_model = PerceptronModel()\n",
    "\n",
    "perception_model.train_model(X_train, y_train)\n",
    "y_predictions = perception_model.predict(X_test)\n",
    "y_predictions"
   ]
  },
  {
   "cell_type": "code",
   "execution_count": 8,
   "metadata": {},
   "outputs": [
    {
     "data": {
      "text/html": [
       "<div>\n",
       "<style scoped>\n",
       "    .dataframe tbody tr th:only-of-type {\n",
       "        vertical-align: middle;\n",
       "    }\n",
       "\n",
       "    .dataframe tbody tr th {\n",
       "        vertical-align: top;\n",
       "    }\n",
       "\n",
       "    .dataframe thead th {\n",
       "        text-align: right;\n",
       "    }\n",
       "</style>\n",
       "<table border=\"1\" class=\"dataframe\">\n",
       "  <thead>\n",
       "    <tr style=\"text-align: right;\">\n",
       "      <th></th>\n",
       "      <th>Base Predictions</th>\n",
       "      <th>Prediction Label</th>\n",
       "      <th>Perceptron Model Prediction</th>\n",
       "    </tr>\n",
       "  </thead>\n",
       "  <tbody>\n",
       "    <tr>\n",
       "      <th>14</th>\n",
       "      <td>the music is playing loudly.</td>\n",
       "      <td>0</td>\n",
       "      <td>0</td>\n",
       "    </tr>\n",
       "    <tr>\n",
       "      <th>15</th>\n",
       "      <td>on monday, july 22, 2024, julian sanchez forecasts that the return on equity (roe) at visa (v) has a high probability of improving by 3% to 20% in q2 of 2027.</td>\n",
       "      <td>1</td>\n",
       "      <td>1</td>\n",
       "    </tr>\n",
       "    <tr>\n",
       "      <th>16</th>\n",
       "      <td>the dog is running quickly.</td>\n",
       "      <td>0</td>\n",
       "      <td>1</td>\n",
       "    </tr>\n",
       "    <tr>\n",
       "      <th>17</th>\n",
       "      <td>on tuesday, june 18, 2024, mia garcia predicts that the capital expenditures at cisco systems (csco) should decrease by 5% to $1.5 billion in q1 of 2028.</td>\n",
       "      <td>1</td>\n",
       "      <td>1</td>\n",
       "    </tr>\n",
       "  </tbody>\n",
       "</table>\n",
       "</div>"
      ],
      "text/plain": [
       "                                                                                                                                                  Base Predictions  \\\n",
       "14                                                                                                                                    the music is playing loudly.   \n",
       "15  on monday, july 22, 2024, julian sanchez forecasts that the return on equity (roe) at visa (v) has a high probability of improving by 3% to 20% in q2 of 2027.   \n",
       "16                                                                                                                                     the dog is running quickly.   \n",
       "17       on tuesday, june 18, 2024, mia garcia predicts that the capital expenditures at cisco systems (csco) should decrease by 5% to $1.5 billion in q1 of 2028.   \n",
       "\n",
       "    Prediction Label  Perceptron Model Prediction  \n",
       "14                 0                            0  \n",
       "15                 1                            1  \n",
       "16                 0                            1  \n",
       "17                 1                            1  "
      ]
     },
     "execution_count": 8,
     "metadata": {},
     "output_type": "execute_result"
    }
   ],
   "source": [
    "DataProcessing.join_predictions_with_labels(pre_processed_df, y_test, y_predictions, perception_model)"
   ]
  },
  {
   "cell_type": "code",
   "execution_count": 9,
   "metadata": {},
   "outputs": [
    {
     "name": "stdout",
     "output_type": "stream",
     "text": [
      "              precision    recall  f1-score   support\n",
      "\n",
      "           0       1.00      1.00      1.00         1\n",
      "           1       1.00      1.00      1.00         3\n",
      "\n",
      "    accuracy                           1.00         4\n",
      "   macro avg       1.00      1.00      1.00         4\n",
      "weighted avg       1.00      1.00      1.00         4\n",
      "\n"
     ]
    }
   ],
   "source": [
    "metrics = base_pipeline.evaluation_metrics(y_test, y_predictions, default_metrics=True)\n",
    "metrics"
   ]
  },
  {
   "cell_type": "code",
   "execution_count": 10,
   "metadata": {},
   "outputs": [
    {
     "data": {
      "text/plain": [
       "{'Accuracy': 1.0, 'Precision': 1.0, 'Recall': 1.0, 'F1 Score': 1.0}"
      ]
     },
     "execution_count": 10,
     "metadata": {},
     "output_type": "execute_result"
    }
   ],
   "source": [
    "metrics = base_pipeline.evaluation_metrics(y_test, y_predictions, default_metrics=False)\n",
    "metrics"
   ]
  }
 ],
 "metadata": {
  "kernelspec": {
   "display_name": "predictions",
   "language": "python",
   "name": "python3"
  },
  "language_info": {
   "codemirror_mode": {
    "name": "ipython",
    "version": 3
   },
   "file_extension": ".py",
   "mimetype": "text/x-python",
   "name": "python",
   "nbconvert_exporter": "python",
   "pygments_lexer": "ipython3",
   "version": "3.11.0"
  }
 },
 "nbformat": 4,
 "nbformat_minor": 2
}
