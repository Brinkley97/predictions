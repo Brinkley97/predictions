{
 "cells": [
  {
   "cell_type": "code",
   "execution_count": null,
   "metadata": {},
   "outputs": [],
   "source": []
  },
  {
   "cell_type": "code",
   "execution_count": 1,
   "metadata": {},
   "outputs": [],
   "source": [
    "generate_predictions_notebook = 'generate_prediction.ipynb'\n",
    "%run $generate_predictions_notebook"
   ]
  },
  {
   "cell_type": "code",
   "execution_count": 2,
   "metadata": {},
   "outputs": [
    {
     "data": {
      "text/html": [
       "<div>\n",
       "<style scoped>\n",
       "    .dataframe tbody tr th:only-of-type {\n",
       "        vertical-align: middle;\n",
       "    }\n",
       "\n",
       "    .dataframe tbody tr th {\n",
       "        vertical-align: top;\n",
       "    }\n",
       "\n",
       "    .dataframe thead th {\n",
       "        text-align: right;\n",
       "    }\n",
       "</style>\n",
       "<table border=\"1\" class=\"dataframe\">\n",
       "  <thead>\n",
       "    <tr style=\"text-align: right;\">\n",
       "      <th></th>\n",
       "      <th>Base Predictions</th>\n",
       "      <th>Prediction Label</th>\n",
       "    </tr>\n",
       "  </thead>\n",
       "  <tbody>\n",
       "    <tr>\n",
       "      <th>0</th>\n",
       "      <td>on wednesday, november 20, 2024, emily chen forecasts that the revenue at amazon (amzn) will rise by 12% to $150 billion in q2 of 2026.</td>\n",
       "      <td>True</td>\n",
       "    </tr>\n",
       "    <tr>\n",
       "      <th>1</th>\n",
       "      <td>on thursday, october 17, 2024, liam kim predicts that the operating cash flow at microsoft (msft) should decrease by 2% to $50 billion in q1 of 2027.</td>\n",
       "      <td>True</td>\n",
       "    </tr>\n",
       "    <tr>\n",
       "      <th>2</th>\n",
       "      <td>on friday, september 13, 2024, sophia rodriguez envisions that the stock price at tesla (tsla) will likely fall by 10% to $200 per share in q4 of 2025.</td>\n",
       "      <td>True</td>\n",
       "    </tr>\n",
       "    <tr>\n",
       "      <th>3</th>\n",
       "      <td>on monday, august 19, 2024, ethan hall speculates that the dividend payout ratio at procter &amp; gamble (pg) will probably remain at 60% in q3 of 2026.</td>\n",
       "      <td>True</td>\n",
       "    </tr>\n",
       "    <tr>\n",
       "      <th>4</th>\n",
       "      <td>on tuesday, july 16, 2024, ava wong predicts that the research and development expenses at johnson &amp; johnson (jnj) may increase by 10% to $12 billion in fy 2029.</td>\n",
       "      <td>True</td>\n",
       "    </tr>\n",
       "    <tr>\n",
       "      <th>5</th>\n",
       "      <td>on wednesday, june 12, 2024, julian sanchez forecasts that the return on equity (roe) at visa (v) has a high probability of improving by 3% to 20% in q2 of 2028.</td>\n",
       "      <td>True</td>\n",
       "    </tr>\n",
       "    <tr>\n",
       "      <th>6</th>\n",
       "      <td>on thursday, may 9, 2024, mia garcia predicts that the capital expenditures at chevron (cvx) should decrease by 5% to $10 billion in q1 of 2027.</td>\n",
       "      <td>True</td>\n",
       "    </tr>\n",
       "    <tr>\n",
       "      <th>7</th>\n",
       "      <td>on friday, april 12, 2024, logan brooks envisions that the gross profit margin at cisco systems (csco) will likely expand by 2% to 22% in q4 of 2026.</td>\n",
       "      <td>True</td>\n",
       "    </tr>\n",
       "    <tr>\n",
       "      <th>8</th>\n",
       "      <td>on monday, march 18, 2024, hannah taylor forsees that the total debt at 3m (mmm) will probably decrease by 8% to $10 billion in q3 of 2029.</td>\n",
       "      <td>True</td>\n",
       "    </tr>\n",
       "    <tr>\n",
       "      <th>9</th>\n",
       "      <td>on tuesday, february 13, 2024, detravious white predicts that the earnings before interest and taxes (ebit) at walmart (wmt) may increase by 7% to $30 billion in fy 2028.</td>\n",
       "      <td>True</td>\n",
       "    </tr>\n",
       "    <tr>\n",
       "      <th>10</th>\n",
       "      <td>1. the sun rises in the east.</td>\n",
       "      <td>False</td>\n",
       "    </tr>\n",
       "    <tr>\n",
       "      <th>11</th>\n",
       "      <td>2. water is essential for human survival.</td>\n",
       "      <td>False</td>\n",
       "    </tr>\n",
       "    <tr>\n",
       "      <th>12</th>\n",
       "      <td>3. the book is on the table.</td>\n",
       "      <td>False</td>\n",
       "    </tr>\n",
       "    <tr>\n",
       "      <th>13</th>\n",
       "      <td>4. the company has a strong management team.</td>\n",
       "      <td>False</td>\n",
       "    </tr>\n",
       "    <tr>\n",
       "      <th>14</th>\n",
       "      <td>5. the city is located near the ocean.</td>\n",
       "      <td>False</td>\n",
       "    </tr>\n",
       "    <tr>\n",
       "      <th>15</th>\n",
       "      <td>6. the teacher is writing on the board.</td>\n",
       "      <td>False</td>\n",
       "    </tr>\n",
       "    <tr>\n",
       "      <th>16</th>\n",
       "      <td>7. the music is playing loudly.</td>\n",
       "      <td>False</td>\n",
       "    </tr>\n",
       "    <tr>\n",
       "      <th>17</th>\n",
       "      <td>8. the dog is running quickly.</td>\n",
       "      <td>False</td>\n",
       "    </tr>\n",
       "    <tr>\n",
       "      <th>18</th>\n",
       "      <td>9. the flower is blooming beautifully.</td>\n",
       "      <td>False</td>\n",
       "    </tr>\n",
       "  </tbody>\n",
       "</table>\n",
       "</div>"
      ],
      "text/plain": [
       "                                                                                                                                                              Base Predictions  \\\n",
       "0                                      on wednesday, november 20, 2024, emily chen forecasts that the revenue at amazon (amzn) will rise by 12% to $150 billion in q2 of 2026.   \n",
       "1                        on thursday, october 17, 2024, liam kim predicts that the operating cash flow at microsoft (msft) should decrease by 2% to $50 billion in q1 of 2027.   \n",
       "2                      on friday, september 13, 2024, sophia rodriguez envisions that the stock price at tesla (tsla) will likely fall by 10% to $200 per share in q4 of 2025.   \n",
       "3                         on monday, august 19, 2024, ethan hall speculates that the dividend payout ratio at procter & gamble (pg) will probably remain at 60% in q3 of 2026.   \n",
       "4            on tuesday, july 16, 2024, ava wong predicts that the research and development expenses at johnson & johnson (jnj) may increase by 10% to $12 billion in fy 2029.   \n",
       "5            on wednesday, june 12, 2024, julian sanchez forecasts that the return on equity (roe) at visa (v) has a high probability of improving by 3% to 20% in q2 of 2028.   \n",
       "6                             on thursday, may 9, 2024, mia garcia predicts that the capital expenditures at chevron (cvx) should decrease by 5% to $10 billion in q1 of 2027.   \n",
       "7                        on friday, april 12, 2024, logan brooks envisions that the gross profit margin at cisco systems (csco) will likely expand by 2% to 22% in q4 of 2026.   \n",
       "8                                  on monday, march 18, 2024, hannah taylor forsees that the total debt at 3m (mmm) will probably decrease by 8% to $10 billion in q3 of 2029.   \n",
       "9   on tuesday, february 13, 2024, detravious white predicts that the earnings before interest and taxes (ebit) at walmart (wmt) may increase by 7% to $30 billion in fy 2028.   \n",
       "10                                                                                                                                               1. the sun rises in the east.   \n",
       "11                                                                                                                                   2. water is essential for human survival.   \n",
       "12                                                                                                                                                3. the book is on the table.   \n",
       "13                                                                                                                                4. the company has a strong management team.   \n",
       "14                                                                                                                                      5. the city is located near the ocean.   \n",
       "15                                                                                                                                     6. the teacher is writing on the board.   \n",
       "16                                                                                                                                             7. the music is playing loudly.   \n",
       "17                                                                                                                                              8. the dog is running quickly.   \n",
       "18                                                                                                                                      9. the flower is blooming beautifully.   \n",
       "\n",
       "    Prediction Label  \n",
       "0               True  \n",
       "1               True  \n",
       "2               True  \n",
       "3               True  \n",
       "4               True  \n",
       "5               True  \n",
       "6               True  \n",
       "7               True  \n",
       "8               True  \n",
       "9               True  \n",
       "10             False  \n",
       "11             False  \n",
       "12             False  \n",
       "13             False  \n",
       "14             False  \n",
       "15             False  \n",
       "16             False  \n",
       "17             False  \n",
       "18             False  "
      ]
     },
     "execution_count": 2,
     "metadata": {},
     "output_type": "execute_result"
    }
   ],
   "source": [
    "cleaned_predictions_notebook = 'clean_generated_prediction.ipynb'\n",
    "%run $cleaned_predictions_notebook\n",
    "cleaner.df"
   ]
  },
  {
   "cell_type": "code",
   "execution_count": 3,
   "metadata": {},
   "outputs": [
    {
     "data": {
      "text/plain": [
       "<Compressed Sparse Row sparse matrix of dtype 'float64'\n",
       "\twith 645 stored elements and shape (32, 241)>"
      ]
     },
     "execution_count": 3,
     "metadata": {},
     "output_type": "execute_result"
    }
   ],
   "source": [
    "tfidf_feature_extraction_notebook = 'tfidf_feature_extraction.ipynb'\n",
    "%run $tfidf_feature_extraction_notebook\n",
    "tf_idf_features"
   ]
  },
  {
   "cell_type": "code",
   "execution_count": 4,
   "metadata": {},
   "outputs": [
    {
     "data": {
      "text/plain": [
       "{'Accuracy': 1.0, 'Precision': 1.0, 'Recall': 1.0, 'F1 Score': 1.0}"
      ]
     },
     "execution_count": 4,
     "metadata": {},
     "output_type": "execute_result"
    }
   ],
   "source": [
    "models_notebook = 'models.ipynb'\n",
    "%run $models_notebook\n",
    "metrics"
   ]
  }
 ],
 "metadata": {
  "kernelspec": {
   "display_name": "predictions",
   "language": "python",
   "name": "python3"
  },
  "language_info": {
   "codemirror_mode": {
    "name": "ipython",
    "version": 3
   },
   "file_extension": ".py",
   "mimetype": "text/x-python",
   "name": "python",
   "nbconvert_exporter": "python",
   "pygments_lexer": "ipython3",
   "version": "3.11.0"
  }
 },
 "nbformat": 4,
 "nbformat_minor": 2
}
