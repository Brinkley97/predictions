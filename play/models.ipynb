{
 "cells": [
  {
   "cell_type": "markdown",
   "metadata": {},
   "source": [
    "# Models"
   ]
  },
  {
   "cell_type": "code",
   "execution_count": 1,
   "metadata": {},
   "outputs": [],
   "source": [
    "import os\n",
    "import sys\n",
    "\n",
    "# Get the current working directory of the notebook\n",
    "notebook_dir = os.getcwd()\n",
    "# Add the parent directory to the system path\n",
    "sys.path.append(os.path.join(notebook_dir, '../'))\n",
    "\n",
    "from classification_models import PerceptronModel"
   ]
  },
  {
   "cell_type": "code",
   "execution_count": 2,
   "metadata": {},
   "outputs": [
    {
     "data": {
      "text/html": [
       "<div>\n",
       "<style scoped>\n",
       "    .dataframe tbody tr th:only-of-type {\n",
       "        vertical-align: middle;\n",
       "    }\n",
       "\n",
       "    .dataframe tbody tr th {\n",
       "        vertical-align: top;\n",
       "    }\n",
       "\n",
       "    .dataframe thead th {\n",
       "        text-align: right;\n",
       "    }\n",
       "</style>\n",
       "<table border=\"1\" class=\"dataframe\">\n",
       "  <thead>\n",
       "    <tr style=\"text-align: right;\">\n",
       "      <th></th>\n",
       "      <th>Base Predictions</th>\n",
       "      <th>Prediction Label</th>\n",
       "    </tr>\n",
       "  </thead>\n",
       "  <tbody>\n",
       "    <tr>\n",
       "      <th>0</th>\n",
       "      <td>on monday, november 25, 2024, emily chen forecasts that the revenue at amazon (amzn) will rise by 12% to $150 billion in q2 of 2026.</td>\n",
       "      <td>True</td>\n",
       "    </tr>\n",
       "    <tr>\n",
       "      <th>1</th>\n",
       "      <td>on tuesday, october 22, 2024, liam kim predicts that the net profit at microsoft (msft) should decrease by 2% to $50 billion in q4 of 2027.</td>\n",
       "      <td>True</td>\n",
       "    </tr>\n",
       "    <tr>\n",
       "      <th>2</th>\n",
       "      <td>on wednesday, september 18, 2024, sophia rodriguez envisions that the stock price at tesla (tsla) will likely increase by 30% to $500 per share in q1 of 2028.</td>\n",
       "      <td>True</td>\n",
       "    </tr>\n",
       "    <tr>\n",
       "      <th>3</th>\n",
       "      <td>on thursday, august 21, 2024, ethan hall speculates that the operating cash flow at chevron (cvx) will probably remain at $30 billion in q3 of 2026.</td>\n",
       "      <td>True</td>\n",
       "    </tr>\n",
       "    <tr>\n",
       "      <th>4</th>\n",
       "      <td>on friday, july 19, 2024, maya patel predicts that the research and development expenses at johnson &amp; johnson (jnj) may increase by 10% to $12 billion in fy 2029.</td>\n",
       "      <td>True</td>\n",
       "    </tr>\n",
       "    <tr>\n",
       "      <th>5</th>\n",
       "      <td>on monday, june 17, 2024, julian sanchez forecasts that the return on assets (roa) at visa (v) has a high probability of improving by 1.5% to 20% in q2 of 2027.</td>\n",
       "      <td>True</td>\n",
       "    </tr>\n",
       "    <tr>\n",
       "      <th>6</th>\n",
       "      <td>on tuesday, may 21, 2024, ava moreno predicts that the capital expenditures at at&amp;t (t) should decrease by 5% to $15 billion in q4 of 2028.</td>\n",
       "      <td>True</td>\n",
       "    </tr>\n",
       "    <tr>\n",
       "      <th>7</th>\n",
       "      <td>on wednesday, april 17, 2024, logan brooks envisions that the gross margin at procter &amp; gamble (pg) will likely expand by 1.2% to 22% in q1 of 2026.</td>\n",
       "      <td>True</td>\n",
       "    </tr>\n",
       "    <tr>\n",
       "      <th>8</th>\n",
       "      <td>on thursday, march 21, 2024, mia garcia forsees that the total revenue at cisco systems (csco) will probably increase by 8% to $50 billion in q3 of 2027.</td>\n",
       "      <td>True</td>\n",
       "    </tr>\n",
       "    <tr>\n",
       "      <th>9</th>\n",
       "      <td>on friday, february 16, 2024, jackson brown predicts that the earnings before interest and taxes (ebit) at 3m (mmm) may decrease by 3% to $10 billion in fy 2028.</td>\n",
       "      <td>True</td>\n",
       "    </tr>\n",
       "    <tr>\n",
       "      <th>10</th>\n",
       "      <td>1. the sun rises in the east.</td>\n",
       "      <td>False</td>\n",
       "    </tr>\n",
       "    <tr>\n",
       "      <th>11</th>\n",
       "      <td>2. the book is on the table.</td>\n",
       "      <td>False</td>\n",
       "    </tr>\n",
       "    <tr>\n",
       "      <th>12</th>\n",
       "      <td>3. the company has a strong management team.</td>\n",
       "      <td>False</td>\n",
       "    </tr>\n",
       "    <tr>\n",
       "      <th>13</th>\n",
       "      <td>4. the city is located near the ocean.</td>\n",
       "      <td>False</td>\n",
       "    </tr>\n",
       "    <tr>\n",
       "      <th>14</th>\n",
       "      <td>5. the teacher is writing on the board.</td>\n",
       "      <td>False</td>\n",
       "    </tr>\n",
       "    <tr>\n",
       "      <th>15</th>\n",
       "      <td>6. the students are working on their project.</td>\n",
       "      <td>False</td>\n",
       "    </tr>\n",
       "    <tr>\n",
       "      <th>16</th>\n",
       "      <td>7. the music is playing loudly in the room.</td>\n",
       "      <td>False</td>\n",
       "    </tr>\n",
       "    <tr>\n",
       "      <th>17</th>\n",
       "      <td>8. the flowers are blooming in the garden.</td>\n",
       "      <td>False</td>\n",
       "    </tr>\n",
       "    <tr>\n",
       "      <th>18</th>\n",
       "      <td>9. the car is parked in the driveway.</td>\n",
       "      <td>False</td>\n",
       "    </tr>\n",
       "  </tbody>\n",
       "</table>\n",
       "</div>"
      ],
      "text/plain": [
       "                                                                                                                                                      Base Predictions  \\\n",
       "0                                 on monday, november 25, 2024, emily chen forecasts that the revenue at amazon (amzn) will rise by 12% to $150 billion in q2 of 2026.   \n",
       "1                          on tuesday, october 22, 2024, liam kim predicts that the net profit at microsoft (msft) should decrease by 2% to $50 billion in q4 of 2027.   \n",
       "2       on wednesday, september 18, 2024, sophia rodriguez envisions that the stock price at tesla (tsla) will likely increase by 30% to $500 per share in q1 of 2028.   \n",
       "3                 on thursday, august 21, 2024, ethan hall speculates that the operating cash flow at chevron (cvx) will probably remain at $30 billion in q3 of 2026.   \n",
       "4   on friday, july 19, 2024, maya patel predicts that the research and development expenses at johnson & johnson (jnj) may increase by 10% to $12 billion in fy 2029.   \n",
       "5     on monday, june 17, 2024, julian sanchez forecasts that the return on assets (roa) at visa (v) has a high probability of improving by 1.5% to 20% in q2 of 2027.   \n",
       "6                          on tuesday, may 21, 2024, ava moreno predicts that the capital expenditures at at&t (t) should decrease by 5% to $15 billion in q4 of 2028.   \n",
       "7                 on wednesday, april 17, 2024, logan brooks envisions that the gross margin at procter & gamble (pg) will likely expand by 1.2% to 22% in q1 of 2026.   \n",
       "8            on thursday, march 21, 2024, mia garcia forsees that the total revenue at cisco systems (csco) will probably increase by 8% to $50 billion in q3 of 2027.   \n",
       "9    on friday, february 16, 2024, jackson brown predicts that the earnings before interest and taxes (ebit) at 3m (mmm) may decrease by 3% to $10 billion in fy 2028.   \n",
       "10                                                                                                                                       1. the sun rises in the east.   \n",
       "11                                                                                                                                        2. the book is on the table.   \n",
       "12                                                                                                                        3. the company has a strong management team.   \n",
       "13                                                                                                                              4. the city is located near the ocean.   \n",
       "14                                                                                                                             5. the teacher is writing on the board.   \n",
       "15                                                                                                                       6. the students are working on their project.   \n",
       "16                                                                                                                         7. the music is playing loudly in the room.   \n",
       "17                                                                                                                          8. the flowers are blooming in the garden.   \n",
       "18                                                                                                                               9. the car is parked in the driveway.   \n",
       "\n",
       "    Prediction Label  \n",
       "0               True  \n",
       "1               True  \n",
       "2               True  \n",
       "3               True  \n",
       "4               True  \n",
       "5               True  \n",
       "6               True  \n",
       "7               True  \n",
       "8               True  \n",
       "9               True  \n",
       "10             False  \n",
       "11             False  \n",
       "12             False  \n",
       "13             False  \n",
       "14             False  \n",
       "15             False  \n",
       "16             False  \n",
       "17             False  \n",
       "18             False  "
      ]
     },
     "execution_count": 2,
     "metadata": {},
     "output_type": "execute_result"
    }
   ],
   "source": [
    "cleaned_predictions_notebook = 'clean_generated_prediction.ipynb'\n",
    "%run $cleaned_predictions_notebook\n",
    "cleaner.df"
   ]
  },
  {
   "cell_type": "code",
   "execution_count": 3,
   "metadata": {},
   "outputs": [
    {
     "data": {
      "text/html": [
       "<div>\n",
       "<style scoped>\n",
       "    .dataframe tbody tr th:only-of-type {\n",
       "        vertical-align: middle;\n",
       "    }\n",
       "\n",
       "    .dataframe tbody tr th {\n",
       "        vertical-align: top;\n",
       "    }\n",
       "\n",
       "    .dataframe thead th {\n",
       "        text-align: right;\n",
       "    }\n",
       "</style>\n",
       "<table border=\"1\" class=\"dataframe\">\n",
       "  <thead>\n",
       "    <tr style=\"text-align: right;\">\n",
       "      <th></th>\n",
       "      <th>Base Predictions</th>\n",
       "      <th>Prediction Label</th>\n",
       "    </tr>\n",
       "  </thead>\n",
       "  <tbody>\n",
       "    <tr>\n",
       "      <th>0</th>\n",
       "      <td>on monday, november 25, 2024, emily chen forecasts that the revenue at amazon (amzn) will rise by 12% to $150 billion in q2 of 2026.</td>\n",
       "      <td>True</td>\n",
       "    </tr>\n",
       "    <tr>\n",
       "      <th>1</th>\n",
       "      <td>on tuesday, october 22, 2024, liam kim predicts that the net profit at microsoft (msft) should decrease by 2% to $50 billion in q4 of 2027.</td>\n",
       "      <td>True</td>\n",
       "    </tr>\n",
       "    <tr>\n",
       "      <th>2</th>\n",
       "      <td>on wednesday, september 18, 2024, sophia rodriguez envisions that the stock price at tesla (tsla) will likely increase by 30% to $500 per share in q1 of 2028.</td>\n",
       "      <td>True</td>\n",
       "    </tr>\n",
       "    <tr>\n",
       "      <th>3</th>\n",
       "      <td>on thursday, august 21, 2024, ethan hall speculates that the operating cash flow at chevron (cvx) will probably remain at $30 billion in q3 of 2026.</td>\n",
       "      <td>True</td>\n",
       "    </tr>\n",
       "    <tr>\n",
       "      <th>4</th>\n",
       "      <td>on friday, july 19, 2024, maya patel predicts that the research and development expenses at johnson &amp; johnson (jnj) may increase by 10% to $12 billion in fy 2029.</td>\n",
       "      <td>True</td>\n",
       "    </tr>\n",
       "    <tr>\n",
       "      <th>5</th>\n",
       "      <td>on monday, june 17, 2024, julian sanchez forecasts that the return on assets (roa) at visa (v) has a high probability of improving by 1.5% to 20% in q2 of 2027.</td>\n",
       "      <td>True</td>\n",
       "    </tr>\n",
       "    <tr>\n",
       "      <th>6</th>\n",
       "      <td>on tuesday, may 21, 2024, ava moreno predicts that the capital expenditures at at&amp;t (t) should decrease by 5% to $15 billion in q4 of 2028.</td>\n",
       "      <td>True</td>\n",
       "    </tr>\n",
       "    <tr>\n",
       "      <th>7</th>\n",
       "      <td>on wednesday, april 17, 2024, logan brooks envisions that the gross margin at procter &amp; gamble (pg) will likely expand by 1.2% to 22% in q1 of 2026.</td>\n",
       "      <td>True</td>\n",
       "    </tr>\n",
       "    <tr>\n",
       "      <th>8</th>\n",
       "      <td>on thursday, march 21, 2024, mia garcia forsees that the total revenue at cisco systems (csco) will probably increase by 8% to $50 billion in q3 of 2027.</td>\n",
       "      <td>True</td>\n",
       "    </tr>\n",
       "    <tr>\n",
       "      <th>9</th>\n",
       "      <td>on friday, february 16, 2024, jackson brown predicts that the earnings before interest and taxes (ebit) at 3m (mmm) may decrease by 3% to $10 billion in fy 2028.</td>\n",
       "      <td>True</td>\n",
       "    </tr>\n",
       "    <tr>\n",
       "      <th>10</th>\n",
       "      <td>1. the sun rises in the east.</td>\n",
       "      <td>False</td>\n",
       "    </tr>\n",
       "    <tr>\n",
       "      <th>11</th>\n",
       "      <td>2. the book is on the table.</td>\n",
       "      <td>False</td>\n",
       "    </tr>\n",
       "    <tr>\n",
       "      <th>12</th>\n",
       "      <td>3. the company has a strong management team.</td>\n",
       "      <td>False</td>\n",
       "    </tr>\n",
       "    <tr>\n",
       "      <th>13</th>\n",
       "      <td>4. the city is located near the ocean.</td>\n",
       "      <td>False</td>\n",
       "    </tr>\n",
       "    <tr>\n",
       "      <th>14</th>\n",
       "      <td>5. the teacher is writing on the board.</td>\n",
       "      <td>False</td>\n",
       "    </tr>\n",
       "    <tr>\n",
       "      <th>15</th>\n",
       "      <td>6. the students are working on their project.</td>\n",
       "      <td>False</td>\n",
       "    </tr>\n",
       "    <tr>\n",
       "      <th>16</th>\n",
       "      <td>7. the music is playing loudly in the room.</td>\n",
       "      <td>False</td>\n",
       "    </tr>\n",
       "    <tr>\n",
       "      <th>17</th>\n",
       "      <td>8. the flowers are blooming in the garden.</td>\n",
       "      <td>False</td>\n",
       "    </tr>\n",
       "    <tr>\n",
       "      <th>18</th>\n",
       "      <td>9. the car is parked in the driveway.</td>\n",
       "      <td>False</td>\n",
       "    </tr>\n",
       "  </tbody>\n",
       "</table>\n",
       "</div>"
      ],
      "text/plain": [
       "                                                                                                                                                      Base Predictions  \\\n",
       "0                                 on monday, november 25, 2024, emily chen forecasts that the revenue at amazon (amzn) will rise by 12% to $150 billion in q2 of 2026.   \n",
       "1                          on tuesday, october 22, 2024, liam kim predicts that the net profit at microsoft (msft) should decrease by 2% to $50 billion in q4 of 2027.   \n",
       "2       on wednesday, september 18, 2024, sophia rodriguez envisions that the stock price at tesla (tsla) will likely increase by 30% to $500 per share in q1 of 2028.   \n",
       "3                 on thursday, august 21, 2024, ethan hall speculates that the operating cash flow at chevron (cvx) will probably remain at $30 billion in q3 of 2026.   \n",
       "4   on friday, july 19, 2024, maya patel predicts that the research and development expenses at johnson & johnson (jnj) may increase by 10% to $12 billion in fy 2029.   \n",
       "5     on monday, june 17, 2024, julian sanchez forecasts that the return on assets (roa) at visa (v) has a high probability of improving by 1.5% to 20% in q2 of 2027.   \n",
       "6                          on tuesday, may 21, 2024, ava moreno predicts that the capital expenditures at at&t (t) should decrease by 5% to $15 billion in q4 of 2028.   \n",
       "7                 on wednesday, april 17, 2024, logan brooks envisions that the gross margin at procter & gamble (pg) will likely expand by 1.2% to 22% in q1 of 2026.   \n",
       "8            on thursday, march 21, 2024, mia garcia forsees that the total revenue at cisco systems (csco) will probably increase by 8% to $50 billion in q3 of 2027.   \n",
       "9    on friday, february 16, 2024, jackson brown predicts that the earnings before interest and taxes (ebit) at 3m (mmm) may decrease by 3% to $10 billion in fy 2028.   \n",
       "10                                                                                                                                       1. the sun rises in the east.   \n",
       "11                                                                                                                                        2. the book is on the table.   \n",
       "12                                                                                                                        3. the company has a strong management team.   \n",
       "13                                                                                                                              4. the city is located near the ocean.   \n",
       "14                                                                                                                             5. the teacher is writing on the board.   \n",
       "15                                                                                                                       6. the students are working on their project.   \n",
       "16                                                                                                                         7. the music is playing loudly in the room.   \n",
       "17                                                                                                                          8. the flowers are blooming in the garden.   \n",
       "18                                                                                                                               9. the car is parked in the driveway.   \n",
       "\n",
       "    Prediction Label  \n",
       "0               True  \n",
       "1               True  \n",
       "2               True  \n",
       "3               True  \n",
       "4               True  \n",
       "5               True  \n",
       "6               True  \n",
       "7               True  \n",
       "8               True  \n",
       "9               True  \n",
       "10             False  \n",
       "11             False  \n",
       "12             False  \n",
       "13             False  \n",
       "14             False  \n",
       "15             False  \n",
       "16             False  \n",
       "17             False  \n",
       "18             False  "
      ]
     },
     "execution_count": 3,
     "metadata": {},
     "output_type": "execute_result"
    }
   ],
   "source": [
    "df = cleaner.df\n",
    "df"
   ]
  },
  {
   "cell_type": "code",
   "execution_count": 4,
   "metadata": {},
   "outputs": [
    {
     "data": {
      "text/plain": [
       "<Compressed Sparse Row sparse matrix of dtype 'float64'\n",
       "\twith 309 stored elements and shape (19, 164)>"
      ]
     },
     "execution_count": 4,
     "metadata": {},
     "output_type": "execute_result"
    }
   ],
   "source": [
    "tfidf_feature_extraction_notebook = 'tfidf_feature_extraction.ipynb'\n",
    "%run $tfidf_feature_extraction_notebook\n",
    "tf_idf_features"
   ]
  },
  {
   "cell_type": "markdown",
   "metadata": {},
   "source": [
    "# Split Features and Prediction Labels"
   ]
  },
  {
   "cell_type": "code",
   "execution_count": 5,
   "metadata": {},
   "outputs": [
    {
     "data": {
      "text/plain": [
       "(19,)"
      ]
     },
     "execution_count": 5,
     "metadata": {},
     "output_type": "execute_result"
    }
   ],
   "source": [
    "prediction_labels = df['Prediction Label']\n",
    "prediction_labels.shape"
   ]
  },
  {
   "cell_type": "code",
   "execution_count": 6,
   "metadata": {},
   "outputs": [
    {
     "data": {
      "text/plain": [
       "((15, 164), (4, 164), (15,), (4,))"
      ]
     },
     "execution_count": 6,
     "metadata": {},
     "output_type": "execute_result"
    }
   ],
   "source": [
    "from sklearn.model_selection import train_test_split\n",
    "\n",
    "X_train, X_test, y_train, y_test = train_test_split(tf_idf_features, prediction_labels, test_size=0.2, random_state=42)\n",
    "X_train.shape, X_test.shape, y_train.shape, y_test.shape"
   ]
  },
  {
   "cell_type": "code",
   "execution_count": 7,
   "metadata": {},
   "outputs": [],
   "source": [
    "# def eval_accuracy(y_true, y_prediction):\n",
    "#     return sklearn.metrics.accuracy_score(y_true, y_prediction)\n",
    "\n",
    "# def eval_precision(y_true, y_prediction):\n",
    "#     return sklearn.metrics.precision_score(y_true, y_prediction)\n",
    "\n",
    "# def eval_recall(y_true, y_prediction):\n",
    "#     return sklearn.metrics.recall_score(y_true, y_prediction)\n",
    "\n",
    "# def eval_f1_score(y_true, y_prediction):\n",
    "#     return sklearn.metrics.f1_score(y_true, y_prediction)\n",
    "\n",
    "# def train_eval_metric(y_train_true, y_train_predictions):\n",
    "#     accuracy = eval_accuracy(y_train_true, y_train_predictions)\n",
    "#     precision = eval_precision(y_train_true, y_train_predictions)\n",
    "#     recall = eval_recall(y_train_true, y_train_predictions)\n",
    "#     f1 = eval_f1_score(y_train_true, y_train_predictions)\n",
    "\n",
    "#     metrics_dict = {\n",
    "#         'Accuracy': accuracy,\n",
    "#         'Precision': precision,\n",
    "#         'Recall': recall,\n",
    "#         'F1 Score': f1\n",
    "#     }\n",
    "\n",
    "#     return metrics_dict\n",
    "\n",
    "# def test_eval_metric(y_test_true, y_test_predictions):\n",
    "#     accuracy = eval_accuracy(y_test_true, y_test_predictions)\n",
    "#     precision = eval_precision(y_test_true, y_test_predictions)\n",
    "#     recall = eval_recall(y_test_true, y_test_predictions)\n",
    "#     f1 = eval_f1_score(y_test_true, y_test_predictions)\n",
    "\n",
    "#     metrics_dict = {\n",
    "#         'Accuracy': accuracy,\n",
    "#         'Precision': precision,\n",
    "#         'Recall': recall,\n",
    "#         'F1 Score': f1\n",
    "#     }\n",
    "\n",
    "#     return metrics_dict"
   ]
  },
  {
   "cell_type": "markdown",
   "metadata": {},
   "source": []
  },
  {
   "cell_type": "code",
   "execution_count": 9,
   "metadata": {},
   "outputs": [
    {
     "data": {
      "text/plain": [
       "array([ True, False,  True, False, False, False,  True,  True, False,\n",
       "        True, False,  True, False, False,  True])"
      ]
     },
     "execution_count": 9,
     "metadata": {},
     "output_type": "execute_result"
    }
   ],
   "source": [
    "perceptron_model = PerceptronModel()\n",
    "perceptron_model\n",
    "perceptron_train, perceptron_test = perceptron_model.train_model(X_train, X_test, y_train, y_test)\n",
    "perceptron_train"
   ]
  },
  {
   "cell_type": "code",
   "execution_count": 10,
   "metadata": {},
   "outputs": [
    {
     "data": {
      "text/plain": [
       "array([ True, False, False,  True])"
      ]
     },
     "execution_count": 10,
     "metadata": {},
     "output_type": "execute_result"
    }
   ],
   "source": [
    "perceptron_test"
   ]
  },
  {
   "cell_type": "code",
   "execution_count": null,
   "metadata": {},
   "outputs": [],
   "source": []
  }
 ],
 "metadata": {
  "kernelspec": {
   "display_name": "predictions",
   "language": "python",
   "name": "python3"
  },
  "language_info": {
   "codemirror_mode": {
    "name": "ipython",
    "version": 3
   },
   "file_extension": ".py",
   "mimetype": "text/x-python",
   "name": "python",
   "nbconvert_exporter": "python",
   "pygments_lexer": "ipython3",
   "version": "3.11.0"
  }
 },
 "nbformat": 4,
 "nbformat_minor": 2
}
