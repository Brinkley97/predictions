{
 "cells": [
  {
   "cell_type": "markdown",
   "metadata": {},
   "source": [
    "# Models"
   ]
  },
  {
   "cell_type": "code",
   "execution_count": 1,
   "metadata": {},
   "outputs": [],
   "source": [
    "import os\n",
    "import sys\n",
    "\n",
    "# Get the current working directory of the notebook\n",
    "notebook_dir = os.getcwd()\n",
    "# Add the parent directory to the system path\n",
    "sys.path.append(os.path.join(notebook_dir, '../'))\n",
    "\n",
    "from pipeline import BasePipeline"
   ]
  },
  {
   "cell_type": "code",
   "execution_count": 2,
   "metadata": {},
   "outputs": [
    {
     "name": "stdout",
     "output_type": "stream",
     "text": [
      "Shape (18, 154):\n",
      "   18 rows\n",
      "   154 unique words\n",
      "\n",
      "Visualize TF-IDF scores:\n",
      "    10        12        13   15       150        17   18        20      2024  \\\n",
      "0  0.0  0.199776  0.000000  0.0  0.253906  0.000000  0.0  0.222242  0.128219   \n",
      "1  0.0  0.000000  0.000000  0.0  0.000000  0.253141  0.0  0.000000  0.127833   \n",
      "2  0.0  0.000000  0.229498  0.0  0.000000  0.000000  0.0  0.000000  0.115893   \n",
      "3  0.0  0.187695  0.000000  0.0  0.000000  0.000000  0.0  0.000000  0.120465   \n",
      "4  0.0  0.000000  0.000000  0.0  0.000000  0.000000  0.0  0.000000  0.122953   \n",
      "\n",
      "       2025  ...       the  thursday        to      tsla   tuesday  very  \\\n",
      "0  0.000000  ...  0.078094  0.000000  0.136447  0.000000  0.000000   0.0   \n",
      "1  0.000000  ...  0.077859  0.221572  0.136036  0.000000  0.000000   0.0   \n",
      "2  0.000000  ...  0.070587  0.000000  0.123330  0.229498  0.000000   0.0   \n",
      "3  0.238552  ...  0.073372  0.000000  0.000000  0.000000  0.000000   0.0   \n",
      "4  0.000000  ...  0.074887  0.000000  0.130843  0.000000  0.243478   0.0   \n",
      "\n",
      "   visa  wednesday  white      will  \n",
      "0   0.0   0.222242    0.0  0.168111  \n",
      "1   0.0   0.000000    0.0  0.000000  \n",
      "2   0.0   0.000000    0.0  0.151951  \n",
      "3   0.0   0.000000    0.0  0.157946  \n",
      "4   0.0   0.000000    0.0  0.000000  \n",
      "\n",
      "[5 rows x 154 columns]\n"
     ]
    },
    {
     "data": {
      "text/plain": [
       "<Compressed Sparse Row sparse matrix of dtype 'float64'\n",
       "\twith 277 stored elements and shape (18, 154)>"
      ]
     },
     "execution_count": 2,
     "metadata": {},
     "output_type": "execute_result"
    }
   ],
   "source": [
    "tfidf_feature_extraction_notebook = 'tfidf_feature_extraction.ipynb'\n",
    "%run $tfidf_feature_extraction_notebook\n",
    "tfidf_vectorize_predictions"
   ]
  },
  {
   "cell_type": "code",
   "execution_count": 3,
   "metadata": {},
   "outputs": [
    {
     "data": {
      "text/html": [
       "<div>\n",
       "<style scoped>\n",
       "    .dataframe tbody tr th:only-of-type {\n",
       "        vertical-align: middle;\n",
       "    }\n",
       "\n",
       "    .dataframe tbody tr th {\n",
       "        vertical-align: top;\n",
       "    }\n",
       "\n",
       "    .dataframe thead th {\n",
       "        text-align: right;\n",
       "    }\n",
       "</style>\n",
       "<table border=\"1\" class=\"dataframe\">\n",
       "  <thead>\n",
       "    <tr style=\"text-align: right;\">\n",
       "      <th></th>\n",
       "      <th>Base Predictions</th>\n",
       "      <th>Prediction Label</th>\n",
       "    </tr>\n",
       "  </thead>\n",
       "  <tbody>\n",
       "    <tr>\n",
       "      <th>0</th>\n",
       "      <td>on wednesday, november 20, 2024, emily chen forecasts that the revenue at amazon (amzn) will rise by 12% to $150 billion in q2 of 2026.</td>\n",
       "      <td>1</td>\n",
       "    </tr>\n",
       "    <tr>\n",
       "      <th>1</th>\n",
       "      <td>on thursday, october 17, 2024, liam kim predicts that the net profit at microsoft (msft) should decrease by 2% to $50 billion in q1 of 2027.</td>\n",
       "      <td>1</td>\n",
       "    </tr>\n",
       "    <tr>\n",
       "      <th>2</th>\n",
       "      <td>on friday, september 13, 2024, ava morales envisions that the stock price at tesla (tsla) will likely increase by 30% to $500 per share in q4 of 2028.</td>\n",
       "      <td>1</td>\n",
       "    </tr>\n",
       "    <tr>\n",
       "      <th>3</th>\n",
       "      <td>on monday, august 12, 2024, ethan hall speculates that the operating cash flow at chevron (cvx) will probably remain at $30 billion in q3 of 2025.</td>\n",
       "      <td>1</td>\n",
       "    </tr>\n",
       "    <tr>\n",
       "      <th>4</th>\n",
       "      <td>on tuesday, july 9, 2024, maya patel predicts that the dividend payout ratio at procter &amp; gamble (pg) may increase by 5% to 80% in q2 of 2029.</td>\n",
       "      <td>1</td>\n",
       "    </tr>\n",
       "    <tr>\n",
       "      <th>5</th>\n",
       "      <td>on wednesday, june 5, 2024, julian sanchez forecasts that the research and development expenses at johnson &amp; johnson (jnj) have a high probability of improving by 10% to $12 billion in fy 2028.</td>\n",
       "      <td>1</td>\n",
       "    </tr>\n",
       "    <tr>\n",
       "      <th>6</th>\n",
       "      <td>on thursday, may 1, 2024, logan brooks envisions that the return on equity (roe) at visa (v) will likely expand by 3% to 20% in q1 of 2026.</td>\n",
       "      <td>1</td>\n",
       "    </tr>\n",
       "    <tr>\n",
       "      <th>7</th>\n",
       "      <td>on friday, april 5, 2024, hannah kim predicts that the capital expenditures at at&amp;t (t) should decrease by 5% to $15 billion in q4 of 2027.</td>\n",
       "      <td>1</td>\n",
       "    </tr>\n",
       "    <tr>\n",
       "      <th>8</th>\n",
       "      <td>on monday, march 18, 2024, detravious white forsees that the gross profit margin at cisco systems (csco) will probably remain at 60% in q3 of 2029.</td>\n",
       "      <td>1</td>\n",
       "    </tr>\n",
       "    <tr>\n",
       "      <th>9</th>\n",
       "      <td>the dog is running quickly.</td>\n",
       "      <td>0</td>\n",
       "    </tr>\n",
       "    <tr>\n",
       "      <th>10</th>\n",
       "      <td>the book has a red cover.</td>\n",
       "      <td>0</td>\n",
       "    </tr>\n",
       "    <tr>\n",
       "      <th>11</th>\n",
       "      <td>the city is very crowded.</td>\n",
       "      <td>0</td>\n",
       "    </tr>\n",
       "    <tr>\n",
       "      <th>12</th>\n",
       "      <td>the teacher gave a homework assignment.</td>\n",
       "      <td>0</td>\n",
       "    </tr>\n",
       "    <tr>\n",
       "      <th>13</th>\n",
       "      <td>the flowers are blooming in the garden.</td>\n",
       "      <td>0</td>\n",
       "    </tr>\n",
       "    <tr>\n",
       "      <th>14</th>\n",
       "      <td>the music is playing loudly.</td>\n",
       "      <td>0</td>\n",
       "    </tr>\n",
       "    <tr>\n",
       "      <th>15</th>\n",
       "      <td>the baby is laughing at the clown.</td>\n",
       "      <td>0</td>\n",
       "    </tr>\n",
       "    <tr>\n",
       "      <th>16</th>\n",
       "      <td>the computer is connected to the internet.</td>\n",
       "      <td>0</td>\n",
       "    </tr>\n",
       "    <tr>\n",
       "      <th>17</th>\n",
       "      <td>the pizza is hot and delicious.</td>\n",
       "      <td>0</td>\n",
       "    </tr>\n",
       "  </tbody>\n",
       "</table>\n",
       "</div>"
      ],
      "text/plain": [
       "                                                                                                                                                                                     Base Predictions  \\\n",
       "0                                                             on wednesday, november 20, 2024, emily chen forecasts that the revenue at amazon (amzn) will rise by 12% to $150 billion in q2 of 2026.   \n",
       "1                                                        on thursday, october 17, 2024, liam kim predicts that the net profit at microsoft (msft) should decrease by 2% to $50 billion in q1 of 2027.   \n",
       "2                                              on friday, september 13, 2024, ava morales envisions that the stock price at tesla (tsla) will likely increase by 30% to $500 per share in q4 of 2028.   \n",
       "3                                                  on monday, august 12, 2024, ethan hall speculates that the operating cash flow at chevron (cvx) will probably remain at $30 billion in q3 of 2025.   \n",
       "4                                                      on tuesday, july 9, 2024, maya patel predicts that the dividend payout ratio at procter & gamble (pg) may increase by 5% to 80% in q2 of 2029.   \n",
       "5   on wednesday, june 5, 2024, julian sanchez forecasts that the research and development expenses at johnson & johnson (jnj) have a high probability of improving by 10% to $12 billion in fy 2028.   \n",
       "6                                                         on thursday, may 1, 2024, logan brooks envisions that the return on equity (roe) at visa (v) will likely expand by 3% to 20% in q1 of 2026.   \n",
       "7                                                         on friday, april 5, 2024, hannah kim predicts that the capital expenditures at at&t (t) should decrease by 5% to $15 billion in q4 of 2027.   \n",
       "8                                                 on monday, march 18, 2024, detravious white forsees that the gross profit margin at cisco systems (csco) will probably remain at 60% in q3 of 2029.   \n",
       "9                                                                                                                                                                         the dog is running quickly.   \n",
       "10                                                                                                                                                                          the book has a red cover.   \n",
       "11                                                                                                                                                                          the city is very crowded.   \n",
       "12                                                                                                                                                            the teacher gave a homework assignment.   \n",
       "13                                                                                                                                                            the flowers are blooming in the garden.   \n",
       "14                                                                                                                                                                       the music is playing loudly.   \n",
       "15                                                                                                                                                                 the baby is laughing at the clown.   \n",
       "16                                                                                                                                                         the computer is connected to the internet.   \n",
       "17                                                                                                                                                                    the pizza is hot and delicious.   \n",
       "\n",
       "    Prediction Label  \n",
       "0                  1  \n",
       "1                  1  \n",
       "2                  1  \n",
       "3                  1  \n",
       "4                  1  \n",
       "5                  1  \n",
       "6                  1  \n",
       "7                  1  \n",
       "8                  1  \n",
       "9                  0  \n",
       "10                 0  \n",
       "11                 0  \n",
       "12                 0  \n",
       "13                 0  \n",
       "14                 0  \n",
       "15                 0  \n",
       "16                 0  \n",
       "17                 0  "
      ]
     },
     "execution_count": 3,
     "metadata": {},
     "output_type": "execute_result"
    }
   ],
   "source": [
    "df"
   ]
  },
  {
   "cell_type": "markdown",
   "metadata": {},
   "source": [
    "# Split Features and Prediction Labels"
   ]
  },
  {
   "cell_type": "code",
   "execution_count": 4,
   "metadata": {},
   "outputs": [
    {
     "data": {
      "text/plain": [
       "((18,),\n",
       " 0     1\n",
       " 1     1\n",
       " 2     1\n",
       " 3     1\n",
       " 4     1\n",
       " 5     1\n",
       " 6     1\n",
       " 7     1\n",
       " 8     1\n",
       " 9     0\n",
       " 10    0\n",
       " 11    0\n",
       " 12    0\n",
       " 13    0\n",
       " 14    0\n",
       " 15    0\n",
       " 16    0\n",
       " 17    0\n",
       " Name: Prediction Label, dtype: int64)"
      ]
     },
     "execution_count": 4,
     "metadata": {},
     "output_type": "execute_result"
    }
   ],
   "source": [
    "prediction_labels = df['Prediction Label']\n",
    "prediction_labels.shape, prediction_labels"
   ]
  },
  {
   "cell_type": "code",
   "execution_count": 5,
   "metadata": {},
   "outputs": [
    {
     "name": "stdout",
     "output_type": "stream",
     "text": [
      "X_train: (14, 154)\n",
      "X_test: (4, 154)\n",
      "y_train: (14,)\n",
      "y_test: (4,)\n"
     ]
    },
    {
     "data": {
      "text/plain": [
       "array([1, 0, 0, 0, 0, 1, 0, 0, 1, 0, 1, 0, 0, 1])"
      ]
     },
     "execution_count": 5,
     "metadata": {},
     "output_type": "execute_result"
    }
   ],
   "source": [
    "base_pipeline = BasePipeline()\n",
    "train, test, eval_metric = base_pipeline.train_model(tfidf_vectorize_predictions, prediction_labels, eval_metric=True)\n",
    "train"
   ]
  },
  {
   "cell_type": "code",
   "execution_count": 6,
   "metadata": {},
   "outputs": [
    {
     "data": {
      "text/plain": [
       "array([1, 1, 1, 1])"
      ]
     },
     "execution_count": 6,
     "metadata": {},
     "output_type": "execute_result"
    }
   ],
   "source": [
    "test"
   ]
  },
  {
   "cell_type": "code",
   "execution_count": 7,
   "metadata": {},
   "outputs": [
    {
     "data": {
      "text/plain": [
       "{'Accuracy': 1.0, 'Precision': 1.0, 'Recall': 1.0, 'F1 Score': 1.0}"
      ]
     },
     "execution_count": 7,
     "metadata": {},
     "output_type": "execute_result"
    }
   ],
   "source": [
    "eval_metric"
   ]
  }
 ],
 "metadata": {
  "kernelspec": {
   "display_name": "predictions",
   "language": "python",
   "name": "python3"
  },
  "language_info": {
   "codemirror_mode": {
    "name": "ipython",
    "version": 3
   },
   "file_extension": ".py",
   "mimetype": "text/x-python",
   "name": "python",
   "nbconvert_exporter": "python",
   "pygments_lexer": "ipython3",
   "version": "3.11.0"
  }
 },
 "nbformat": 4,
 "nbformat_minor": 2
}
