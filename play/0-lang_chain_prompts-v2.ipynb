{
 "cells": [
  {
   "cell_type": "code",
   "execution_count": null,
   "metadata": {},
   "outputs": [],
   "source": []
  },
  {
   "cell_type": "code",
   "execution_count": 1,
   "metadata": {},
   "outputs": [],
   "source": [
    "from langchain_core.prompts import PipelinePromptTemplate, PromptTemplate\n",
    "\n",
    "full_prediction_template = \"\"\"{prediction_properties}\n",
    "\n",
    "{prediction_requirements}\n",
    "\n",
    "{prediction_templates}\n",
    "\n",
    "{prediction_examples}\"\"\"\n",
    "full_prediction_prompt = PromptTemplate.from_template(full_prediction_template)"
   ]
  },
  {
   "cell_type": "code",
   "execution_count": 2,
   "metadata": {},
   "outputs": [],
   "source": [
    "prediction_properties_template = \"\"\"A prediction ($y$) consists of the following eight properties:\n",
    "\n",
    "    1. $y_p$, {prediction_domain} person that predicted $y$\n",
    "        - Can be a person (with a name) or a {prediction_domain} person such as a {prediction_domain} reporter, {prediction_domain} analyst, {prediction_domain} expert, {prediction_domain} top executive, {prediction_domain} senior level person, etc).\n",
    "    2. $y_o$, {prediction_domain} organization \n",
    "        - Can only be an organization or entity that is associated with the {prediction_domain} prediction.\n",
    "    3. $y_t$, current time when $y$ was made\n",
    "        - Time is the exact moment that can be measured in day, hour, minute, second, etc.\n",
    "    4. $y_f$, forecast time when $y$ is expected to come to fruition\n",
    "        - Forecast can be from a second to anytime in the future.\n",
    "        - Answers the questions: \"How far to go out?\" or \"Where to stop?\".\n",
    "    5. $y_a$, {prediction_domain} prediction attribute\n",
    "        - Measurable domain-specific attributes such as various quantifiable metrics relevant to the {prediction_domain} domain.\n",
    "        - Some examples are {prediction_domain_attribute}.\n",
    "    6. $y_s$, slope that indicates the direction of change in $y_a$\n",
    "        - Change of directions can be rise/increase/as much as, fall/decrease/as little as, change, stay stable, high/low chance/probability/degree of.\n",
    "    7. $y_m$, metric outcome\n",
    "        - How much will the $y_a$ $y_s$?\n",
    "    8. $y_v$, future verb tense\n",
    "        - A verb that is associated with the future such as will, would, be going to, should, etc.\"\"\"\n",
    "prediction_properties_prompt = PromptTemplate.from_template(prediction_properties_template)"
   ]
  },
  {
   "cell_type": "code",
   "execution_count": 3,
   "metadata": {},
   "outputs": [],
   "source": [
    "prediction_requirements_template = \"\"\"{prediction_domain} requirements to use for each prediction:\n",
    "\n",
    "    - Should be based on real-world {prediction_domain} data and not hallucinate.\n",
    "    - Only a simple sentence (prediction) (and NOT compounding using \"and\" or \"or\").\n",
    "    - Should diversify all eight properties of the prediction ($y$).\n",
    "    - Should use synonyms of predicts such as forecasts, speculates, foresee, envision, etc., and not use any of them more than ten times.\n",
    "    - The prediction should be unique and not repeated.\n",
    "    - The forecast time ($y_f$) should always be after current time ($y_t$) of when forecast ($y$) was made.\n",
    "    - Do not number the predictions.\n",
    "    - Do not say, \"As the {prediction_domain} at organization ($y_o$), I will generate company-based {prediction_domain} predictions using the provided templates.\" or anything similar.\n",
    "    - Should have a forecast time ($y_f$) when $y$ is expected to come to fruition between 2025 to 2050.\n",
    "    - Use the five different templates and examples provided.\n",
    "    - Change how the current time ($y_t$) and forecast time ($y_f$) are written in the prediction with examples of (1) Wednesday, August 21, 2024; (2) Wed, August 21, 2024; (3) 08/21/2024; (4) 08/21/2024; (5) 21/08/2024; (6) 21 August 2024; (7) 2024/08/21; (8) 2024-08-21; (9) August 21, 2024; (10) Aug 21, 2024; (11) 21 August 2024, (12) 21 Aug 2024, Q3 of 2027, 2029 of Q3, etc (with removing day of week).\n",
    "    {domain_requirements}\"\"\"\n",
    "prediction_requirements_prompt = PromptTemplate.from_template(prediction_requirements_template)"
   ]
  },
  {
   "cell_type": "code",
   "execution_count": 4,
   "metadata": {},
   "outputs": [],
   "source": [
    "prediction_templates_template = \"\"\"Here are some {prediction_domain} templates:\n",
    "\n",
    "- {prediction_domain} template 1: On [ $y_t$ ], [ $y_p$ ] predicts that the [ $y_a$ ] at [ $y_o$ ] [ $y_v$ ] [ $y_s$ ] by [ $y_m$ ] in [ $y_f$ ].\n",
    "- {prediction_domain} template 2: In [ $y_t$ ], [ $y_p$ ] from [ $y_o$ ] predicts that the [ $y_a$ ] [ $y_v$ ] [ $y_s$ ] from [ $y_m$ ] in [ $y_f$ ].\n",
    "- {prediction_domain} template 3: [ $y_p $] predicts on [ $y_t$ ] that the [ $y_a$ ] at [ $y_o$ ] [ $y_v$ ] [ $y_s$ ] under [ $y_m$ ] in [ $y_f$ ].\n",
    "- {prediction_domain} template 4: According to a [ $y_p$ ] from [ $y_o$ ], on [ $y_t$ ], the [ $y_a$ ] [ $y_v$ ] [ $y_s$ ] beyond [ $y_m$ ] in the timeframe of [ $y_f$ ].\n",
    "- {prediction_domain} template 5: In [ $y_f$ ], the [ $y_a$ ] at [ $y_o$ ] [ $y_v$ ] a [ $y_m$ ] [ $y_s$ ], as predicted by [ $y_p$ ] on [ $y_t$ ].\"\"\"\n",
    "prediction_templates_prompt = PromptTemplate.from_template(prediction_templates_template)"
   ]
  },
  {
   "cell_type": "code",
   "execution_count": 5,
   "metadata": {},
   "outputs": [],
   "source": [
    "prediction_examples_template = \"\"\"Here are some examples of {prediction_domain} predictions:\n",
    "\n",
    "{domain_examples}\"\"\"\n",
    "prediction_examples_prompt = PromptTemplate.from_template(prediction_examples_template)"
   ]
  },
  {
   "cell_type": "code",
   "execution_count": 6,
   "metadata": {},
   "outputs": [
    {
     "name": "stderr",
     "output_type": "stream",
     "text": [
      "/var/folders/fz/zn5r8vq12nv5p23dtlr15sk40000gn/T/ipykernel_69664/3207450551.py:8: LangChainDeprecationWarning: This class is deprecated. Please see the docstring below or at the link for a replacement option: https://python.langchain.com/api_reference/core/prompts/langchain_core.prompts.pipeline.PipelinePromptTemplate.html\n",
      "  pipeline_prompt = PipelinePromptTemplate(\n"
     ]
    }
   ],
   "source": [
    "input_prompts = [\n",
    "    (\"prediction_properties\", prediction_properties_prompt),\n",
    "    (\"prediction_requirements\", prediction_requirements_prompt),\n",
    "    (\"prediction_templates\", prediction_templates_prompt),\n",
    "    (\"prediction_examples\", prediction_examples_prompt),\n",
    "]\n",
    "\n",
    "pipeline_prompt = PipelinePromptTemplate(\n",
    "    final_prompt=full_prediction_prompt, pipeline_prompts=input_prompts\n",
    ")"
   ]
  },
  {
   "cell_type": "code",
   "execution_count": 7,
   "metadata": {},
   "outputs": [
    {
     "name": "stdout",
     "output_type": "stream",
     "text": [
      "A prediction ($y$) consists of the following eight properties:\n",
      "\n",
      "    1. $y_p$, financial person that predicted $y$\n",
      "        - Can be a person (with a name) or a financial person such as a financial reporter, financial analyst, financial expert, financial top executive, financial senior level person, etc).\n",
      "    2. $y_o$, financial organization \n",
      "        - Can only be an organization or entity that is associated with the financial prediction.\n",
      "    3. $y_t$, current time when $y$ was made\n",
      "        - Time is the exact moment that can be measured in day, hour, minute, second, etc.\n",
      "    4. $y_f$, forecast time when $y$ is expected to come to fruition\n",
      "        - Forecast can be from a second to anytime in the future.\n",
      "        - Answers the questions: \"How far to go out?\" or \"Where to stop?\".\n",
      "    5. $y_a$, financial prediction attribute\n",
      "        - Measurable domain-specific attributes such as various quantifiable metrics relevant to the financial domain.\n",
      "        - Some examples are stock price, net profit, revenue, operating cash flow, research and development expenses, operating income, gross profit..\n",
      "    6. $y_s$, slope that indicates the direction of change in $y_a$\n",
      "        - Change of directions can be rise/increase/as much as, fall/decrease/as little as, change, stay stable, high/low chance/probability/degree of.\n",
      "    7. $y_m$, metric outcome\n",
      "        - How much will the $y_a$ $y_s$?\n",
      "    8. $y_v$, future verb tense\n",
      "        - A verb that is associated with the future such as will, would, be going to, should, etc.\n",
      "\n",
      "financial requirements to use for each prediction:\n",
      "\n",
      "    - Should be based on real-world financial data and not hallucinate.\n",
      "    - Only a simple sentence (prediction) (and NOT compounding using \"and\" or \"or\").\n",
      "    - Should diversify all eight properties of the prediction ($y$).\n",
      "    - Should use synonyms of predicts such as forecasts, speculates, foresee, envision, etc., and not use any of them more than ten times.\n",
      "    - The prediction should be unique and not repeated.\n",
      "    - The forecast time ($y_f$) should always be after current time ($y_t$) of when forecast ($y$) was made.\n",
      "    - Do not number the predictions.\n",
      "    - Do not say, \"As the financial at organization ($y_o$), I will generate company-based financial predictions using the provided templates.\" or anything similar.\n",
      "    - Should have a forecast time ($y_f$) when $y$ is expected to come to fruition between 2025 to 2050.\n",
      "    - Use the five different templates and examples provided.\n",
      "    - Change how the current time ($y_t$) and forecast time ($y_f$) are written in the prediction with examples of (1) Wednesday, August 21, 2024; (2) Wed, August 21, 2024; (3) 08/21/2024; (4) 08/21/2024; (5) 21/08/2024; (6) 21 August 2024; (7) 2024/08/21; (8) 2024-08-21; (9) August 21, 2024; (10) Aug 21, 2024; (11) 21 August 2024, (12) 21 Aug 2024, Q3 of 2027, 2029 of Q3, etc (with removing day of week).\n",
      "    - Should be based on real-world financial earnings reports.\n",
      "    - Suppose the time when $y$ was made is during any earning season.\n",
      "    - Include stocks from all sectors such as consumer staples, energy, finance, health care, industrials, materials, media, real estate, retail, technology, utilities, defense, etc.\n",
      "\n",
      "\n",
      "Here are some financial templates:\n",
      "\n",
      "- financial template 1: On [ $y_t$ ], [ $y_p$ ] predicts that the [ $y_a$ ] at [ $y_o$ ] [ $y_v$ ] [ $y_s$ ] by [ $y_m$ ] in [ $y_f$ ].\n",
      "- financial template 2: In [ $y_t$ ], [ $y_p$ ] from [ $y_o$ ] predicts that the [ $y_a$ ] [ $y_v$ ] [ $y_s$ ] from [ $y_m$ ] in [ $y_f$ ].\n",
      "- financial template 3: [ $y_p $] predicts on [ $y_t$ ] that the [ $y_a$ ] at [ $y_o$ ] [ $y_v$ ] [ $y_s$ ] under [ $y_m$ ] in [ $y_f$ ].\n",
      "- financial template 4: According to a [ $y_p$ ] from [ $y_o$ ], on [ $y_t$ ], the [ $y_a$ ] [ $y_v$ ] [ $y_s$ ] beyond [ $y_m$ ] in the timeframe of [ $y_f$ ].\n",
      "- financial template 5: In [ $y_f$ ], the [ $y_a$ ] at [ $y_o$ ] [ $y_v$ ] a [ $y_m$ ] [ $y_s$ ], as predicted by [ $y_p$ ] on [ $y_t$ ].\n",
      "\n",
      "Here are some examples of financial predictions:\n",
      "\n",
      "\n",
      "- financial examples for template 1:\n",
      "    1. On [Monday, December 16, 2024], [Detravious, an investor] forecasts that the [revenue] at [Apple] [will] [rise] from [8% to $120 per share] in [Q1 of 2025].\n",
      "    2. On [Tue, November 19, 2024], [Ava Lee] predicts that the [operating cash flow] at [ExxonMobil] [should] [decrease] by [5% to $20 billion] in [08/21/2024].\n",
      "- financial examples for template 2:\n",
      "    3. In [October 2024], [Julian Hall] from [NVIDIA] envisions that the [stock price] [will likely] [rise] from [25% to $1,000 per share] in [Q3 of 2028].\n",
      "    4. In [8/15/2027], [Mrs. Kalia] from [McDonald's] predicts that the [net profit] [will] [fall] over [5% to $5 billion] in [January of 2029].\n",
      "- financial examples for template 3:\n",
      "    5. [Dija Gabe, a financial expert] predicts on [23 October 2024] that the [research and development expenses] at [Alphabet] [may] [fall] under [10% to $20 billion] in [Q4 of 2027].\n",
      "    6. [Mr. Mike] predicts in [Q2 of 2026] that the [operating income] at [Microsoft] [will] [fall] from [15% to $50 billion] in [Monday, March 18, 2024].\n",
      "- financial examples for template 4:\n",
      "    7. According to a [top executive] from [Chevron], on [08/21/2024], the [net profit] [is expected to] [increase] beyond [$10 billion] in the timeframe of [Q3 of 2029].\n",
      "    8. According to [Brittany, an investor] from [Tesla], on [Fri, July 12, 2024], the [gross profit] [may] [increase] as much as [$30 billion, reflecting a 15% increase] by [21 Aug 2024].\n",
      "- financial examples for template 5:\n",
      "    9. In [2024-08-21], the [net profit] at [Amazon] has a [probability] of [15% to reach $30 billion] [increase], as predicted by [Emily Davis, a financial reporter] on [21 August 2024].\n",
      "    10. In [Q3 of 2027], the [revenue] at [Facebook] [is expected] to be [$30 billion, which is a 15%] [rise], as predicted by [a financial analyst] on [Tue, February 20, 2024].\n",
      "\n"
     ]
    }
   ],
   "source": [
    "financial_attributes = \"\"\"stock price, net profit, revenue, operating cash flow, research and development expenses, operating income, gross profit.\"\"\"\n",
    "financial_requirements = \"\"\"- Should be based on real-world financial earnings reports.\n",
    "    - Suppose the time when $y$ was made is during any earning season.\n",
    "    - Include stocks from all sectors such as consumer staples, energy, finance, health care, industrials, materials, media, real estate, retail, technology, utilities, defense, etc.\n",
    "\"\"\"\n",
    "\n",
    "financial_examples = \"\"\"\n",
    "- financial examples for template 1:\n",
    "    1. On [Monday, December 16, 2024], [Detravious, an investor] forecasts that the [revenue] at [Apple] [will] [rise] from [8% to $120 per share] in [Q1 of 2025].\n",
    "    2. On [Tue, November 19, 2024], [Ava Lee] predicts that the [operating cash flow] at [ExxonMobil] [should] [decrease] by [5% to $20 billion] in [08/21/2024].\n",
    "- financial examples for template 2:\n",
    "    3. In [October 2024], [Julian Hall] from [NVIDIA] envisions that the [stock price] [will likely] [rise] from [25% to $1,000 per share] in [Q3 of 2028].\n",
    "    4. In [8/15/2027], [Mrs. Kalia] from [McDonald's] predicts that the [net profit] [will] [fall] over [5% to $5 billion] in [January of 2029].\n",
    "- financial examples for template 3:\n",
    "    5. [Dija Gabe, a financial expert] predicts on [23 October 2024] that the [research and development expenses] at [Alphabet] [may] [fall] under [10% to $20 billion] in [Q4 of 2027].\n",
    "    6. [Mr. Mike] predicts in [Q2 of 2026] that the [operating income] at [Microsoft] [will] [fall] from [15% to $50 billion] in [Monday, March 18, 2024].\n",
    "- financial examples for template 4:\n",
    "    7. According to a [top executive] from [Chevron], on [08/21/2024], the [net profit] [is expected to] [increase] beyond [$10 billion] in the timeframe of [Q3 of 2029].\n",
    "    8. According to [Brittany, an investor] from [Tesla], on [Fri, July 12, 2024], the [gross profit] [may] [increase] as much as [$30 billion, reflecting a 15% increase] by [21 Aug 2024].\n",
    "- financial examples for template 5:\n",
    "    9. In [2024-08-21], the [net profit] at [Amazon] has a [probability] of [15% to reach $30 billion] [increase], as predicted by [Emily Davis, a financial reporter] on [21 August 2024].\n",
    "    10. In [Q3 of 2027], the [revenue] at [Facebook] [is expected] to be [$30 billion, which is a 15%] [rise], as predicted by [a financial analyst] on [Tue, February 20, 2024].\n",
    "\"\"\"\n",
    "\n",
    "financial_input_dict = {\n",
    "    \"prediction_domain\": \"financial\",\n",
    "    \"prediction_domain_attribute\": financial_attributes,\n",
    "    \"domain_requirements\": financial_requirements,\n",
    "    \"domain_examples\": financial_examples,\n",
    "}\n",
    "\n",
    "financial_prompt_output = pipeline_prompt.format(**financial_input_dict)\n",
    "print(financial_prompt_output)"
   ]
  },
  {
   "cell_type": "markdown",
   "metadata": {},
   "source": [
    "chance/probability/degree of"
   ]
  },
  {
   "cell_type": "markdown",
   "metadata": {},
   "source": [
    "\n",
    "\n",
    "\n"
   ]
  },
  {
   "cell_type": "code",
   "execution_count": null,
   "metadata": {},
   "outputs": [],
   "source": []
  }
 ],
 "metadata": {
  "kernelspec": {
   "display_name": "predictions",
   "language": "python",
   "name": "python3"
  },
  "language_info": {
   "codemirror_mode": {
    "name": "ipython",
    "version": 3
   },
   "file_extension": ".py",
   "mimetype": "text/x-python",
   "name": "python",
   "nbconvert_exporter": "python",
   "pygments_lexer": "ipython3",
   "version": "3.11.0"
  }
 },
 "nbformat": 4,
 "nbformat_minor": 2
}
