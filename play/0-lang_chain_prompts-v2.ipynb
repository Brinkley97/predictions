{
 "cells": [
  {
   "cell_type": "code",
   "execution_count": null,
   "metadata": {},
   "outputs": [],
   "source": []
  },
  {
   "cell_type": "code",
   "execution_count": 1,
   "metadata": {},
   "outputs": [],
   "source": [
    "from langchain_core.prompts import PipelinePromptTemplate, PromptTemplate\n",
    "\n",
    "full_prediction_template = \"\"\"{prediction_properties}\n",
    "\n",
    "{prediction_requirements}\n",
    "\n",
    "{prediction_templates}\n",
    "\n",
    "{prediction_examples}\"\"\"\n",
    "full_prediction_prompt = PromptTemplate.from_template(full_prediction_template)"
   ]
  },
  {
   "cell_type": "code",
   "execution_count": 8,
   "metadata": {},
   "outputs": [],
   "source": [
    "prediction_properties_template = \"\"\"$y$, prediction\n",
    "    - $y_p$, {prediction_domain} person that predicted $y$\n",
    "        - Can be a person (with a name) or a {prediction_domain} person such as a {prediction_domain} reporter, {prediction_domain} analyst, {prediction_domain} expert, {prediction_domain} top executive, {prediction_domain} senior level person, etc.) \n",
    "    - $y_o$, {prediction_domain} organization \n",
    "        - Can only be an organization or entity that is associated with the {prediction_domain} prediction\n",
    "    - $y_t$, time when $y$ was made\n",
    "        - Time is the exact moment that can be measured in day, hour, minute, second, etc.\n",
    "    - $y_f$, forecast time when $y$ is expected to come to fruition\n",
    "        - Forecast can be from a second to anytime in the future.\n",
    "        - Answers the questions: \"How far to go out?\" or \"Where to stop?\"\n",
    "    - $y_a$, {prediction_domain} prediction attribute\n",
    "        - Measurable domain-specific attributes such as various quantifiable metrics relevant to the specific field of interest.\n",
    "        - Some examples are \n",
    "    - $y_m$, prediction metric outcome\n",
    "        - How much will the $y_a$ rise/increase, fall/decrease, change, stay stable, high/low chance/probability/degree of, etc?\n",
    "    - $y_v$, future verb tense\n",
    "        - A verb that is associated with the future such as will, would, be going to, should, etc.\"\"\"\n",
    "prediction_properties_prompt = PromptTemplate.from_template(prediction_properties_template)"
   ]
  },
  {
   "cell_type": "code",
   "execution_count": 9,
   "metadata": {},
   "outputs": [],
   "source": [
    "prediction_requirements_template = \"\"\"{prediction_domain} requirements to use for each prediction\n",
    "    1. Should be based on real-world {prediction_domain} data and not hallucinate.\n",
    "    2. Only a simple sentence (prediction) (and NOT compounding using \"and\" or \"or\").\n",
    "    3. Should be either positive, negative, or neutral for metric outcome ($y_m$).\n",
    "    4. Should diversify the metric outcome ($y_m$).\n",
    "    5. Diversify the name of person ($y_p$) and name of organization ($y_o$).\n",
    "    6. Should use synonyms of predicts such as forecasts, speculates, foresee, envision, etc., and not use any of them more than ten times.\n",
    "    7. The prediction should be unique and not repeated.\n",
    "    8. The $y_f$ should always be after $y_t$.\n",
    "    9. Do not number the predictions.\n",
    "    10. Do not say, \"As the {prediction_domain} at $y_o$, I will generate company-based {prediction_domain} predictions using the provided templates.\" or anything similar.\n",
    "    {domain_requirements}\"\"\"\n",
    "prediction_requirements_prompt = PromptTemplate.from_template(prediction_requirements_template)"
   ]
  },
  {
   "cell_type": "code",
   "execution_count": 10,
   "metadata": {},
   "outputs": [],
   "source": [
    "prediction_templates_template = \"\"\"- {prediction_domain} Template 1: On [ $y_t$ ], [ $y_p$ ] predicts that the [ $y_a$ ] at [ $y_o$ ] [ $y_v$ ] [ $y_m$ ] by [ $y_m$ ] in [ $y_f$ ].\n",
    "- {prediction_domain} Template 2: On [ $y_t$ ], [ $y_p$ ] from [ $y_o$ company name ] predicts that the [ $y_a$ ] [ $y_v$ ] by [ $y_m$ ] in [ $y_f$ ].\n",
    "- {prediction_domain} Template 3: [ $y_p $] predicts on [ $y_t$ ] that the [ $y_a$ ] at [ $y_o$ ] [ $y_v$ ] by [ $y_m$ ] in [ $y_f$ ].\n",
    "- {prediction_domain} Template 4: According to [ $y_p$ ] from [ $y_o$ ], on [ $y_t$ ], the [ $y_a$ ] [ $y_v$ ] by [ $y_m$ ] in the timeframe of [ $y_f$ ].\n",
    "- {prediction_domain} Template 5: In [ $y_f$ ], the [ $y_a$ ] at [ $y_o$ ] is expected to [ $y_v$ ] by [ $y_m$ ], as predicted by [ $y_p$ ] on [ $y_t$ ].\"\"\"\n",
    "prediction_templates_prompt = PromptTemplate.from_template(prediction_templates_template)"
   ]
  },
  {
   "cell_type": "code",
   "execution_count": 11,
   "metadata": {},
   "outputs": [],
   "source": [
    "prediction_examples_template = \"\"\"Here are some examples of {prediction_domain} predictions: \n",
    "{domain_examples}\"\"\"\n",
    "prediction_examples_prompt = PromptTemplate.from_template(prediction_examples_template)"
   ]
  },
  {
   "cell_type": "code",
   "execution_count": 12,
   "metadata": {},
   "outputs": [],
   "source": [
    "input_prompts = [\n",
    "    (\"prediction_properties\", prediction_properties_prompt),\n",
    "    (\"prediction_requirements\", prediction_requirements_prompt),\n",
    "    (\"prediction_templates\", prediction_templates_prompt),\n",
    "    (\"prediction_examples\", prediction_examples_prompt),\n",
    "]\n",
    "\n",
    "pipeline_prompt = PipelinePromptTemplate(\n",
    "    final_prompt=full_prediction_prompt, pipeline_prompts=input_prompts\n",
    ")"
   ]
  },
  {
   "cell_type": "code",
   "execution_count": 13,
   "metadata": {},
   "outputs": [
    {
     "name": "stdout",
     "output_type": "stream",
     "text": [
      "$y$, prediction\n",
      "    - $y_p$, Financial person that predicted $y$\n",
      "        - Can be a person (with a name) or a Financial person such as a Financial reporter, Financial analyst, Financial expert, Financial top executive, Financial senior level person, etc.) \n",
      "    - $y_o$, Financial organization \n",
      "        - Can only be an organization or entity that is associated with the Financial prediction\n",
      "    - $y_t$, time when $y$ was made\n",
      "        - Time is the exact moment that can be measured in day, hour, minute, second, etc.\n",
      "    - $y_f$, forecast time when $y$ is expected to come to fruition\n",
      "        - Forecast can be from a second to anytime in the future.\n",
      "        - Answers the questions: \"How far to go out?\" or \"Where to stop?\"\n",
      "    - $y_a$, Financial prediction attribute\n",
      "        - Measurable domain-specific attributes such as various quantifiable metrics relevant to the specific field of interest.\n",
      "        - Some examples are \n",
      "    - $y_m$, prediction metric outcome\n",
      "        - How much will the $y_a$ rise/increase, fall/decrease, change, stay stable, high/low chance/probability/degree of, etc?\n",
      "    - $y_v$, future verb tense\n",
      "        - A verb that is associated with the future such as will, would, be going to, should, etc.\n",
      "\n",
      "Financial requirements to use for each prediction\n",
      "    1. Should be based on real-world Financial data and not hallucinate.\n",
      "    2. Only a simple sentence (prediction) (and NOT compounding using \"and\" or \"or\").\n",
      "    3. Should be either positive, negative, or neutral for metric outcome ($y_m$).\n",
      "    4. Should diversify the metric outcome ($y_m$).\n",
      "    5. Diversify the name of person ($y_p$) and name of organization ($y_o$).\n",
      "    6. Should use synonyms of predicts such as forecasts, speculates, foresee, envision, etc., and not use any of them more than ten times.\n",
      "    7. The prediction should be unique and not repeated.\n",
      "    8. The $y_f$ should always be after $y_t$.\n",
      "    9. Do not number the predictions.\n",
      "    10. Do not say, \"As the Financial at $y_o$, I will generate company-based Financial predictions using the provided templates.\" or anything similar.\n",
      "    11. Should be based on real-world earnings reports\n",
      "12. Suppose the time when $y$ was made is during any earning season\n",
      "13. Include attributes ($y_a$) like stock price, net profit, revenue, operating cash flow, research and development expenses, operating income, gross profit, etc.\n",
      "14. Include stocks from all sectors such as consumer staples, energy, finance, health care, industrials, materials, media, real estate, retail, technology, utilities, defense, etc.\n",
      "\n",
      "\n",
      "- Financial Template 1: On [ $y_t$ ], [ $y_p$ ] predicts that the [ $y_a$ ] at [ $y_o$ ] [ $y_v$ ] [ $y_m$ ] by [ $y_m$ ] in [ $y_f$ ].\n",
      "- Financial Template 2: On [ $y_t$ ], [ $y_p$ ] from [ $y_o$ company name ] predicts that the [ $y_a$ ] [ $y_v$ ] by [ $y_m$ ] in [ $y_f$ ].\n",
      "- Financial Template 3: [ $y_p $] predicts on [ $y_t$ ] that the [ $y_a$ ] at [ $y_o$ ] [ $y_v$ ] by [ $y_m$ ] in [ $y_f$ ].\n",
      "- Financial Template 4: According to [ $y_p$ ] from [ $y_o$ ], on [ $y_t$ ], the [ $y_a$ ] [ $y_v$ ] by [ $y_m$ ] in the timeframe of [ $y_f$ ].\n",
      "- Financial Template 5: In [ $y_f$ ], the [ $y_a$ ] at [ $y_o$ ] is expected to [ $y_v$ ] by [ $y_m$ ], as predicted by [ $y_p$ ] on [ $y_t$ ].\n",
      "\n",
      "Here are some examples of Financial predictions: \n",
      "\n",
      "- Financial examples for template 1:\n",
      "    1. On [Monday, December 16, 2024], [Detravious] forecasts that the [revenue] at [Apple] [will] [rise] from [8% to $120 per share] in [Q1 of 2025].\n",
      "    2. On [Tuesday, November 19, 2024], [Ava Lee] predicts that the [operating cash flow] at [ExxonMobil (XOM)] [should] [decrease] by [5% to $20 billion] in [Q2 of 2027].\n",
      "- Financial examples for template 2:\n",
      "    3. On [Wednesday, October 23, 2024], [Julian Hall] at [NVIDIA (NVDA)] envisions that the [stock price] [will likely] [rise] from [25% to $1,000 per share] in [Q3 of 2028].\n",
      "    4. On [Thursday, September 19, 2024], [Raj Taylor] from [McDonald's (MCD)] predicts that the [net profit] [will] [fall] by [5% to $5 billion] in [Q4 of 2026].\n",
      "- Financial examples for template 3:\n",
      "    6. [Ava Lee] predicts on [Wednesday, October 23, 2024], that the [research and development expenses] at [Alphabet (GOOGL)] [will] [rise] by [10%] to [$20 billion] in [Q4 of 2027].\n",
      "    7. [Michael Johnson] predicts on [Monday, March 18, 2024], that the [operating income] at [Microsoft (MSFT)] [will] [fall] from [15% to $50 billion] in [Q2 of 2026].\n",
      "- Financial examples for template 4:\n",
      "    8. According to [Ava Morales] from [Chevron (CVX)], on [Wednesday, August 21, 2024], the [net profit at Coca-Cola (KO)] [is expected to] [increase] from [5% to $10 billion] in the timeframe of [Q3 of 2029].\n",
      "    9. According to [Sophia Martinez] from [Tesla (TSLA)], on [Friday, July 12, 2024], the [gross profit] [is expected to] [increase] by [15% to $30 billion] in the timeframe of [Q1 of 2026].\n",
      "- Financial examples for template 5:\n",
      "    10. In [Q1 of 2026], the [net profit] at [Amazon (AMZN)] is expected to [increase] from [10% to $15 billion], as predicted by [Emily Davis] on [Monday, January 15, 2024].\n",
      "    11. In [Q3 of 2027], the [revenue] at [Facebook (META)] is expected to [rise] by [20% to $50 billion], as predicted by [John Smith] on [Tuesday, February 20, 2024].\n",
      "\n"
     ]
    }
   ],
   "source": [
    "financial_requirements = \"\"\"11. Should be based on real-world earnings reports\n",
    "12. Suppose the time when $y$ was made is during any earning season\n",
    "13. Include attributes ($y_a$) like stock price, net profit, revenue, operating cash flow, research and development expenses, operating income, gross profit, etc.\n",
    "14. Include stocks from all sectors such as consumer staples, energy, finance, health care, industrials, materials, media, real estate, retail, technology, utilities, defense, etc.\n",
    "\"\"\"\n",
    "\n",
    "financial_examples = \"\"\"\n",
    "- Financial examples for template 1:\n",
    "    1. On [Monday, December 16, 2024], [Detravious] forecasts that the [revenue] at [Apple] [will] [rise] from [8% to $120 per share] in [Q1 of 2025].\n",
    "    2. On [Tuesday, November 19, 2024], [Ava Lee] predicts that the [operating cash flow] at [ExxonMobil (XOM)] [should] [decrease] by [5% to $20 billion] in [Q2 of 2027].\n",
    "- Financial examples for template 2:\n",
    "    3. On [Wednesday, October 23, 2024], [Julian Hall] at [NVIDIA (NVDA)] envisions that the [stock price] [will likely] [rise] from [25% to $1,000 per share] in [Q3 of 2028].\n",
    "    4. On [Thursday, September 19, 2024], [Raj Taylor] from [McDonald's (MCD)] predicts that the [net profit] [will] [fall] by [5% to $5 billion] in [Q4 of 2026].\n",
    "- Financial examples for template 3:\n",
    "    6. [Ava Lee] predicts on [Wednesday, October 23, 2024], that the [research and development expenses] at [Alphabet (GOOGL)] [will] [rise] by [10%] to [$20 billion] in [Q4 of 2027].\n",
    "    7. [Michael Johnson] predicts on [Monday, March 18, 2024], that the [operating income] at [Microsoft (MSFT)] [will] [fall] from [15% to $50 billion] in [Q2 of 2026].\n",
    "- Financial examples for template 4:\n",
    "    8. According to [Ava Morales] from [Chevron (CVX)], on [Wednesday, August 21, 2024], the [net profit at Coca-Cola (KO)] [is expected to] [increase] from [5% to $10 billion] in the timeframe of [Q3 of 2029].\n",
    "    9. According to [Sophia Martinez] from [Tesla (TSLA)], on [Friday, July 12, 2024], the [gross profit] [is expected to] [increase] by [15% to $30 billion] in the timeframe of [Q1 of 2026].\n",
    "- Financial examples for template 5:\n",
    "    10. In [Q1 of 2026], the [net profit] at [Amazon (AMZN)] is expected to [increase] from [10% to $15 billion], as predicted by [Emily Davis] on [Monday, January 15, 2024].\n",
    "    11. In [Q3 of 2027], the [revenue] at [Facebook (META)] is expected to [rise] by [20% to $50 billion], as predicted by [John Smith] on [Tuesday, February 20, 2024].\n",
    "\"\"\"\n",
    "\n",
    "financial_input_dict = {\n",
    "    \"prediction_domain\": \"Financial\",\n",
    "    \"domain_requirements\": financial_requirements,\n",
    "    \"domain_examples\": financial_examples,\n",
    "}\n",
    "\n",
    "financial_prompt_output = pipeline_prompt.format(**financial_input_dict)\n",
    "print(financial_prompt_output)"
   ]
  },
  {
   "cell_type": "code",
   "execution_count": null,
   "metadata": {},
   "outputs": [],
   "source": []
  },
  {
   "cell_type": "code",
   "execution_count": null,
   "metadata": {},
   "outputs": [],
   "source": []
  }
 ],
 "metadata": {
  "kernelspec": {
   "display_name": "predictions",
   "language": "python",
   "name": "python3"
  },
  "language_info": {
   "codemirror_mode": {
    "name": "ipython",
    "version": 3
   },
   "file_extension": ".py",
   "mimetype": "text/x-python",
   "name": "python",
   "nbconvert_exporter": "python",
   "pygments_lexer": "ipython3",
   "version": "3.11.0"
  }
 },
 "nbformat": 4,
 "nbformat_minor": 2
}
