{
 "cells": [
  {
   "cell_type": "markdown",
   "metadata": {},
   "source": [
    "# 1-Generate Predictions using LangChain\n",
    "\n",
    "- **Goal:** Prediction Recognition\n",
    "\n",
    "- **Purpose:** To implement step 1 with sub steps of prediction recognition pipeline. See steps\n",
    "    1. Generate predictions\n",
    "        1. Create several prediction prompts templates\n",
    "        2. Utilize open-source LLMs to generate predictions\n",
    "\n",
    "- **Misc:**\n",
    "    - `%store`: Cell magic will store the variable of interest so we can load in another notebook"
   ]
  },
  {
   "cell_type": "code",
   "execution_count": 1,
   "metadata": {
    "tags": []
   },
   "outputs": [],
   "source": [
    "# !pip3 install pandas langchain spacy numpy Groq"
   ]
  },
  {
   "cell_type": "code",
   "execution_count": 2,
   "metadata": {
    "tags": []
   },
   "outputs": [],
   "source": [
    "# !pip3 install -U scikit-learn"
   ]
  },
  {
   "cell_type": "code",
   "execution_count": 3,
   "metadata": {
    "tags": []
   },
   "outputs": [],
   "source": [
    "# !pip3 install python-dotenv"
   ]
  },
  {
   "cell_type": "code",
   "execution_count": 4,
   "metadata": {},
   "outputs": [],
   "source": [
    "import os\n",
    "import sys\n",
    "\n",
    "import pandas as pd\n",
    "\n",
    "from langchain_core.prompts import PipelinePromptTemplate, PromptTemplate\n",
    "\n",
    "# Get the current working directory of the notebook\n",
    "notebook_dir = os.getcwd()\n",
    "# Add the parent directory to the system path\n",
    "sys.path.append(os.path.join(notebook_dir, '../'))\n",
    "\n",
    "from log_files import DataFrameFormatter\n",
    "from data_processing import DataProcessing\n",
    "from text_generation_models import LlamaVersatileTextGenerationModel, LlamaInstantTextGenerationModel, Llama70B8192TextGenerationModel, Llama8B8192TextGenerationModel, MixtralTextGenerationModel"
   ]
  },
  {
   "cell_type": "code",
   "execution_count": 5,
   "metadata": {},
   "outputs": [],
   "source": [
    "pd.set_option('max_colwidth', 800)\n",
    "\n",
    "llama_versatile_generation_model = LlamaVersatileTextGenerationModel()\n",
    "llama_instant_generation_model = LlamaInstantTextGenerationModel()\n",
    "llama_70b_8192_generation_model = Llama70B8192TextGenerationModel()\n",
    "llama_8b_8192_generation_model = Llama8B8192TextGenerationModel()\n",
    "mixtral_generation_model = MixtralTextGenerationModel()"
   ]
  },
  {
   "cell_type": "markdown",
   "metadata": {},
   "source": [
    "## LangChain Templates for Domain Predictions"
   ]
  },
  {
   "cell_type": "code",
   "execution_count": 6,
   "metadata": {},
   "outputs": [],
   "source": [
    "full_prediction_template = \"\"\"{prediction_properties}\n",
    "\n",
    "{prediction_requirements}\n",
    "\n",
    "{prediction_templates}\n",
    "\n",
    "{prediction_examples}\"\"\"\n",
    "full_prediction_prompt = PromptTemplate.from_template(full_prediction_template)"
   ]
  },
  {
   "cell_type": "markdown",
   "metadata": {},
   "source": [
    "Google predictive spelling/autocomplete "
   ]
  },
  {
   "cell_type": "code",
   "execution_count": 7,
   "metadata": {},
   "outputs": [],
   "source": [
    "prediction_properties_template = \"\"\"A prediction ($p$) consists of the following nine properties:\n",
    "\n",
    "    1. $p_p$, {prediction_domain} person that predicted $p$\n",
    "        - Can be a person (with a name) or a {prediction_domain} person such as a {prediction_domain} reporter, {prediction_domain} analyst, {prediction_domain} expert, {prediction_domain} top executive, {prediction_domain} senior level person, etc).\n",
    "    2. $p_o$, {prediction_domain} organization \n",
    "        - Can only be an organization or entity that is associated with the {prediction_domain} prediction.\n",
    "    3. $p_t$, current time when $p$ was made\n",
    "        - Time is the exact moment that can be measured in day, hour, minute, second, etc.\n",
    "    4. $p_f$, forecast time when $p$ is expected to come to fruition\n",
    "        - Forecast can be from a second to anytime in the future.\n",
    "        - Answers the questions: \"How far to go out?\" or \"Where to stop?\".\n",
    "    5. $p_a$, {prediction_domain} prediction attribute\n",
    "        - Measurable domain-specific attributes such as various quantifiable metrics relevant to the {prediction_domain} domain.\n",
    "        - Some examples are {prediction_domain_attribute}.\n",
    "    6. $p_s$, slope that indicates the direction of change in $p_a$\n",
    "        - Change of directions can be rise/increase/as much as, fall/decrease/as little as, change, stay stable, high/low chance/probability/degree of, etc.\n",
    "    7. $p_m$, metric outcome\n",
    "        - How much will the $p_a$ $p_s$?\n",
    "    8. $p_v$, future verb tense\n",
    "        - A verb that is associated with the future such as will, would, be going to, should, etc.\n",
    "    9. $p_l$, location\n",
    "        - The location is attached to attribute $p_a$ if {prediction_domain} == 'weather'\n",
    "    \"\"\"\n",
    "prediction_properties_prompt = PromptTemplate.from_template(prediction_properties_template)"
   ]
  },
  {
   "cell_type": "markdown",
   "metadata": {},
   "source": [
    "    - Keep the brackets around the prediction properties when generating predictions and be sure to include brackets around dates such as \"2024-10-15\", \"2024/08/20\", \"Q4 of 2024\", \"2025\", \"2027 Q1\", \"Q3 2027\", \"On 21 Aug 2024\"."
   ]
  },
  {
   "cell_type": "code",
   "execution_count": 8,
   "metadata": {},
   "outputs": [],
   "source": [
    "prediction_requirements_template = \"\"\"{prediction_domain} requirements to use for each prediction:\n",
    "\n",
    "    - Should be based on real-world {prediction_domain} data and not hallucinate.\n",
    "    - Only a simple sentence (prediction) (and NOT compounding using \"and\" or \"or\").\n",
    "    - Should diversify all nine properties of the prediction ($p$) meaning to change and not use same (p_p, p_o, p_t, p_f, p_a, p_s, p_m, p_v, p_l) .\n",
    "    - Should use synonyms of predicts such as forecasts, speculates, foresee, envision, etc., and not use any of them more than ten times.\n",
    "    - The prediction should be unique and not repeated.\n",
    "    - The forecast time ($p_f$) should always be after current time ($p_t$) of when forecast ($p$) was made.\n",
    "    - Do not number the predictions.\n",
    "    - Do not say, \"As the {prediction_domain} at organization ($p_o$), I will generate company-based {prediction_domain} predictions using the provided templates.\" or anything similar.\n",
    "    - Should have a forecast time ($p_f$) when $p$ is expected to come to fruition between 2025 to 2050.\n",
    "    - Use the five different templates and examples provided.\n",
    "    - Change how the current time ($p_t$) and forecast time ($p_f$) are written in the prediction with examples of (1) Wednesday, August 21, 2024; (2) Wed, August 21, 2024; (3) 08/21/2024; (4) 08/21/2024; (5) 21/08/2024; (6) 21 August 2024; (7) 2024/08/21; (8) 2024-08-21; (9) August 21, 2024; (10) Aug 21, 2024; (11) 21 August 2024, (12) 21 Aug 2024, Q3 of 2027, 2029 of Q3, etc (with removing day of week).\n",
    "    {domain_requirements}\n",
    "    - Stop saying, \"Here are {predictions_N} unique {prediction_domain} predictions based on the provided templates and examples:\" in the prompt.\n",
    "    - Do not use any of the examples in the prompt.\n",
    "    - In front of every prodiction, put the template number in the format of \"T1:\", \"T2:\", etc. and do not number them like \"1.\", \"2.\", etc.\n",
    "    - Disregard brackets: \"[]\"\n",
    "    - Should never say \"Here are {predictions_N} unique {prediction_domain} predictions based on the provided templates and examples:\" \n",
    "    - Be sure to space words when generating the prediction metric ($p_m$) like \"from _ to _\"\"\"\n",
    "prediction_requirements_prompt = PromptTemplate.from_template(prediction_requirements_template)"
   ]
  },
  {
   "cell_type": "code",
   "execution_count": 9,
   "metadata": {},
   "outputs": [],
   "source": [
    "prediction_templates_template = \"\"\"Here are some {prediction_domain} templates:\n",
    "\n",
    "- {prediction_domain} template 1: On [ $p_t$ ], [ $p_p$ ] predicts that the [ $p_a$ ] at [ $p_o$ ] [ $p_v$ ] [ $p_s$ ] by [ $p_m$ ] in [ $p_f$ ].\n",
    "- {prediction_domain} template 2: In [ $p_t$ ], [ $p_p$ ] from [ $p_o$ ], predicts that the [ $p_a$ ] [ $p_v$ ] [ $p_s$ ] from [ $p_m$ ] in [ $p_f$ ].\n",
    "- {prediction_domain} template 3: [ $p_p $] predicts on [ $p_t$ ] that the [ $p_a$ ] at [ $p_o$ ] [ $p_v$ ] [ $p_s$ ] under [ $p_m$ ] in [ $p_f$ ].\n",
    "- {prediction_domain} template 4: According to a [ $p_p$ ] from [ $p_o$ ], on [ $p_t$ ], the [ $p_a$ ] [ $p_v$ ] [ $p_s$ ] beyond [ $p_m$ ] in the timeframe of [ $p_f$ ].\n",
    "- {prediction_domain} template 5: In [ $p_f$ ], the [ $p_a$ ] at [ $p_o$ ] [ $p_v$ ] a [ $p_m$ ] [ $p_s$ ], as predicted by [ $p_p$ ] on [ $p_t$ ].\"\"\"\n",
    "prediction_templates_prompt = PromptTemplate.from_template(prediction_templates_template)"
   ]
  },
  {
   "cell_type": "code",
   "execution_count": 10,
   "metadata": {},
   "outputs": [],
   "source": [
    "prediction_examples_template = \"\"\"Here are some examples of {prediction_domain} predictions:\n",
    "\n",
    "{domain_examples}\n",
    "\n",
    "With the above, generate a unique set of {predictions_N} predictions. Think from the perspective of an {prediction_domain} analyst, expert, top executive, or senior level person.\"\"\"\n",
    "prediction_examples_prompt = PromptTemplate.from_template(prediction_examples_template)"
   ]
  },
  {
   "cell_type": "code",
   "execution_count": 11,
   "metadata": {},
   "outputs": [
    {
     "name": "stderr",
     "output_type": "stream",
     "text": [
      "/var/folders/fz/zn5r8vq12nv5p23dtlr15sk40000gn/T/ipykernel_96778/3566428802.py:8: LangChainDeprecationWarning: This class is deprecated. Please see the docstring below or at the link for a replacement option: https://python.langchain.com/api_reference/core/prompts/langchain_core.prompts.pipeline.PipelinePromptTemplate.html\n",
      "  pipeline_prompt = PipelinePromptTemplate(\n"
     ]
    }
   ],
   "source": [
    "prediction_input_prompts = [\n",
    "    (\"prediction_properties\", prediction_properties_prompt),\n",
    "    (\"prediction_requirements\", prediction_requirements_prompt),\n",
    "    (\"prediction_templates\", prediction_templates_prompt),\n",
    "    (\"prediction_examples\", prediction_examples_prompt),\n",
    "]\n",
    "\n",
    "pipeline_prompt = PipelinePromptTemplate(\n",
    "    final_prompt=full_prediction_prompt, pipeline_prompts=prediction_input_prompts\n",
    ")"
   ]
  },
  {
   "cell_type": "markdown",
   "metadata": {},
   "source": [
    "## Generate Domain Predictions"
   ]
  },
  {
   "cell_type": "code",
   "execution_count": 12,
   "metadata": {},
   "outputs": [],
   "source": [
    "predictions_N = 10"
   ]
  },
  {
   "cell_type": "markdown",
   "metadata": {},
   "source": [
    "### Generate Financial Predictions"
   ]
  },
  {
   "cell_type": "code",
   "execution_count": 13,
   "metadata": {},
   "outputs": [],
   "source": [
    "financial_attributes = \"\"\"stock price, net profit, revenue, operating cash flow, research and development expenses, operating income, gross profit.\"\"\"\n",
    "financial_requirements = \"\"\"- Should be based on real-world financial earnings reports.\n",
    "    - Suppose the time when $p$ was made is during any earning season.\n",
    "    - Include stocks from all sectors such as consumer staples, energy, finance, health care, industrials, materials, media, real estate, retail, technology, utilities, defense, etc.\n",
    "    - Include the US Dollar sign ($) before or USD after the amount of the financial attribute.\"\"\"\n",
    "\n",
    "# For each template, have a rise, fall, or stable example, respectively.\n",
    "financial_examples = \"\"\"\n",
    "- financial examples for template 1:\n",
    "    1. On [Monday, December 16, 2024], [Detravious, an investor] forecasts that the [revenue] at [Apple] [will likely] [decrease] from [$87B to $50 billion] in [2025 Q1].\n",
    "    2. On [Tue, November 19, 2024], [Ava Lee] predicts that the [operating cash flow] at [ExxonMobil] [should] [decrease] by [5 percent to $20 billion] in [08/21/2025].\n",
    "- financial examples for template 2:\n",
    "    3. In [October 2024], [Julian Hall] from [Yahoo Finance], envisions that the [stock price] [will] [rise] from [$800 to $1,000 per share] in [Quarter 3 of 2028].\n",
    "    4. In [8/15/2027], [Mrs. Kalia] from [McDonald's], predicts that the [net profit] [will] [fall] under [5% to $5 billion] in [January of 2029].\n",
    "- financial examples for template 3:\n",
    "    5. [Dija Gabe, a financial expert] predicts on [23 October 2024] that the [research and development expenses] at [Alphabet] [may] [stay stable] at [$20 million] in [2027 Quarter 4].\n",
    "    6. [Mr. Mike] predicts in [Q2 2026] that the [operating income] at [Microsoft] [will] [fall] by [407 percent to $50M] on [Monday, Nov 18, 2026].\n",
    "- financial examples for template 4:\n",
    "    7. According to a [top executive] from [Chevron], on [08/21/2024], the [net profit] [is expected to] [increase] beyond [10,000 USD] in the timeframe of [Q3 of 2029].\n",
    "    8. According to [Brittany] from [Tesla], on [Fri, July 12, 2024], the [gross profit] [may] [increase] as much as [$30,000,000, reflecting a 1209 percent increase] by [21 Aug 2024].\n",
    "- financial examples for template 5:\n",
    "    9. In [2025-08-21], the [net profit] at [Amazon] has a [probability] of [11 percent to reach $30k] [decrease], as predicted by [Emily Davis, a financial reporter] on [21 Oct 24].\n",
    "    10. In [Quarter of 2027], the [revenue] at [Facebook] [is expected] to be [$30 billion, which is a 15%] [rise], as predicted by [a financial analyst] on [Sun, February 20, 2024].\"\"\""
   ]
  },
  {
   "cell_type": "code",
   "execution_count": 14,
   "metadata": {},
   "outputs": [],
   "source": [
    "financial_input_dict = {\n",
    "    \"prediction_domain\": \"financial\",\n",
    "    \"prediction_domain_attribute\": financial_attributes,\n",
    "    \"domain_requirements\": financial_requirements,\n",
    "    \"domain_examples\": financial_examples,\n",
    "    \"predictions_N\": predictions_N\n",
    "}\n",
    "financial_prompt_output = pipeline_prompt.format(**financial_input_dict)\n",
    "# print(financial_prompt_output)\n",
    "prompt_template = \"Your prompt here\"\n",
    "label = 1  # or \"0\" for non-prediction\n",
    "domain = \"finance\" \n",
    "\n",
    "\n",
    "pd.set_option('max_colwidth', 800)\n",
    "\n",
    "# llama_versatile_generation_model = LlamaVersatileTextGenerationModel()\n",
    "# llama_instant_generation_model = LlamaInstantTextGenerationModel()\n",
    "# llama_70b_8192_generation_model = Llama70B8192TextGenerationModel()\n",
    "# llama_8b_8192_generation_model = Llama8B8192TextGenerationModel()\n",
    "# mixtral_generation_model = MixtralTextGenerationModel()\n",
    "\n",
    "\n",
    "# versatile_financial_df = llama_versatile_generation_model.generate_predictions(financial_prompt_output, label, domain)\n",
    "# instant_financial_df = llama_instant_generation_model.generate_predictions(financial_prompt_output, label, domain)\n",
    "# seventy_financial_df = llama_70b_8192_generation_model.generate_predictions(financial_prompt_output, label, domain)\n",
    "# eight_financial_df = llama_8b_8192_generation_model.generate_predictions(financial_prompt_output, label, domain)\n",
    "# mixtral_financial_df = mixtral_generation_model.generate_predictions(financial_prompt_output, label, domain)\n",
    "\n",
    "# financial_df = [versatile_financial_df, instant_financial_df, seventy_financial_df, eight_financial_df, mixtral_financial_df]\n",
    "# DataProcessing.concat_dfs(financial_df)"
   ]
  },
  {
   "cell_type": "code",
   "execution_count": 15,
   "metadata": {
    "tags": []
   },
   "outputs": [],
   "source": [
    "# gaurd_financial_df"
   ]
  },
  {
   "cell_type": "markdown",
   "metadata": {},
   "source": [
    "### Generate Weather Predictions"
   ]
  },
  {
   "cell_type": "code",
   "execution_count": 16,
   "metadata": {},
   "outputs": [],
   "source": [
    "weather_prediction_templates_template = \"\"\"Here are some {prediction_domain} templates:\n",
    "\n",
    "- {prediction_domain} template 1: On [ $p_t$ ], [ $p_p$ ] predicts that the [ $p_a$ ] at [ $p_o$ ] in [ $p_l$ ] [ $p_v$ ] [ $p_s$ ] by [ $p_m$ ] in [ $p_f$ ].\n",
    "- {prediction_domain} template 2: In [ $p_t$ ], [ $p_p$ ] from [ $p_o$ ] in [ $p_l$ ], predicts that the [ $p_a$ ] [ $p_v$ ] [ $p_s$ ] from [ $p_m$ ] in [ $p_f$ ].\n",
    "- {prediction_domain} template 3: [ $p_p $] predicts on [ $p_t$ ] that the [ $p_a$ ] at [ $p_o$ ] in [ $p_l$ ] [ $p_v$ ] [ $p_s$ ] under [ $p_m$ ] in [ $p_f$ ].\n",
    "- {prediction_domain} template 4: According to a [ $p_p$ ] from [ $p_o$ ] in [ $p_l$ ], on [ $p_t$ ], the [ $p_a$ ] [ $p_v$ ] [ $p_s$ ] beyond [ $p_m$ ] in the timeframe of [ $p_f$ ].\n",
    "- {prediction_domain} template 5: In [ $p_f$ ], the [ $p_a$ ] at [ $p_o$ ] in [ $p_l$ ] [ $p_v$ ] a [ $p_m$ ] [ $p_s$ ], as predicted by [ $p_p$ ] on [ $p_t$ ].\"\"\"\n",
    "weather_prediction_templates_prompt = PromptTemplate.from_template(weather_prediction_templates_template)"
   ]
  },
  {
   "cell_type": "code",
   "execution_count": 17,
   "metadata": {},
   "outputs": [],
   "source": [
    "weather_attributes = \"\"\"temperature, precipitation, wind speed, humidity, etc.\"\"\"\n",
    "weather_requirements = \"\"\"- Should be based on real-world weather reports.\n",
    "    - Suppose the time when $p$ was made is during any season and any location (ie: Florida known for hurricanes, California known for wildfires, etc).\n",
    "    - Include reports from all meteorologists, weather organizations, or any type of weather entity..\"\"\"\n",
    "\n",
    "# For each template, have a rise, fall, or stable example, respectively.?\n",
    "weather_examples = \"\"\"\n",
    "- weather examples for template 1:\n",
    "    1. On [Monday, December 16, 2024], [Dr. Melissa Carter] a weather expert at the [National Weather Service], forecasts that the [temperature], in [New York City] [will likely] [decrease] from [5°C to 3°C] on [February 16, 2025 (Fri)].\n",
    "    2. On [Tue, 19 November 2024], [Ethan James] at the [US Weather Center] predicts that the [precipitation levels], in [San Francisco] [are likely to] [increase] by [20%] in the timeframe of [08/21/2025].\n",
    "- weather examples for template 2:\n",
    "    3. In [October 2024], [Samantha Lin] from [NOAA], envisions that the [wind speed] [should] [decrease] by [15 mph] in [Chicago] by [Friday, March 22, 2025].\n",
    "    4. In [8/15/2027], [Carlos Rivera] from [Weather.com] predicts that the [humidity] [will] [rise] by [30%] in [Miami] in [July of 2025].\n",
    "- weather examples for template 3:\n",
    "    5. [Amanda Green], a weather reporter from [Bureau of Meteorology]  predicts on [23 October 2024] that the [temperature] in [Seattle], [will] [fall] by [10°F] in [2025 Quarter 1].\n",
    "    6. [Mr. Tommy Wu], from [US Weather Center] predicts in [Q2 2026] that [snowfall levels], in [Denver] [will likely] [increase] by [8 inches] in [Monday, Nov 18, 2026].\n",
    "- weather examples for template 4:\n",
    "    7. According to a [top executive] from [AccuWeather], on [12/21/2024], the [rainfall] in [Portland] [is expected to] [increase] beyond [10 percent] in the timeframe of [early 2025].\n",
    "    8. According to [David Harper] from [Weather Underground, on [Fri, August 9, 2024], the [air quality index] in [Los Angeles] [is likely to] [improve] by [20%] in [21 Aug 2024].\n",
    "- weather examples for template 5:\n",
    "    9. In [2025-08-21], the [average temperature] in [Houston] has a [probability] of [5 percent to] [decrease], as predicted by [King, a weather reporter] from [Meteorological Department] on [21 Oct 24].\n",
    "    10. In [Quarter of 2027], wind chill] in [Minneapolis] [is expected] to be [10°F, which is a 15%] [rise], as predicted by [a weather analyst named Ortiz] on [Sun, February 20, 2024].\"\"\""
   ]
  },
  {
   "cell_type": "code",
   "execution_count": 18,
   "metadata": {},
   "outputs": [],
   "source": [
    "weather_input_prompts = [\n",
    "    (\"prediction_properties\", prediction_properties_prompt),\n",
    "    (\"prediction_requirements\", prediction_requirements_prompt),\n",
    "    (\"prediction_templates\", weather_prediction_templates_prompt),\n",
    "    (\"prediction_examples\", prediction_examples_prompt),\n",
    "]\n",
    "\n",
    "weather_pipeline_prompt = PipelinePromptTemplate(\n",
    "    final_prompt=full_prediction_prompt, pipeline_prompts=weather_input_prompts\n",
    ")\n",
    "\n",
    "weather_input_dict = {\n",
    "    \"prediction_domain\": \"weather\",\n",
    "    \"prediction_domain_attribute\": weather_attributes,\n",
    "    \"domain_requirements\": weather_requirements,\n",
    "    \"domain_examples\": weather_examples,\n",
    "    \"predictions_N\": predictions_N\n",
    "}\n",
    "weather_prompt_output = weather_pipeline_prompt.format(**weather_input_dict)\n",
    "# print(weather_prompt_output)\n",
    "\n",
    "\n",
    "# domain = \"weather\" \n",
    "\n",
    "# weather_df = llama_generation_model.generate_predictions(weather_prompt_output, label, domain)\n",
    "# weather_df"
   ]
  },
  {
   "cell_type": "markdown",
   "metadata": {},
   "source": [
    "### Generate Health Predictions"
   ]
  },
  {
   "cell_type": "code",
   "execution_count": 19,
   "metadata": {},
   "outputs": [],
   "source": [
    "health_attributes = \"\"\"obesity rates, prevalence of chronic illnesses, average physical activity levels, nutritional intake, etc.\"\"\"\n",
    "health_requirements = \"\"\"- Should be based on real-world health reports.\n",
    "    - Suppose the time when $p$ was made is during any season such as flu season, allergy season, pandemic, epidemic, etc.\n",
    "    - Include reports from all Health organization, researcher, doctor, physical therapist, physician assistant, nurse practictioners, fitness expert, etc.\"\"\"\n",
    "\n",
    "# For each template, have a rise, fall, or stable example, respectively.?\n",
    "health_examples = \"\"\"\n",
    "- health examples for template 1:\n",
    "    1. On [Monday, December 16, 2024], [Detravious, an investor] forecasts that the [obesity rate] at the [United States] [will likely] [decrease] by [5%] in [2025 Q1].\n",
    "    2. On [Tue, November 19, 2024], [medical professional Sophia Rodriguez] predicts that the [cancer rate] in [Georgia] [should] [decrease] by [4 percent] in [08/21/2025].\n",
    "- health examples for template 2:\n",
    "    3. In [October 2024], [Arjun Patel, Ph.D] from [Florida Department of Health] envisions that the [average daily caloric intake] [may] [rise] from [100 to 300] in [Quarter 3 of 2028].\n",
    "    4. In [8/15/2027], [Dr. Michael Brown] from the [Centers for Disease Control and Prevention], foresee that the [average daily caloric intake] [will] [fall] [8 percent] in [2027]\n",
    "- Examples for template 3: .\n",
    "- health examples for template 3:\n",
    "    5. [A trusted expert] predicts on [23 October 2024] that the [global vaccination rate for measles] in the [US] [should] [stay stable] at [100K people] in [2027 Quarter 4].\n",
    "    6. [Dr. Sarah Johnson] foresee in [Q2 2026] that the [prevalence of hypertension] in [California] [will] [fall] by [407 percent] by [Monday, Nov 18, 2026].\n",
    "- health examples for template 4:\n",
    "    7. According to a [Olivia Martinez] from [Stanford University], on [08/21/2024], the prevalence of [type 2 diabetes in adults] [is expected to] [increase] beyond [8.5 percent] in the timeframe of [Q3 of 2029].\n",
    "    8. According to [Rachel Kim, MD] from the [University of California], on [Fri, July 12, 2024], the prevalence of [type 2 diabetes in adults] [may] [increase] as much as [30,000,000, reflecting a 1209 percent increase] by [21 Aug 2024].\n",
    "- health examples for template 5:\n",
    "    9. In [2025-08-21], the [average weekly exercise hours] in [United States] has a [probability] of [20 percent to reach 30k], as predicted by [Emily Davis, Harvard School of Public Health] on [21 Oct 24].\n",
    "    10. In [Quarter of 2027], the [average weekly walking hours] in [Atlanta] is [expected to rise] by [15%], as predicted by the [Monique, National Institutes of Health] on [Sun, February 20, 2024].\"\"\""
   ]
  },
  {
   "cell_type": "code",
   "execution_count": 20,
   "metadata": {},
   "outputs": [],
   "source": [
    "health_input_dict = {\n",
    "    \"prediction_domain\": \"health\",\n",
    "    \"prediction_domain_attribute\": health_attributes,\n",
    "    \"domain_requirements\": health_requirements,\n",
    "    \"domain_examples\": health_examples,\n",
    "    \"predictions_N\": predictions_N\n",
    "}\n",
    "\n",
    "health_prompt_output = pipeline_prompt.format(**health_input_dict)\n",
    "# print(health_prompt_output)\n",
    "\n",
    "# domain = \"health\" \n",
    "\n",
    "\n",
    "# health_df = llama_generation_model.generate_predictions(health_prompt_output, label, domain)\n",
    "# weather_df"
   ]
  },
  {
   "cell_type": "markdown",
   "metadata": {},
   "source": [
    "### Generate Policy Predictions"
   ]
  },
  {
   "cell_type": "code",
   "execution_count": 21,
   "metadata": {},
   "outputs": [],
   "source": [
    "policy_attributes = \"\"\"election outcomes, economic reforms, legislative impacts.\"\"\"\n",
    "policy_requirements = \"\"\"- Should be based on real-world policy reports.\n",
    "    - Suppose the time when $p$ was made is during an election cycle or non-election cycles.\n",
    "    - Include policies & laws, from all sectors such as consumer staples, energy, finance, health care, industrials, materials, media, real estate, retail, technology, utilities, defense, etc.\"\"\"\n",
    "\n",
    "policy_examples = \"\"\"\n",
    "- policy examples for template 1:\n",
    "    1. On [Monday, December 16, 2024], [President John Doe] forecasts that the [unemployment rate] at [the United States] [will likely] [decrease] by [2%] in [2025 Q1].\n",
    "    2. On [Tue, November 19, 2024], [Dr. Jane Smith] foresee that the [population growth rate] in [California] [is likely to] [decrease] by [5 percent to 20 billion] in [08/21/2025].\n",
    "- policy examples for template 2:\n",
    "    3. In [October 2024], [Senator Emily Johnson] from [the Senate Committee on Finance], envisions that the [inflation rate] [should] [rise] from [1.3 percent to 89 percen] in [Quarter 3 of 2028].\n",
    "    4. In [8/15/2027], [Governor Michael Brown] from [the State of Texas], predicts that the [number of registered voters] [will] [fall] under [5B] in [Dec of 2029].\n",
    "- policy examples for template 3:\n",
    "    5. [Dija Gabe in the Congressional Budget Office] predicts on [23 October 2024] that [national debt] in [USA] [may] [stay stable] at [20 million] in [2027 Quarter 4].\n",
    "    6. [Dr. Sarah Lee] foresee in [Q2 2026] that the [median household income] in [NY] [should] [fall] by [629 percent to $15,000] on [Monday, Nov 18, 2026].\n",
    "- policy examples for template 4:\n",
    "    7. According to a [General Robert Williams] from [the Department of Defense], on [08/21/2024], the [number of active-duty soldiers] [is expected to] [increase] beyond [$10,000] in the timeframe of [Q3 of 2029].\n",
    "    8. According to [Dr. Olivia Martinez] from [the Census Bureau], on [Fri, July 12, 2024], the [population density] in [urban areas] [is likely to] [increase] as much as [100,000,000, reflecting a 1209 percent increase] by [21 Aug 2024].\n",
    "- policy examples for template 5:\n",
    "    9. In [2025-08-21], the [number of citizens] in [Thomson, GA, 30824] has a [probability] of [92 percent to reach 30k] [decrease], as predicted by [Shirly Tisdale, a policy reporter] on [21 Oct 24].\n",
    "    10. In [Quarter of 2027], the  [number of Navy members] in [the United States] [is expected] to be [300K, which is a 15%] [rise], as predicted by [a policy analyst] on [Sun, February 20, 2024].\"\"\""
   ]
  },
  {
   "cell_type": "code",
   "execution_count": 22,
   "metadata": {},
   "outputs": [],
   "source": [
    "policy_input_dict = {\n",
    "    \"prediction_domain\": \"policy\",\n",
    "    \"prediction_domain_attribute\": policy_attributes,\n",
    "    \"domain_requirements\": policy_requirements,\n",
    "    \"domain_examples\": policy_examples,\n",
    "    \"predictions_N\": predictions_N\n",
    "}\n",
    "\n",
    "policy_prompt_output = pipeline_prompt.format(**policy_input_dict)\n",
    "# print(policy_prompt_output)\n",
    "# domain = \"policy\" \n",
    "\n",
    "# policy_df = llama_generation_model.generate_predictions(policy_prompt_output, label, domain)\n",
    "# policy_df"
   ]
  },
  {
   "cell_type": "markdown",
   "metadata": {},
   "source": [
    "### Combine Domain Predictions"
   ]
  },
  {
   "cell_type": "code",
   "execution_count": 23,
   "metadata": {},
   "outputs": [],
   "source": [
    "# predictions_df = DataProcessing.concat_dfs([financial_df, weather_df, health_df, policy_df])\n",
    "# predictions_df"
   ]
  },
  {
   "cell_type": "code",
   "execution_count": 24,
   "metadata": {},
   "outputs": [],
   "source": [
    "# updated_predictions_df = DataProcessing.reformat_df_with_template_number(predictions_df, col_name=\"Base Sentence\")\n",
    "# updated_predictions_df"
   ]
  },
  {
   "cell_type": "markdown",
   "metadata": {},
   "source": [
    "## LangChain Templates for Any Domain Non-Predictions"
   ]
  },
  {
   "cell_type": "code",
   "execution_count": 25,
   "metadata": {},
   "outputs": [],
   "source": [
    "full_non_prediction_template = \"\"\"{non_prediction_properties}\n",
    "\n",
    "{non_prediction_requirements}\n",
    "\n",
    "{non_prediction_examples}\"\"\"\n",
    "full_non_prediction_prompt = PromptTemplate.from_template(full_non_prediction_template)"
   ]
  },
  {
   "cell_type": "code",
   "execution_count": 26,
   "metadata": {},
   "outputs": [],
   "source": [
    "non_prediction_properties_template = \"\"\"Generate any sentence that's not a prediction, which we name non-prediction. A prediction is below with variables\n",
    "    1. $p_p$, {prediction_domain} person that predicted $p$\n",
    "        - Can be a person (with a name) or a {prediction_domain} person such as a {prediction_domain} reporter, {prediction_domain} analyst, {prediction_domain} expert, {prediction_domain} top executive, {prediction_domain} senior level person, etc).\n",
    "    2. $p_o$, {prediction_domain} organization \n",
    "        - Can only be an organization or entity that is associated with the {prediction_domain} prediction.\n",
    "    3. $p_t$, current time when $p$ was made\n",
    "        - Time is the exact moment that can be measured in day, hour, minute, second, etc.\n",
    "    4. $p_f$, forecast time when $p$ is expected to come to fruition\n",
    "        - Forecast can be from a second to anytime in the future.\n",
    "        - Answers the questions: \"How far to go out?\" or \"Where to stop?\".\n",
    "    5. $p_a$, {prediction_domain} prediction attribute\n",
    "        - Measurable domain-specific attributes such as various quantifiable metrics relevant to the {prediction_domain} domain.\n",
    "    6. $p_s$, slope that indicates the direction of change in $p_a$\n",
    "        - Change of directions can be rise/increase/as much as, fall/decrease/as little as, change, stay stable, high/low chance/probability/degree of, etc.\n",
    "    7. $p_m$, metric outcome\n",
    "        - How much will the $p_a$ $p_s$?\n",
    "    8. $p_v$, future verb tense\n",
    "        - A verb that is associated with the future such as will, would, be going to, should, etc.\n",
    "    9. $p_l$, location\n",
    "        - The location is attached to attribute $p_a$ if {prediction_domain} == 'weather'\n",
    "    \"\"\"\n",
    "non_prediction_properties_prompt = PromptTemplate.from_template(non_prediction_properties_template)"
   ]
  },
  {
   "cell_type": "code",
   "execution_count": 27,
   "metadata": {},
   "outputs": [],
   "source": [
    "non_prediction_requirements = \"\"\" requirements to use for each non-prediction:\n",
    "\n",
    "    - Should be based on real-world {prediction_domain} data and not hallucinate.\n",
    "    - Should be a simple sentence (non-prediction) (and NOT compounding using \"and\" or \"or\").\n",
    "    - The prediction should be unique and not repeated.\n",
    "    - Do not number the non-predictions.\n",
    "    - Do not say, \"Here are 10 unique non-predictions based on the provided templates and examples:\" in the prompt.\n",
    "    - Do not use any of the examples in the prompt.\n",
    "    - In front of every non-prodiction, put the template number in the format of \"T0:\" and only use \"T0:\" as the template number.\n",
    "    - Should be between 10 to 30 words.\"\"\"\n",
    "non_prediction_requirements_prompt = PromptTemplate.from_template(non_prediction_requirements)"
   ]
  },
  {
   "cell_type": "code",
   "execution_count": 28,
   "metadata": {},
   "outputs": [],
   "source": [
    "non_prediction_examples_template = \"\"\"Here are some examples of {prediction_domain} non-predictions:\n",
    "\n",
    "{domain_examples}\n",
    "\n",
    "With the above, generate a unique set of {non_predictions_N} non-predictions. Think from the perspective of an {prediction_domain} person.\"\"\"\n",
    "non_prediction_examples_prompt = PromptTemplate.from_template(non_prediction_examples_template)"
   ]
  },
  {
   "cell_type": "code",
   "execution_count": 29,
   "metadata": {},
   "outputs": [],
   "source": [
    "non_prediction_input_prompts = [\n",
    "    (\"non_prediction_properties\", non_prediction_properties_prompt),\n",
    "    (\"non_prediction_requirements\", non_prediction_requirements_prompt),\n",
    "    (\"non_prediction_examples\", non_prediction_examples_prompt),\n",
    "]\n",
    "\n",
    "non_prediction_pipeline_prompt = PipelinePromptTemplate(\n",
    "    final_prompt=full_non_prediction_prompt, pipeline_prompts=non_prediction_input_prompts\n",
    ")"
   ]
  },
  {
   "cell_type": "markdown",
   "metadata": {},
   "source": [
    "## Generate Non-Predictions\n",
    "\n",
    "- Model isn't generating the specified amount, so will loop for amount wanted."
   ]
  },
  {
   "cell_type": "code",
   "execution_count": 30,
   "metadata": {},
   "outputs": [],
   "source": [
    "non_predictions_N = 5"
   ]
  },
  {
   "cell_type": "code",
   "execution_count": 31,
   "metadata": {},
   "outputs": [],
   "source": [
    "non_prediction_attributes = \"\"\"Any sentence that does not include prediction variables such as $p$, $p_s$, $p_t$, $p_f$, $p_a$, $p_m$, $p_v$.\"\"\"\n",
    "\n",
    "non_prediction_examples = \"\"\"\n",
    "- non-prediction examples for template 0:\n",
    "    1. The cat sat on the mat and looked out the window.\n",
    "    2. She enjoys reading books on a rainy afternoon.\n",
    "    3. The quick brown fox jumps over the lazy dog.\n",
    "    4. He likes to play basketball with his friends on weekends.\n",
    "    5. The sun sets in the west, painting the sky with hues of orange.\n",
    "    6. They went for a hike in the mountains and enjoyed the view.\n",
    "    7. The coffee shop on the corner serves the best lattes in town.\n",
    "    8. She baked a cake for her friend's birthday party.\n",
    "    9. The children played in the park until it got dark.\n",
    "    10. He wrote a letter to his grandmother, telling her about his new job.\"\"\"\n"
   ]
  },
  {
   "cell_type": "code",
   "execution_count": 32,
   "metadata": {},
   "outputs": [],
   "source": [
    "non_predictions_input_dict = {\n",
    "    \"prediction_domain\": \"any\",\n",
    "    \"any_non_prediction_domain_attribute\": non_prediction_attributes,\n",
    "    \"domain_examples\": non_prediction_examples,\n",
    "    \"non_predictions_N\": non_predictions_N\n",
    "}\n",
    "\n",
    "non_prediction_prompt_output = non_prediction_pipeline_prompt.format(**non_predictions_input_dict)\n",
    "# print(non_prediction_prompt_output)\n",
    "\n",
    "# label = 0\n",
    "# domain = \"any\"\n",
    "\n",
    "# non_predictions_df = llama_generation_model.generate_predictions(non_prediction_prompt_output, label, domain)\n",
    "# non_predictions_df"
   ]
  },
  {
   "cell_type": "code",
   "execution_count": 33,
   "metadata": {},
   "outputs": [],
   "source": [
    "# updated_non_predictions_df = DataProcessing.reformat_df_with_template_number(non_predictions_df, col_name=\"Base Sentence\")\n",
    "# updated_non_predictions_df"
   ]
  },
  {
   "cell_type": "code",
   "execution_count": 34,
   "metadata": {},
   "outputs": [
    {
     "name": "stdout",
     "output_type": "stream",
     "text": [
      "0\n"
     ]
    }
   ],
   "source": [
    "# List of text generation models\n",
    "\n",
    "# llama_versatile_generation_model = LlamaVersatileTextGenerationModel()\n",
    "# llama_instant_generation_model = LlamaInstantTextGenerationModel()\n",
    "# llama_70b_8192_generation_model = Llama70B8192TextGenerationModel()\n",
    "# llama_8b_8192_generation_model = Llama8B8192TextGenerationModel()\n",
    "# mixtral_generation_model = MixtralTextGenerationModel()\n",
    "\n",
    "text_generation_models = [llama_versatile_generation_model]\n",
    "# text_generation_models = [llama_instant_generation_model, llama_three_seventy_generation_model]\n",
    "\n",
    "log_dir = 'log_text_generation'\n",
    "os.makedirs(log_dir, exist_ok=True)\n",
    "\n",
    "# Configure logging to use the specified directory\n",
    "# log_filename = os.path.join(log_dir, 'app.log')\n",
    "# log_files.logging.basicConfig(filename=log_filename, filemode='w', format='%(name)s - %(levelname)s - %(message)s', level=log_files.logging.INFO)\n",
    "\n",
    "# List of text generation models\n",
    "# text_generation_models = [llama_versatile_generation_model, llama_instant_generation_model, llama_70b_8192_generation_model, llama_8b_8192_generation_model, mixtral_generation_model]\n",
    "\n",
    "# Batch size\n",
    "batch_size = 1\n",
    "total_predictions = batch_size * 1 # ensure batch_size is a factor of total_predictions\n",
    "\n",
    "# List to store all DataFrames\n",
    "dfs = []\n",
    "\n",
    "# List of domains\n",
    "domains = [\"finance\", \"weather\", \"health\", \"policy\"]\n",
    "\n",
    "# Dictionary of prompt outputs for each domain\n",
    "prompt_outputs = {\n",
    "    \"finance\": financial_prompt_output,\n",
    "    \"weather\": weather_prompt_output,\n",
    "    \"health\": health_prompt_output,\n",
    "    \"policy\": policy_prompt_output\n",
    "}\n",
    "\n",
    "# Outer loop: Iterate until total predictions per model is reached\n",
    "for batch_idx in range(total_predictions // batch_size):\n",
    "    print(batch_idx)\n",
    "    batch_dfs = []\n",
    "    \n",
    "    # Middle loop: Iterate over models\n",
    "    for text_generation_model in text_generation_models:\n",
    "        \n",
    "        # Inner loop: Iterate over domains\n",
    "        for domain in domains:\n",
    "            prompt_output = prompt_outputs[domain]\n",
    "            df = text_generation_model.generate_predictions(prompt_output, label=1, domain=domain)\n",
    "            df[\"Batch Index\"] = batch_idx\n",
    "            batch_dfs.append(df)\n",
    "    \n",
    "    # Extend the main DataFrame list with the batch DataFrames\n",
    "    dfs.extend(batch_dfs)"
   ]
  },
  {
   "cell_type": "code",
   "execution_count": 35,
   "metadata": {},
   "outputs": [
    {
     "name": "stderr",
     "output_type": "stream",
     "text": [
      "2025-02-24 19:50:23,498 INFO     [                                                                                                                                                                                  Base Sentence  \\\n",
      "0               T1: On 2024-10-15, Rachel Patel, a financial analyst, predicts that the operating income at General Motors will likely decrease by from $5 billion to $3 billion in Q2 of 2026.   \n",
      "1                                                                   T2: In 2024, Emily Wilson from Bank of America, forecasts that the stock price will rise from $50 to $75 per share in 2028.   \n",
      "2                                   T3: David Lee, a financial expert, predicts on 08/20/2024 that the research and development expenses at Intel may stay stable at $15 million in Q1 of 2027.   \n",
      "3                                T4: According to a senior executive from Cisco, on 21 August 2024, the gross profit is expected to increase beyond $20,000,000 in the timeframe of Q4 of 2029.   \n",
      "4          T5: In 2025-08-20, the net profit at AT&T has a probability of 12 percent to reach $25,000, which is a decrease, as predicted by Michael Brown, a financial reporter, on 10/10/2024.   \n",
      "5          T1: On Wednesday, November 20, 2024, James Davis, a financial analyst, predicts that the revenue at Verizon will likely increase by from $100 billion to $120 billion in Q3 of 2027.   \n",
      "6                                                       T2: In Q2 of 2025, Kevin White from JPMorgan, envisions that the operating cash flow will fall under 10 percent to $15 billion in 2029.   \n",
      "7                     T3: Christopher Hall, a financial expert, predicts on 2024/08/22 that the operating income at UnitedHealth Group may increase by 15 percent to $20 billion in Q4 of 2028.   \n",
      "8                                             T4: According to a top executive from 3M, on 2024-08-25, the net profit is expected to increase beyond $5,000,000 in the timeframe of Q1 of 2030.   \n",
      "9  T5: In Q4 of 2026, the revenue at Procter & Gamble has a probability of 18 percent to reach $80 billion, which is a rise, as predicted by Olivia Martin, a financial analyst, on 2024-10-12.   \n",
      "\n",
      "   Sentence Label               Model Name   Domain  Batch Index  \n",
      "0               1  llama-3.3-70b-versatile  finance            0  \n",
      "1               1  llama-3.3-70b-versatile  finance            0  \n",
      "2               1  llama-3.3-70b-versatile  finance            0  \n",
      "3               1  llama-3.3-70b-versatile  finance            0  \n",
      "4               1  llama-3.3-70b-versatile  finance            0  \n",
      "5               1  llama-3.3-70b-versatile  finance            0  \n",
      "6               1  llama-3.3-70b-versatile  finance            0  \n",
      "7               1  llama-3.3-70b-versatile  finance            0  \n",
      "8               1  llama-3.3-70b-versatile  finance            0  \n",
      "9               1  llama-3.3-70b-versatile  finance            0  ,                                                                                                                                                                                                                                                Base Sentence  \\\n",
      "0  T1: On 2024-10-15, Dr. Thompson, a weather expert at the National Oceanic and Atmospheric Administration, forecasts that the precipitation levels at the Weather Service Office in Atlanta will likely decrease by from 2 inches to 1 inch in 2025-03-10.   \n",
      "1                                                                               T2: In Q4 of 2024, Emily Patel from the European Centre for Medium-Range Weather Forecasts envisions that the humidity will rise by from 40% to 60% in London by 2026-06-15.   \n",
      "2                                                                            T3: Michael Davis, a senior meteorologist from the Meteorological Office, predicts on 2024-08-20 that the temperature in Phoenix will fall by from 100°F to 90°F in 2025-02-20.   \n",
      "3                                     T4: According to a weather analyst from the World Meteorological Organization, on 2024-11-10, the snowfall levels in Boston are expected to increase beyond from 5 inches to 10 inches in the timeframe of 2026-01-01.   \n",
      "4                                              T5: In 2027-09-01, the wind speed at the National Weather Center in Oklahoma City is expected to be from 10 mph to 15 mph, which is a 20% increase, as predicted by Dr. Lee, a weather expert, on 2024-07-15.   \n",
      "5                                                         T1: On 2024-09-25, James Wilson, a weather reporter at the Australian Bureau of Meteorology, forecasts that the average temperature in Sydney will likely rise by from 15°C to 20°C in 2026-11-25.   \n",
      "6                                                                                      T2: In 2025-01-01, David Kim from the Korean Meteorological Administration predicts that the air quality index in Seoul will decrease by from 50 to 30 in 2027-03-01.   \n",
      "7                                                                          T3: Dr. Rodriguez, a top executive from the National Hurricane Center, predicts on 2024-06-01 that the storm surge in Miami will increase by from 2 feet to 4 feet in 2026-08-15.   \n",
      "8                                                    T4: According to a weather senior level person from the European Weather Centre, on 2024-03-15, the fog levels in Paris are expected to decrease beyond from 50% to 30% in the timeframe of 2025-10-01.   \n",
      "9                                             T5: In 2028-02-20, the heat index at the Indian Meteorological Department in New Delhi is expected to be from 35°C to 40°C, which is a 10% rise, as predicted by Dr. Sharma, a weather analyst, on 2024-05-10.   \n",
      "\n",
      "   Sentence Label               Model Name   Domain  Batch Index  \n",
      "0               1  llama-3.3-70b-versatile  weather            0  \n",
      "1               1  llama-3.3-70b-versatile  weather            0  \n",
      "2               1  llama-3.3-70b-versatile  weather            0  \n",
      "3               1  llama-3.3-70b-versatile  weather            0  \n",
      "4               1  llama-3.3-70b-versatile  weather            0  \n",
      "5               1  llama-3.3-70b-versatile  weather            0  \n",
      "6               1  llama-3.3-70b-versatile  weather            0  \n",
      "7               1  llama-3.3-70b-versatile  weather            0  \n",
      "8               1  llama-3.3-70b-versatile  weather            0  \n",
      "9               1  llama-3.3-70b-versatile  weather            0  ,                                                                                                                                                                                                                     Base Sentence  \\\n",
      "0                                        T1: On 2024-10-15, Dr. David Lee, a health expert from the World Health Organization, predicts that the obesity rate at the European Union will likely decrease by 8 percent in 2026 Q2.   \n",
      "1                                         T2: In Q4 of 2024, Rachel Patel, a researcher from the National Institutes of Health, envisions that the average daily sugar intake will rise from 20 to 40 grams in Quarter 1 of 2028.   \n",
      "2                                                              T3: Dr. Christopher Brooks predicts on 2024/08/20 that the global vaccination rate for influenza in the United States should stay stable at 90 percent in 2027 Q1.   \n",
      "3  T4: According to a report by Dr. Karen Thompson from the Centers for Disease Control and Prevention, on 21 August 2024, the prevalence of heart disease is expected to increase beyond 12 percent in the timeframe of 2029 Q3.   \n",
      "4    T5: In 2025-08-20, the average weekly exercise hours in Australia has a probability of 15 percent to reach 25 hours, as predicted by Dr. Lisa Nguyen, a health analyst from the University of Melbourne, on 15 October 2024.   \n",
      "5             T1: On Wednesday, 2024-11-20, Dr. Peter Hall, a senior level person from the American Heart Association, forecasts that the blood pressure rate at the United States will likely decrease by 10 percent in 2026 Q4.   \n",
      "6                      T2: In 2024-10-10, Dr. Sophia Rodriguez, a physician assistant from the University of California, foresee that the average daily caloric intake will fall from 2500 to 2000 calories in Quarter 2 of 2027.   \n",
      "7                                                                           T3: Dr. Michael Brown predicts on 2024/11/15 that the prevalence of chronic illnesses in the United Kingdom should decrease by 12 percent in 2028 Q2.   \n",
      "8                                       T4: According to a report by Dr. Daniel Kim from the Stanford University, on 2024-08-25, the average life expectancy is expected to increase beyond 80 years in the timeframe of 2030 Q1.   \n",
      "9                       T5: In Q3 of 2027, the average weekly walking hours in Canada is expected to rise by 20 percent, as predicted by Dr. Emily Taylor, a health expert from the National Institutes of Health, on 2024-02-25.   \n",
      "\n",
      "   Sentence Label               Model Name  Domain  Batch Index  \n",
      "0               1  llama-3.3-70b-versatile  health            0  \n",
      "1               1  llama-3.3-70b-versatile  health            0  \n",
      "2               1  llama-3.3-70b-versatile  health            0  \n",
      "3               1  llama-3.3-70b-versatile  health            0  \n",
      "4               1  llama-3.3-70b-versatile  health            0  \n",
      "5               1  llama-3.3-70b-versatile  health            0  \n",
      "6               1  llama-3.3-70b-versatile  health            0  \n",
      "7               1  llama-3.3-70b-versatile  health            0  \n",
      "8               1  llama-3.3-70b-versatile  health            0  \n",
      "9               1  llama-3.3-70b-versatile  health            0  ,                                                                                                                                                                                                                       Base Sentence  \\\n",
      "0                                                        T1: On 2024-10-15, policy expert, Rachel Kim, predicts that the economic growth rate at the European Union will likely rise by from 2.5 percent to 5.5 percent in 2026 Q2.   \n",
      "1                     T2: In Q4 of 2024, Senator James Davis from the Senate Committee on Energy and Natural Resources, forecasts that the renewable energy consumption will should increase from 10 percent to 30 percent in 2028.   \n",
      "2                                                              T3: Dr. David Lee predicts on 21 August 2024 that the healthcare expenditure in the United States may stay stable at from $3.5 trillion to $4.5 trillion in 2029 Q1.   \n",
      "3                            T4: According to a policy analyst, Emily Chen, from the Congressional Budget Office, on 2024/08/20, the federal budget deficit is expected to decrease beyond $1 trillion in the timeframe of 2027 Q3.   \n",
      "4      T5: In 2025-08-20, the number of electric vehicles in California has a probability of from 50 percent to 70 percent to reach 5 million, which is a rise, as predicted by policy reporter, Michael Brown, on 15 October 2024.   \n",
      "5                       T1: On Wednesday, November 20, 2024, policy senior level person, Kevin White, predicts that the unemployment rate at the United Kingdom will likely decrease by from 3.5 percent to 2.5 percent in 2026 Q4.   \n",
      "6                                                        T2: In 2024-08-22, Governor Sarah Taylor from the State of New York, envisions that the number of registered voters will rise from 10 million to 15 million in Q2 of 2028.   \n",
      "7                                                                                       T3: Policy expert, Daniel Hall, predicts on 2024/11/15 that the inflation rate in Japan may fall by from 2 percent to 1 percent in 2027 Q1.   \n",
      "8                     T4: According to a policy top executive, Olivia Patel, from the Department of Commerce, on 08/21/2024, the international trade volume is expected to increase beyond $20 billion in the timeframe of 2029 Q2.   \n",
      "9  T5: In Q3 of 2027, the number of students in higher education in Australia has a probability of from 80 percent to 90 percent to reach 3 million, which is a rise, as predicted by policy analyst, William Lewis, on 2024-10-18.   \n",
      "\n",
      "   Sentence Label               Model Name  Domain  Batch Index  \n",
      "0               1  llama-3.3-70b-versatile  policy            0  \n",
      "1               1  llama-3.3-70b-versatile  policy            0  \n",
      "2               1  llama-3.3-70b-versatile  policy            0  \n",
      "3               1  llama-3.3-70b-versatile  policy            0  \n",
      "4               1  llama-3.3-70b-versatile  policy            0  \n",
      "5               1  llama-3.3-70b-versatile  policy            0  \n",
      "6               1  llama-3.3-70b-versatile  policy            0  \n",
      "7               1  llama-3.3-70b-versatile  policy            0  \n",
      "8               1  llama-3.3-70b-versatile  policy            0  \n",
      "9               1  llama-3.3-70b-versatile  policy            0  ]\n",
      "2025-02-24 19:50:23,519 DEBUG    foo\n",
      "2025-02-24 19:50:23,520 INFO     [                                                                                                                                                                                  Base Sentence  \\\n",
      "0               T1: On 2024-10-15, Rachel Patel, a financial analyst, predicts that the operating income at General Motors will likely decrease by from $5 billion to $3 billion in Q2 of 2026.   \n",
      "1                                                                   T2: In 2024, Emily Wilson from Bank of America, forecasts that the stock price will rise from $50 to $75 per share in 2028.   \n",
      "2                                   T3: David Lee, a financial expert, predicts on 08/20/2024 that the research and development expenses at Intel may stay stable at $15 million in Q1 of 2027.   \n",
      "3                                T4: According to a senior executive from Cisco, on 21 August 2024, the gross profit is expected to increase beyond $20,000,000 in the timeframe of Q4 of 2029.   \n",
      "4          T5: In 2025-08-20, the net profit at AT&T has a probability of 12 percent to reach $25,000, which is a decrease, as predicted by Michael Brown, a financial reporter, on 10/10/2024.   \n",
      "5          T1: On Wednesday, November 20, 2024, James Davis, a financial analyst, predicts that the revenue at Verizon will likely increase by from $100 billion to $120 billion in Q3 of 2027.   \n",
      "6                                                       T2: In Q2 of 2025, Kevin White from JPMorgan, envisions that the operating cash flow will fall under 10 percent to $15 billion in 2029.   \n",
      "7                     T3: Christopher Hall, a financial expert, predicts on 2024/08/22 that the operating income at UnitedHealth Group may increase by 15 percent to $20 billion in Q4 of 2028.   \n",
      "8                                             T4: According to a top executive from 3M, on 2024-08-25, the net profit is expected to increase beyond $5,000,000 in the timeframe of Q1 of 2030.   \n",
      "9  T5: In Q4 of 2026, the revenue at Procter & Gamble has a probability of 18 percent to reach $80 billion, which is a rise, as predicted by Olivia Martin, a financial analyst, on 2024-10-12.   \n",
      "\n",
      "   Sentence Label               Model Name   Domain  Batch Index  \n",
      "0               1  llama-3.3-70b-versatile  finance            0  \n",
      "1               1  llama-3.3-70b-versatile  finance            0  \n",
      "2               1  llama-3.3-70b-versatile  finance            0  \n",
      "3               1  llama-3.3-70b-versatile  finance            0  \n",
      "4               1  llama-3.3-70b-versatile  finance            0  \n",
      "5               1  llama-3.3-70b-versatile  finance            0  \n",
      "6               1  llama-3.3-70b-versatile  finance            0  \n",
      "7               1  llama-3.3-70b-versatile  finance            0  \n",
      "8               1  llama-3.3-70b-versatile  finance            0  \n",
      "9               1  llama-3.3-70b-versatile  finance            0  ,                                                                                                                                                                                                                                                Base Sentence  \\\n",
      "0  T1: On 2024-10-15, Dr. Thompson, a weather expert at the National Oceanic and Atmospheric Administration, forecasts that the precipitation levels at the Weather Service Office in Atlanta will likely decrease by from 2 inches to 1 inch in 2025-03-10.   \n",
      "1                                                                               T2: In Q4 of 2024, Emily Patel from the European Centre for Medium-Range Weather Forecasts envisions that the humidity will rise by from 40% to 60% in London by 2026-06-15.   \n",
      "2                                                                            T3: Michael Davis, a senior meteorologist from the Meteorological Office, predicts on 2024-08-20 that the temperature in Phoenix will fall by from 100°F to 90°F in 2025-02-20.   \n",
      "3                                     T4: According to a weather analyst from the World Meteorological Organization, on 2024-11-10, the snowfall levels in Boston are expected to increase beyond from 5 inches to 10 inches in the timeframe of 2026-01-01.   \n",
      "4                                              T5: In 2027-09-01, the wind speed at the National Weather Center in Oklahoma City is expected to be from 10 mph to 15 mph, which is a 20% increase, as predicted by Dr. Lee, a weather expert, on 2024-07-15.   \n",
      "5                                                         T1: On 2024-09-25, James Wilson, a weather reporter at the Australian Bureau of Meteorology, forecasts that the average temperature in Sydney will likely rise by from 15°C to 20°C in 2026-11-25.   \n",
      "6                                                                                      T2: In 2025-01-01, David Kim from the Korean Meteorological Administration predicts that the air quality index in Seoul will decrease by from 50 to 30 in 2027-03-01.   \n",
      "7                                                                          T3: Dr. Rodriguez, a top executive from the National Hurricane Center, predicts on 2024-06-01 that the storm surge in Miami will increase by from 2 feet to 4 feet in 2026-08-15.   \n",
      "8                                                    T4: According to a weather senior level person from the European Weather Centre, on 2024-03-15, the fog levels in Paris are expected to decrease beyond from 50% to 30% in the timeframe of 2025-10-01.   \n",
      "9                                             T5: In 2028-02-20, the heat index at the Indian Meteorological Department in New Delhi is expected to be from 35°C to 40°C, which is a 10% rise, as predicted by Dr. Sharma, a weather analyst, on 2024-05-10.   \n",
      "\n",
      "   Sentence Label               Model Name   Domain  Batch Index  \n",
      "0               1  llama-3.3-70b-versatile  weather            0  \n",
      "1               1  llama-3.3-70b-versatile  weather            0  \n",
      "2               1  llama-3.3-70b-versatile  weather            0  \n",
      "3               1  llama-3.3-70b-versatile  weather            0  \n",
      "4               1  llama-3.3-70b-versatile  weather            0  \n",
      "5               1  llama-3.3-70b-versatile  weather            0  \n",
      "6               1  llama-3.3-70b-versatile  weather            0  \n",
      "7               1  llama-3.3-70b-versatile  weather            0  \n",
      "8               1  llama-3.3-70b-versatile  weather            0  \n",
      "9               1  llama-3.3-70b-versatile  weather            0  ,                                                                                                                                                                                                                     Base Sentence  \\\n",
      "0                                        T1: On 2024-10-15, Dr. David Lee, a health expert from the World Health Organization, predicts that the obesity rate at the European Union will likely decrease by 8 percent in 2026 Q2.   \n",
      "1                                         T2: In Q4 of 2024, Rachel Patel, a researcher from the National Institutes of Health, envisions that the average daily sugar intake will rise from 20 to 40 grams in Quarter 1 of 2028.   \n",
      "2                                                              T3: Dr. Christopher Brooks predicts on 2024/08/20 that the global vaccination rate for influenza in the United States should stay stable at 90 percent in 2027 Q1.   \n",
      "3  T4: According to a report by Dr. Karen Thompson from the Centers for Disease Control and Prevention, on 21 August 2024, the prevalence of heart disease is expected to increase beyond 12 percent in the timeframe of 2029 Q3.   \n",
      "4    T5: In 2025-08-20, the average weekly exercise hours in Australia has a probability of 15 percent to reach 25 hours, as predicted by Dr. Lisa Nguyen, a health analyst from the University of Melbourne, on 15 October 2024.   \n",
      "5             T1: On Wednesday, 2024-11-20, Dr. Peter Hall, a senior level person from the American Heart Association, forecasts that the blood pressure rate at the United States will likely decrease by 10 percent in 2026 Q4.   \n",
      "6                      T2: In 2024-10-10, Dr. Sophia Rodriguez, a physician assistant from the University of California, foresee that the average daily caloric intake will fall from 2500 to 2000 calories in Quarter 2 of 2027.   \n",
      "7                                                                           T3: Dr. Michael Brown predicts on 2024/11/15 that the prevalence of chronic illnesses in the United Kingdom should decrease by 12 percent in 2028 Q2.   \n",
      "8                                       T4: According to a report by Dr. Daniel Kim from the Stanford University, on 2024-08-25, the average life expectancy is expected to increase beyond 80 years in the timeframe of 2030 Q1.   \n",
      "9                       T5: In Q3 of 2027, the average weekly walking hours in Canada is expected to rise by 20 percent, as predicted by Dr. Emily Taylor, a health expert from the National Institutes of Health, on 2024-02-25.   \n",
      "\n",
      "   Sentence Label               Model Name  Domain  Batch Index  \n",
      "0               1  llama-3.3-70b-versatile  health            0  \n",
      "1               1  llama-3.3-70b-versatile  health            0  \n",
      "2               1  llama-3.3-70b-versatile  health            0  \n",
      "3               1  llama-3.3-70b-versatile  health            0  \n",
      "4               1  llama-3.3-70b-versatile  health            0  \n",
      "5               1  llama-3.3-70b-versatile  health            0  \n",
      "6               1  llama-3.3-70b-versatile  health            0  \n",
      "7               1  llama-3.3-70b-versatile  health            0  \n",
      "8               1  llama-3.3-70b-versatile  health            0  \n",
      "9               1  llama-3.3-70b-versatile  health            0  ,                                                                                                                                                                                                                       Base Sentence  \\\n",
      "0                                                        T1: On 2024-10-15, policy expert, Rachel Kim, predicts that the economic growth rate at the European Union will likely rise by from 2.5 percent to 5.5 percent in 2026 Q2.   \n",
      "1                     T2: In Q4 of 2024, Senator James Davis from the Senate Committee on Energy and Natural Resources, forecasts that the renewable energy consumption will should increase from 10 percent to 30 percent in 2028.   \n",
      "2                                                              T3: Dr. David Lee predicts on 21 August 2024 that the healthcare expenditure in the United States may stay stable at from $3.5 trillion to $4.5 trillion in 2029 Q1.   \n",
      "3                            T4: According to a policy analyst, Emily Chen, from the Congressional Budget Office, on 2024/08/20, the federal budget deficit is expected to decrease beyond $1 trillion in the timeframe of 2027 Q3.   \n",
      "4      T5: In 2025-08-20, the number of electric vehicles in California has a probability of from 50 percent to 70 percent to reach 5 million, which is a rise, as predicted by policy reporter, Michael Brown, on 15 October 2024.   \n",
      "5                       T1: On Wednesday, November 20, 2024, policy senior level person, Kevin White, predicts that the unemployment rate at the United Kingdom will likely decrease by from 3.5 percent to 2.5 percent in 2026 Q4.   \n",
      "6                                                        T2: In 2024-08-22, Governor Sarah Taylor from the State of New York, envisions that the number of registered voters will rise from 10 million to 15 million in Q2 of 2028.   \n",
      "7                                                                                       T3: Policy expert, Daniel Hall, predicts on 2024/11/15 that the inflation rate in Japan may fall by from 2 percent to 1 percent in 2027 Q1.   \n",
      "8                     T4: According to a policy top executive, Olivia Patel, from the Department of Commerce, on 08/21/2024, the international trade volume is expected to increase beyond $20 billion in the timeframe of 2029 Q2.   \n",
      "9  T5: In Q3 of 2027, the number of students in higher education in Australia has a probability of from 80 percent to 90 percent to reach 3 million, which is a rise, as predicted by policy analyst, William Lewis, on 2024-10-18.   \n",
      "\n",
      "   Sentence Label               Model Name  Domain  Batch Index  \n",
      "0               1  llama-3.3-70b-versatile  policy            0  \n",
      "1               1  llama-3.3-70b-versatile  policy            0  \n",
      "2               1  llama-3.3-70b-versatile  policy            0  \n",
      "3               1  llama-3.3-70b-versatile  policy            0  \n",
      "4               1  llama-3.3-70b-versatile  policy            0  \n",
      "5               1  llama-3.3-70b-versatile  policy            0  \n",
      "6               1  llama-3.3-70b-versatile  policy            0  \n",
      "7               1  llama-3.3-70b-versatile  policy            0  \n",
      "8               1  llama-3.3-70b-versatile  policy            0  \n",
      "9               1  llama-3.3-70b-versatile  policy            0  ]\n"
     ]
    }
   ],
   "source": [
    "formatter = DataFrameFormatter('%(asctime)s %(levelname)-8s %(message)s', n_rows=4)\n",
    "formatter.log_df(dfs)"
   ]
  },
  {
   "cell_type": "code",
   "execution_count": 36,
   "metadata": {},
   "outputs": [
    {
     "data": {
      "text/html": [
       "<div>\n",
       "<style scoped>\n",
       "    .dataframe tbody tr th:only-of-type {\n",
       "        vertical-align: middle;\n",
       "    }\n",
       "\n",
       "    .dataframe tbody tr th {\n",
       "        vertical-align: top;\n",
       "    }\n",
       "\n",
       "    .dataframe thead th {\n",
       "        text-align: right;\n",
       "    }\n",
       "</style>\n",
       "<table border=\"1\" class=\"dataframe\">\n",
       "  <thead>\n",
       "    <tr style=\"text-align: right;\">\n",
       "      <th></th>\n",
       "      <th>root</th>\n",
       "      <th>INFO</th>\n",
       "      <th>[                                                                                                                                                                               Base Sentence  \\</th>\n",
       "    </tr>\n",
       "  </thead>\n",
       "  <tbody>\n",
       "    <tr>\n",
       "      <th>0</th>\n",
       "      <td>0            T1: On 2024-10-15, Olivia Brown, a financial analyst, predicts that the operating income at General Motors will likely decrease by from $5 billion to $3 billion in Q2 of 2026.</td>\n",
       "      <td>None</td>\n",
       "      <td>None</td>\n",
       "    </tr>\n",
       "    <tr>\n",
       "      <th>1</th>\n",
       "      <td>1                                                             T2: In 2024/08/20, Ethan Kim from Bank of America, forecasts that the stock price will rise from $50 to $75 per share in 2028.</td>\n",
       "      <td>None</td>\n",
       "      <td>None</td>\n",
       "    </tr>\n",
       "    <tr>\n",
       "      <th>2</th>\n",
       "      <td>2                         T3: Ava Morales, a financial expert, predicts on 21 August 2024 that the research and development expenses at Pfizer may stay stable at $15 million in Q1 of 2027.</td>\n",
       "      <td>None</td>\n",
       "      <td>None</td>\n",
       "    </tr>\n",
       "    <tr>\n",
       "      <th>3</th>\n",
       "      <td>3                                 T4: According to a senior executive from Cisco, on 2024-11-01, the gross profit is expected to increase beyond $25 million in the timeframe of Q4 of 2029.</td>\n",
       "      <td>None</td>\n",
       "      <td>None</td>\n",
       "    </tr>\n",
       "    <tr>\n",
       "      <th>4</th>\n",
       "      <td>4       T5: In 2026-02-15, the net profit at Intel has a probability of 5 percent to reach $20 billion, which is a decrease, as predicted by Liam Chen, a financial reporter, on 2024/10/10.</td>\n",
       "      <td>None</td>\n",
       "      <td>None</td>\n",
       "    </tr>\n",
       "    <tr>\n",
       "      <th>...</th>\n",
       "      <td>...</td>\n",
       "      <td>...</td>\n",
       "      <td>...</td>\n",
       "    </tr>\n",
       "    <tr>\n",
       "      <th>165</th>\n",
       "      <td>5               1  llama-3.3-70b-versatile  policy            0</td>\n",
       "      <td>None</td>\n",
       "      <td>None</td>\n",
       "    </tr>\n",
       "    <tr>\n",
       "      <th>166</th>\n",
       "      <td>6               1  llama-3.3-70b-versatile  policy            0</td>\n",
       "      <td>None</td>\n",
       "      <td>None</td>\n",
       "    </tr>\n",
       "    <tr>\n",
       "      <th>167</th>\n",
       "      <td>7               1  llama-3.3-70b-versatile  policy            0</td>\n",
       "      <td>None</td>\n",
       "      <td>None</td>\n",
       "    </tr>\n",
       "    <tr>\n",
       "      <th>168</th>\n",
       "      <td>8               1  llama-3.3-70b-versatile  policy            0</td>\n",
       "      <td>None</td>\n",
       "      <td>None</td>\n",
       "    </tr>\n",
       "    <tr>\n",
       "      <th>169</th>\n",
       "      <td>9               1  llama-3.3-70b-versatile  policy            0  ]</td>\n",
       "      <td>None</td>\n",
       "      <td>None</td>\n",
       "    </tr>\n",
       "  </tbody>\n",
       "</table>\n",
       "<p>170 rows × 3 columns</p>\n",
       "</div>"
      ],
      "text/plain": [
       "                                                                                                                                                                                                root  \\\n",
       "0    0            T1: On 2024-10-15, Olivia Brown, a financial analyst, predicts that the operating income at General Motors will likely decrease by from $5 billion to $3 billion in Q2 of 2026.      \n",
       "1    1                                                             T2: In 2024/08/20, Ethan Kim from Bank of America, forecasts that the stock price will rise from $50 to $75 per share in 2028.      \n",
       "2    2                         T3: Ava Morales, a financial expert, predicts on 21 August 2024 that the research and development expenses at Pfizer may stay stable at $15 million in Q1 of 2027.      \n",
       "3    3                                 T4: According to a senior executive from Cisco, on 2024-11-01, the gross profit is expected to increase beyond $25 million in the timeframe of Q4 of 2029.      \n",
       "4    4       T5: In 2026-02-15, the net profit at Intel has a probability of 5 percent to reach $20 billion, which is a decrease, as predicted by Liam Chen, a financial reporter, on 2024/10/10.      \n",
       "..                                                                                                                                                                                               ...   \n",
       "165                                                                                                                                5               1  llama-3.3-70b-versatile  policy            0     \n",
       "166                                                                                                                                6               1  llama-3.3-70b-versatile  policy            0     \n",
       "167                                                                                                                                7               1  llama-3.3-70b-versatile  policy            0     \n",
       "168                                                                                                                                8               1  llama-3.3-70b-versatile  policy            0     \n",
       "169                                                                                                                               9               1  llama-3.3-70b-versatile  policy            0  ]   \n",
       "\n",
       "     INFO  \\\n",
       "0    None   \n",
       "1    None   \n",
       "2    None   \n",
       "3    None   \n",
       "4    None   \n",
       "..    ...   \n",
       "165  None   \n",
       "166  None   \n",
       "167  None   \n",
       "168  None   \n",
       "169  None   \n",
       "\n",
       "    [                                                                                                                                                                               Base Sentence  \\  \n",
       "0                                                                                                                                                                                               None  \n",
       "1                                                                                                                                                                                               None  \n",
       "2                                                                                                                                                                                               None  \n",
       "3                                                                                                                                                                                               None  \n",
       "4                                                                                                                                                                                               None  \n",
       "..                                                                                                                                                                                               ...  \n",
       "165                                                                                                                                                                                             None  \n",
       "166                                                                                                                                                                                             None  \n",
       "167                                                                                                                                                                                             None  \n",
       "168                                                                                                                                                                                             None  \n",
       "169                                                                                                                                                                                             None  \n",
       "\n",
       "[170 rows x 3 columns]"
      ]
     },
     "execution_count": 36,
     "metadata": {},
     "output_type": "execute_result"
    }
   ],
   "source": [
    "df = formatter.open_log_df(log_file_path='../log_text_generation/24Feb2025-1947.log')\n",
    "df"
   ]
  },
  {
   "cell_type": "code",
   "execution_count": null,
   "metadata": {},
   "outputs": [],
   "source": [
    "pd.set_option('display.max_columns', None)\n",
    "pd.set_option('display.max_rows', None)\n",
    "DataProcessing.concat_dfs(dfs)"
   ]
  },
  {
   "cell_type": "code",
   "execution_count": null,
   "metadata": {
    "tags": []
   },
   "outputs": [],
   "source": [
    "# text_generation_models  = [llama_versitile_generation_model, llama_instant_generation_model, llama_three_seventy_generation_model]\n",
    "# # text_generation_models  = [llama_instant_generation_model, llama_three_seventy_generation_model]\n",
    "\n",
    "\n",
    "# # Number of predictions per model\n",
    "# total_predictions = 5\n",
    "\n",
    "# # Batch size\n",
    "# batch_size = 2\n",
    "# dfs = []\n",
    "# # Outer loop: Iterate until total predictions per model is reached\n",
    "# for batch_idx in range(total_predictions // batch_size):\n",
    "#     print(batch_idx)\n",
    "#     batch_dfs = []\n",
    "#     for text_generation_model in text_generation_models:\n",
    "#         financial_df = text_generation_model.generate_predictions(financial_prompt_output, label=1, domain=\"finance\")\n",
    "#         financial_df[\"Batch Index\"] = batch_idx\n",
    "#         batch_dfs.append(financial_df)\n",
    "\n",
    "#         weather_df = text_generation_model.generate_predictions(weather_prompt_output, label=1, domain=\"weather\")\n",
    "#         weather_df[\"Batch Index\"] = batch_idx\n",
    "#         batch_dfs.append(weather_df)\n",
    "        \n",
    "#         health_df = text_generation_model.generate_predictions(health_prompt_output, label=1, domain=\"health\")\n",
    "#         health_df[\"Batch Index\"] = batch_idx\n",
    "#         batch_dfs.append(health_df)\n",
    "        \n",
    "#         policy_df = text_generation_model.generate_predictions(policy_prompt_output, label=1, domain=\"policy\")\n",
    "#         policy_df[\"Batch Index\"] = batch_idx\n",
    "#         batch_dfs.append(policy_df)\n",
    "    \n",
    "#     dfs.extend(batch_dfs)\n",
    "    \n",
    "\n",
    "\n",
    "    # print(updated_predictions_df)\n",
    "    # print(updated_non_predictions_df)\n",
    "\n",
    "# non_predictions_dfs = []\n",
    "# for i in range(4):\n",
    "#     non_predictions_df = LlamaTextGenerationModel.generate_predictions(text=non_prediction_template, label=non_prediction_label, domain=\"any\")\n",
    "#     non_predictions_dfs.extend([non_predictions_df])\n",
    "\n",
    "# non_predictions_df = data_processing.concat_dfs(non_predictions_dfs, ignore_index=True)\n",
    "# non_predictions_df\n",
    "# dfs\n"
   ]
  },
  {
   "cell_type": "code",
   "execution_count": null,
   "metadata": {},
   "outputs": [],
   "source": [
    "# pd.set_option('display.max_columns', None)\n",
    "# pd.set_option('display.max_rows', None)\n",
    "# DataProcessing.concat_dfs(dfs)"
   ]
  },
  {
   "cell_type": "markdown",
   "metadata": {},
   "source": [
    "## Store Predictions and Non-Predictions"
   ]
  },
  {
   "cell_type": "code",
   "execution_count": null,
   "metadata": {
    "tags": []
   },
   "outputs": [],
   "source": [
    "# %store updated_predictions_df\n",
    "# %store updated_non_predictions_df"
   ]
  }
 ],
 "metadata": {
  "kernelspec": {
   "display_name": "predictions",
   "language": "python",
   "name": "python3"
  },
  "language_info": {
   "codemirror_mode": {
    "name": "ipython",
    "version": 3
   },
   "file_extension": ".py",
   "mimetype": "text/x-python",
   "name": "python",
   "nbconvert_exporter": "python",
   "pygments_lexer": "ipython3",
   "version": "3.11.0"
  }
 },
 "nbformat": 4,
 "nbformat_minor": 4
}
